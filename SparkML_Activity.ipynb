{
  "nbformat": 4,
  "nbformat_minor": 0,
  "metadata": {
    "colab": {
      "provenance": [],
      "include_colab_link": true
    },
    "kernelspec": {
      "name": "python3",
      "display_name": "Python 3"
    },
    "language_info": {
      "name": "python"
    }
  },
  "cells": [
    {
      "cell_type": "markdown",
      "metadata": {
        "id": "view-in-github",
        "colab_type": "text"
      },
      "source": [
        "<a href=\"https://colab.research.google.com/github/ask-ajay/SparkML_Activity/blob/main/SparkML_Activity.ipynb\" target=\"_parent\"><img src=\"https://colab.research.google.com/assets/colab-badge.svg\" alt=\"Open In Colab\"/></a>"
      ]
    },
    {
      "cell_type": "markdown",
      "source": [
        "# Mount G Drive"
      ],
      "metadata": {
        "id": "cZlPegxYRngY"
      }
    },
    {
      "cell_type": "code",
      "source": [
        "from google.colab import drive\n",
        "drive.mount('/content/drive')"
      ],
      "metadata": {
        "colab": {
          "base_uri": "https://localhost:8080/"
        },
        "id": "c1a_NRpgRmwq",
        "outputId": "d2902062-c374-4e3c-a56b-9e6320cfeaed"
      },
      "execution_count": null,
      "outputs": [
        {
          "output_type": "stream",
          "name": "stdout",
          "text": [
            "Mounted at /content/drive\n"
          ]
        }
      ]
    },
    {
      "cell_type": "markdown",
      "source": [
        "List contents"
      ],
      "metadata": {
        "id": "KYC2Yf4cR0Qt"
      }
    },
    {
      "cell_type": "code",
      "source": [
        "!ls '/content/drive/My Drive/Colab Notebooks/Bigdata'"
      ],
      "metadata": {
        "colab": {
          "base_uri": "https://localhost:8080/"
        },
        "id": "bwz8eGC5Rt65",
        "outputId": "a15626a4-3a7b-43d8-9558-07827a705c97"
      },
      "execution_count": null,
      "outputs": [
        {
          "output_type": "stream",
          "name": "stdout",
          "text": [
            "23-Oct\t29-Oct\tindia.txt  temp_data.txt  test.csv  train.csv\n"
          ]
        }
      ]
    },
    {
      "cell_type": "code",
      "source": [
        "!ls '/content/drive/My Drive/Colab Notebooks/Bigdata/29-Oct'"
      ],
      "metadata": {
        "colab": {
          "base_uri": "https://localhost:8080/"
        },
        "id": "FQQLrEuFR3BD",
        "outputId": "cf5008d9-00de-46da-dc0a-9ad7b7532d46"
      },
      "execution_count": null,
      "outputs": [
        {
          "output_type": "stream",
          "name": "stdout",
          "text": [
            "20221029_B120_CSE5225_SparkML_Activity.ipynb  bank_data.csv\n"
          ]
        }
      ]
    },
    {
      "cell_type": "markdown",
      "source": [
        "# Running PySpark on Google Colab\n",
        "\n",
        "There is a full Ubuntu container running on Colaboratory and users are given with the root access. With the root access, users can install any packages or software.\n",
        "\n",
        "In order to work with PySpark on Google Colab,\n",
        "\n",
        "Install dependencies such as Java and Spark.\n",
        "Set the Environment variables (paths).\n",
        "Start the Spark Session."
      ],
      "metadata": {
        "id": "asGZ_YxDR86V"
      }
    },
    {
      "cell_type": "markdown",
      "source": [
        "# Install dependencies\n",
        "\n",
        "To run Spark on Google Colab, first one need to install all the necessary dependencies such as required version of Apache Spark with relevant Hadoop version, Java 8 and findspark package to locate the spark in the environment.\n",
        "\n",
        "These packages can be installed inside the Jupyter notebook of the Google Colab.\n",
        "\n",
        "PySpark isn't on sys.path by default, but that doesn't mean it can't be used as a regular library. You can address this by either symlinking pyspark into your site-packages, or adding pyspark to sys.path at runtime. findspark does the latter.\n",
        "\n",
        "This may take some time to run."
      ],
      "metadata": {
        "id": "47EO-7F4R9FR"
      }
    },
    {
      "cell_type": "code",
      "source": [
        "!apt-get install openjdk-8-jdk-headless -qq > /dev/null\n",
        "!wget https://archive.apache.org/dist/spark/spark-2.4.8/spark-2.4.8-bin-hadoop2.7.tgz\n",
        "!tar xf /content/spark-2.4.8-bin-hadoop2.7.tgz\n",
        "!pip install -q findspark"
      ],
      "metadata": {
        "colab": {
          "base_uri": "https://localhost:8080/"
        },
        "id": "dkJa4GbfR5cJ",
        "outputId": "00288e24-2f89-4a8a-d263-bffc3b4ee1cc"
      },
      "execution_count": null,
      "outputs": [
        {
          "output_type": "stream",
          "name": "stdout",
          "text": [
            "--2022-10-29 04:01:32--  https://archive.apache.org/dist/spark/spark-2.4.8/spark-2.4.8-bin-hadoop2.7.tgz\n",
            "Resolving archive.apache.org (archive.apache.org)... 138.201.131.134, 2a01:4f8:172:2ec5::2\n",
            "Connecting to archive.apache.org (archive.apache.org)|138.201.131.134|:443... connected.\n",
            "HTTP request sent, awaiting response... 200 OK\n",
            "Length: 235899716 (225M) [application/x-gzip]\n",
            "Saving to: ‘spark-2.4.8-bin-hadoop2.7.tgz’\n",
            "\n",
            "spark-2.4.8-bin-had 100%[===================>] 224.97M  22.5MB/s    in 9.7s    \n",
            "\n",
            "2022-10-29 04:01:42 (23.2 MB/s) - ‘spark-2.4.8-bin-hadoop2.7.tgz’ saved [235899716/235899716]\n",
            "\n"
          ]
        }
      ]
    },
    {
      "cell_type": "code",
      "source": [
        "!ls"
      ],
      "metadata": {
        "colab": {
          "base_uri": "https://localhost:8080/"
        },
        "id": "JgtjaIyFSEl_",
        "outputId": "781e83f3-9f87-430d-b2bc-bd03ed6279fc"
      },
      "execution_count": null,
      "outputs": [
        {
          "output_type": "stream",
          "name": "stdout",
          "text": [
            "drive  sample_data  spark-2.4.8-bin-hadoop2.7  spark-2.4.8-bin-hadoop2.7.tgz\n"
          ]
        }
      ]
    },
    {
      "cell_type": "markdown",
      "source": [
        "# Set Environment Variables\n",
        "\n",
        "Java and Spark were installed, set these environment’s path that allows us to run PySpark in our Google Colab environment.\n",
        "\n",
        "To set the location of Java and Spark, run the below code."
      ],
      "metadata": {
        "id": "9wtHYEq_SJfL"
      }
    },
    {
      "cell_type": "code",
      "source": [
        "import os\n",
        "\n",
        "os.environ[\"JAVA_HOME\"] = \"/usr/lib/jvm/java-8-openjdk-amd64\"\n",
        "os.environ[\"SPARK_HOME\"] = \"/content/spark-2.4.8-bin-hadoop2.7\""
      ],
      "metadata": {
        "id": "LW_EzG7xSG1P"
      },
      "execution_count": null,
      "outputs": []
    },
    {
      "cell_type": "markdown",
      "source": [
        "# Start a SparkSession\n",
        "\n",
        "This will start a local Spark session"
      ],
      "metadata": {
        "id": "3o8yofseSMsd"
      }
    },
    {
      "cell_type": "code",
      "source": [
        "import findspark\n",
        "findspark.init()\n",
        "from pyspark.sql import SparkSession\n",
        "\n",
        "spark = SparkSession.builder\\\n",
        "       .master(\"local[*]\")\\\n",
        "       .appName(\"SparkMLActivity\")\\\n",
        "       .getOrCreate()"
      ],
      "metadata": {
        "id": "NqMPIvfHSPM3"
      },
      "execution_count": null,
      "outputs": []
    },
    {
      "cell_type": "markdown",
      "source": [
        "# Use Spark!\n",
        "\n",
        "That's all there is to it - you're ready to use Spark!"
      ],
      "metadata": {
        "id": "LuXgVpwrSPgJ"
      }
    },
    {
      "cell_type": "code",
      "source": [
        "spark"
      ],
      "metadata": {
        "colab": {
          "base_uri": "https://localhost:8080/",
          "height": 219
        },
        "id": "GjzX87d0SYaA",
        "outputId": "295dabcf-61fa-4587-e42b-cea4529fe76c"
      },
      "execution_count": null,
      "outputs": [
        {
          "output_type": "execute_result",
          "data": {
            "text/plain": [
              "<pyspark.sql.session.SparkSession at 0x7f33856ca450>"
            ],
            "text/html": [
              "\n",
              "            <div>\n",
              "                <p><b>SparkSession - in-memory</b></p>\n",
              "                \n",
              "        <div>\n",
              "            <p><b>SparkContext</b></p>\n",
              "\n",
              "            <p><a href=\"http://c3688e623cd4:4040\">Spark UI</a></p>\n",
              "\n",
              "            <dl>\n",
              "              <dt>Version</dt>\n",
              "                <dd><code>v2.4.8</code></dd>\n",
              "              <dt>Master</dt>\n",
              "                <dd><code>local[*]</code></dd>\n",
              "              <dt>AppName</dt>\n",
              "                <dd><code>SparkMLActivity</code></dd>\n",
              "            </dl>\n",
              "        </div>\n",
              "        \n",
              "            </div>\n",
              "        "
            ]
          },
          "metadata": {},
          "execution_count": 8
        }
      ]
    },
    {
      "cell_type": "code",
      "source": [
        "!pip install chart_studio"
      ],
      "metadata": {
        "colab": {
          "base_uri": "https://localhost:8080/"
        },
        "id": "jj4WYtgySa6K",
        "outputId": "3a7c9714-a3ca-4e5e-8b8e-4d57160daaed"
      },
      "execution_count": null,
      "outputs": [
        {
          "output_type": "stream",
          "name": "stdout",
          "text": [
            "Looking in indexes: https://pypi.org/simple, https://us-python.pkg.dev/colab-wheels/public/simple/\n",
            "Collecting chart_studio\n",
            "  Downloading chart_studio-1.1.0-py3-none-any.whl (64 kB)\n",
            "\u001b[?25l\r\u001b[K     |█████                           | 10 kB 27.6 MB/s eta 0:00:01\r\u001b[K     |██████████▏                     | 20 kB 19.1 MB/s eta 0:00:01\r\u001b[K     |███████████████▎                | 30 kB 9.2 MB/s eta 0:00:01\r\u001b[K     |████████████████████▍           | 40 kB 4.6 MB/s eta 0:00:01\r\u001b[K     |█████████████████████████▍      | 51 kB 5.1 MB/s eta 0:00:01\r\u001b[K     |██████████████████████████████▌ | 61 kB 5.7 MB/s eta 0:00:01\r\u001b[K     |████████████████████████████████| 64 kB 2.2 MB/s \n",
            "\u001b[?25hCollecting retrying>=1.3.3\n",
            "  Downloading retrying-1.3.3.tar.gz (10 kB)\n",
            "Requirement already satisfied: requests in /usr/local/lib/python3.7/dist-packages (from chart_studio) (2.23.0)\n",
            "Requirement already satisfied: six in /usr/local/lib/python3.7/dist-packages (from chart_studio) (1.15.0)\n",
            "Requirement already satisfied: plotly in /usr/local/lib/python3.7/dist-packages (from chart_studio) (5.5.0)\n",
            "Requirement already satisfied: tenacity>=6.2.0 in /usr/local/lib/python3.7/dist-packages (from plotly->chart_studio) (8.1.0)\n",
            "Requirement already satisfied: chardet<4,>=3.0.2 in /usr/local/lib/python3.7/dist-packages (from requests->chart_studio) (3.0.4)\n",
            "Requirement already satisfied: urllib3!=1.25.0,!=1.25.1,<1.26,>=1.21.1 in /usr/local/lib/python3.7/dist-packages (from requests->chart_studio) (1.24.3)\n",
            "Requirement already satisfied: certifi>=2017.4.17 in /usr/local/lib/python3.7/dist-packages (from requests->chart_studio) (2022.9.24)\n",
            "Requirement already satisfied: idna<3,>=2.5 in /usr/local/lib/python3.7/dist-packages (from requests->chart_studio) (2.10)\n",
            "Building wheels for collected packages: retrying\n",
            "  Building wheel for retrying (setup.py) ... \u001b[?25l\u001b[?25hdone\n",
            "  Created wheel for retrying: filename=retrying-1.3.3-py3-none-any.whl size=11447 sha256=2c8ab6ae38fc5f9dfe686971c0717403f649aeb778d07b1a2864167429b4ac6e\n",
            "  Stored in directory: /root/.cache/pip/wheels/f9/8d/8d/f6af3f7f9eea3553bc2fe6d53e4b287dad18b06a861ac56ddf\n",
            "Successfully built retrying\n",
            "Installing collected packages: retrying, chart-studio\n",
            "Successfully installed chart-studio-1.1.0 retrying-1.3.3\n"
          ]
        }
      ]
    },
    {
      "cell_type": "code",
      "source": [
        "from pyspark.sql.types import *\n",
        "from pyspark.sql.functions import *"
      ],
      "metadata": {
        "id": "vDGelNk6TtFJ"
      },
      "execution_count": null,
      "outputs": []
    },
    {
      "cell_type": "code",
      "source": [
        "import numpy as np\n",
        "import pandas as pd\n",
        "from io import StringIO"
      ],
      "metadata": {
        "id": "SKKSYhX8TygE"
      },
      "execution_count": null,
      "outputs": []
    },
    {
      "cell_type": "markdown",
      "source": [
        "Define the dataset schema"
      ],
      "metadata": {
        "id": "bEJ-IjohUAGk"
      }
    },
    {
      "cell_type": "code",
      "source": [
        "bankDataSchema = StructType([\n",
        "                 StructField(\"seqId\",IntegerType(),True),\n",
        "                 StructField(\"age\",IntegerType(),True),\n",
        "                 StructField(\"job\",StringType(),True),\n",
        "                 StructField(\"maritalStatus\",StringType(),True),\n",
        "                 StructField(\"education\",StringType(),True),\n",
        "                 StructField(\"default\",StringType(),True),\n",
        "                 StructField(\"balance\",DoubleType(),True),\n",
        "                 StructField(\"housing\",StringType(),True),\n",
        "                 StructField(\"loan\",StringType(),True),\n",
        "                 StructField(\"contact\",StringType(),True),\n",
        "                 StructField(\"day\",IntegerType(),True),\n",
        "                 StructField(\"month\",StringType(),True),\n",
        "                 StructField(\"duration\",DoubleType(),True),\n",
        "                 StructField(\"campaign\",DoubleType(),True),\n",
        "                 StructField(\"pdays\",DoubleType(),True),\n",
        "                 StructField(\"previous\",DoubleType(),True),\n",
        "                 StructField(\"poutcome\",StringType(),True),\n",
        "                 StructField(\"opened_new_td_act_yes_no\",StringType(),True)\n",
        "])"
      ],
      "metadata": {
        "id": "bJZAtlktT0NT"
      },
      "execution_count": null,
      "outputs": []
    },
    {
      "cell_type": "markdown",
      "source": [
        "# Load the Data from a File into a DataFrame\n",
        "\n",
        "The first step is to load our data into a DataFrame. In the following code, we specify the data source and schema to load into a dataset."
      ],
      "metadata": {
        "id": "PNwr_jMYUhtZ"
      }
    },
    {
      "cell_type": "code",
      "source": [
        "bankDF = spark.read.format('csv')\\\n",
        "        .option('header','false')\\\n",
        "        .option('inferSchema','true')\\\n",
        "        .load(\"/content/drive/My Drive/Colab Notebooks/Bigdata/29-Oct/bank_data.csv\",\n",
        "              schema=bankDataSchema)"
      ],
      "metadata": {
        "id": "4qOyEj1nUFHu"
      },
      "execution_count": null,
      "outputs": []
    },
    {
      "cell_type": "code",
      "source": [
        "%time\n",
        "pdf = pd.DataFrame(np.random.rand(100,3))\n",
        "sparkdf = spark.createDataFrame(pdf)\n",
        "\n",
        "result_df = sparkdf.select(\"*\").toPandas()\n",
        "result_df.head()"
      ],
      "metadata": {
        "colab": {
          "base_uri": "https://localhost:8080/",
          "height": 241
        },
        "id": "IJDreToYVpGQ",
        "outputId": "5a4339b0-be25-4e10-c24b-b9fa0fbd8ce5"
      },
      "execution_count": null,
      "outputs": [
        {
          "output_type": "stream",
          "name": "stdout",
          "text": [
            "CPU times: user 4 µs, sys: 0 ns, total: 4 µs\n",
            "Wall time: 7.63 µs\n"
          ]
        },
        {
          "output_type": "execute_result",
          "data": {
            "text/plain": [
              "          0         1         2\n",
              "0  0.502858  0.288458  0.217275\n",
              "1  0.553651  0.729350  0.382058\n",
              "2  0.269313  0.746263  0.041392\n",
              "3  0.911900  0.561637  0.113030\n",
              "4  0.064319  0.610172  0.889689"
            ],
            "text/html": [
              "\n",
              "  <div id=\"df-66ea11bb-0b0f-4a93-86ed-b22596330110\">\n",
              "    <div class=\"colab-df-container\">\n",
              "      <div>\n",
              "<style scoped>\n",
              "    .dataframe tbody tr th:only-of-type {\n",
              "        vertical-align: middle;\n",
              "    }\n",
              "\n",
              "    .dataframe tbody tr th {\n",
              "        vertical-align: top;\n",
              "    }\n",
              "\n",
              "    .dataframe thead th {\n",
              "        text-align: right;\n",
              "    }\n",
              "</style>\n",
              "<table border=\"1\" class=\"dataframe\">\n",
              "  <thead>\n",
              "    <tr style=\"text-align: right;\">\n",
              "      <th></th>\n",
              "      <th>0</th>\n",
              "      <th>1</th>\n",
              "      <th>2</th>\n",
              "    </tr>\n",
              "  </thead>\n",
              "  <tbody>\n",
              "    <tr>\n",
              "      <th>0</th>\n",
              "      <td>0.502858</td>\n",
              "      <td>0.288458</td>\n",
              "      <td>0.217275</td>\n",
              "    </tr>\n",
              "    <tr>\n",
              "      <th>1</th>\n",
              "      <td>0.553651</td>\n",
              "      <td>0.729350</td>\n",
              "      <td>0.382058</td>\n",
              "    </tr>\n",
              "    <tr>\n",
              "      <th>2</th>\n",
              "      <td>0.269313</td>\n",
              "      <td>0.746263</td>\n",
              "      <td>0.041392</td>\n",
              "    </tr>\n",
              "    <tr>\n",
              "      <th>3</th>\n",
              "      <td>0.911900</td>\n",
              "      <td>0.561637</td>\n",
              "      <td>0.113030</td>\n",
              "    </tr>\n",
              "    <tr>\n",
              "      <th>4</th>\n",
              "      <td>0.064319</td>\n",
              "      <td>0.610172</td>\n",
              "      <td>0.889689</td>\n",
              "    </tr>\n",
              "  </tbody>\n",
              "</table>\n",
              "</div>\n",
              "      <button class=\"colab-df-convert\" onclick=\"convertToInteractive('df-66ea11bb-0b0f-4a93-86ed-b22596330110')\"\n",
              "              title=\"Convert this dataframe to an interactive table.\"\n",
              "              style=\"display:none;\">\n",
              "        \n",
              "  <svg xmlns=\"http://www.w3.org/2000/svg\" height=\"24px\"viewBox=\"0 0 24 24\"\n",
              "       width=\"24px\">\n",
              "    <path d=\"M0 0h24v24H0V0z\" fill=\"none\"/>\n",
              "    <path d=\"M18.56 5.44l.94 2.06.94-2.06 2.06-.94-2.06-.94-.94-2.06-.94 2.06-2.06.94zm-11 1L8.5 8.5l.94-2.06 2.06-.94-2.06-.94L8.5 2.5l-.94 2.06-2.06.94zm10 10l.94 2.06.94-2.06 2.06-.94-2.06-.94-.94-2.06-.94 2.06-2.06.94z\"/><path d=\"M17.41 7.96l-1.37-1.37c-.4-.4-.92-.59-1.43-.59-.52 0-1.04.2-1.43.59L10.3 9.45l-7.72 7.72c-.78.78-.78 2.05 0 2.83L4 21.41c.39.39.9.59 1.41.59.51 0 1.02-.2 1.41-.59l7.78-7.78 2.81-2.81c.8-.78.8-2.07 0-2.86zM5.41 20L4 18.59l7.72-7.72 1.47 1.35L5.41 20z\"/>\n",
              "  </svg>\n",
              "      </button>\n",
              "      \n",
              "  <style>\n",
              "    .colab-df-container {\n",
              "      display:flex;\n",
              "      flex-wrap:wrap;\n",
              "      gap: 12px;\n",
              "    }\n",
              "\n",
              "    .colab-df-convert {\n",
              "      background-color: #E8F0FE;\n",
              "      border: none;\n",
              "      border-radius: 50%;\n",
              "      cursor: pointer;\n",
              "      display: none;\n",
              "      fill: #1967D2;\n",
              "      height: 32px;\n",
              "      padding: 0 0 0 0;\n",
              "      width: 32px;\n",
              "    }\n",
              "\n",
              "    .colab-df-convert:hover {\n",
              "      background-color: #E2EBFA;\n",
              "      box-shadow: 0px 1px 2px rgba(60, 64, 67, 0.3), 0px 1px 3px 1px rgba(60, 64, 67, 0.15);\n",
              "      fill: #174EA6;\n",
              "    }\n",
              "\n",
              "    [theme=dark] .colab-df-convert {\n",
              "      background-color: #3B4455;\n",
              "      fill: #D2E3FC;\n",
              "    }\n",
              "\n",
              "    [theme=dark] .colab-df-convert:hover {\n",
              "      background-color: #434B5C;\n",
              "      box-shadow: 0px 1px 3px 1px rgba(0, 0, 0, 0.15);\n",
              "      filter: drop-shadow(0px 1px 2px rgba(0, 0, 0, 0.3));\n",
              "      fill: #FFFFFF;\n",
              "    }\n",
              "  </style>\n",
              "\n",
              "      <script>\n",
              "        const buttonEl =\n",
              "          document.querySelector('#df-66ea11bb-0b0f-4a93-86ed-b22596330110 button.colab-df-convert');\n",
              "        buttonEl.style.display =\n",
              "          google.colab.kernel.accessAllowed ? 'block' : 'none';\n",
              "\n",
              "        async function convertToInteractive(key) {\n",
              "          const element = document.querySelector('#df-66ea11bb-0b0f-4a93-86ed-b22596330110');\n",
              "          const dataTable =\n",
              "            await google.colab.kernel.invokeFunction('convertToInteractive',\n",
              "                                                     [key], {});\n",
              "          if (!dataTable) return;\n",
              "\n",
              "          const docLinkHtml = 'Like what you see? Visit the ' +\n",
              "            '<a target=\"_blank\" href=https://colab.research.google.com/notebooks/data_table.ipynb>data table notebook</a>'\n",
              "            + ' to learn more about interactive tables.';\n",
              "          element.innerHTML = '';\n",
              "          dataTable['output_type'] = 'display_data';\n",
              "          await google.colab.output.renderOutput(dataTable, element);\n",
              "          const docLink = document.createElement('div');\n",
              "          docLink.innerHTML = docLinkHtml;\n",
              "          element.appendChild(docLink);\n",
              "        }\n",
              "      </script>\n",
              "    </div>\n",
              "  </div>\n",
              "  "
            ]
          },
          "metadata": {},
          "execution_count": 27
        }
      ]
    },
    {
      "cell_type": "code",
      "source": [
        "%time\n",
        "spark.conf.set(\"spark.sql.execution.arrow.enabled\",\"false\")\n",
        "pdf = pd.DataFrame(np.random.rand(100,3))\n",
        "sparkdf = spark.createDataFrame(pdf)\n",
        "\n",
        "result_df = sparkdf.select(\"*\").toPandas()\n",
        "result_df.head()"
      ],
      "metadata": {
        "colab": {
          "base_uri": "https://localhost:8080/",
          "height": 241
        },
        "id": "MVqqVmSQVhXy",
        "outputId": "005ecffb-09c5-44bf-b835-154b542b7a72"
      },
      "execution_count": null,
      "outputs": [
        {
          "output_type": "stream",
          "name": "stdout",
          "text": [
            "CPU times: user 3 µs, sys: 0 ns, total: 3 µs\n",
            "Wall time: 6.91 µs\n"
          ]
        },
        {
          "output_type": "execute_result",
          "data": {
            "text/plain": [
              "          0         1         2\n",
              "0  0.280724  0.037822  0.882365\n",
              "1  0.546126  0.826241  0.220573\n",
              "2  0.952488  0.198431  0.931833\n",
              "3  0.424906  0.190553  0.441329\n",
              "4  0.919536  0.193353  0.302904"
            ],
            "text/html": [
              "\n",
              "  <div id=\"df-f6c8617f-001b-498e-aa86-b8d6a142b201\">\n",
              "    <div class=\"colab-df-container\">\n",
              "      <div>\n",
              "<style scoped>\n",
              "    .dataframe tbody tr th:only-of-type {\n",
              "        vertical-align: middle;\n",
              "    }\n",
              "\n",
              "    .dataframe tbody tr th {\n",
              "        vertical-align: top;\n",
              "    }\n",
              "\n",
              "    .dataframe thead th {\n",
              "        text-align: right;\n",
              "    }\n",
              "</style>\n",
              "<table border=\"1\" class=\"dataframe\">\n",
              "  <thead>\n",
              "    <tr style=\"text-align: right;\">\n",
              "      <th></th>\n",
              "      <th>0</th>\n",
              "      <th>1</th>\n",
              "      <th>2</th>\n",
              "    </tr>\n",
              "  </thead>\n",
              "  <tbody>\n",
              "    <tr>\n",
              "      <th>0</th>\n",
              "      <td>0.280724</td>\n",
              "      <td>0.037822</td>\n",
              "      <td>0.882365</td>\n",
              "    </tr>\n",
              "    <tr>\n",
              "      <th>1</th>\n",
              "      <td>0.546126</td>\n",
              "      <td>0.826241</td>\n",
              "      <td>0.220573</td>\n",
              "    </tr>\n",
              "    <tr>\n",
              "      <th>2</th>\n",
              "      <td>0.952488</td>\n",
              "      <td>0.198431</td>\n",
              "      <td>0.931833</td>\n",
              "    </tr>\n",
              "    <tr>\n",
              "      <th>3</th>\n",
              "      <td>0.424906</td>\n",
              "      <td>0.190553</td>\n",
              "      <td>0.441329</td>\n",
              "    </tr>\n",
              "    <tr>\n",
              "      <th>4</th>\n",
              "      <td>0.919536</td>\n",
              "      <td>0.193353</td>\n",
              "      <td>0.302904</td>\n",
              "    </tr>\n",
              "  </tbody>\n",
              "</table>\n",
              "</div>\n",
              "      <button class=\"colab-df-convert\" onclick=\"convertToInteractive('df-f6c8617f-001b-498e-aa86-b8d6a142b201')\"\n",
              "              title=\"Convert this dataframe to an interactive table.\"\n",
              "              style=\"display:none;\">\n",
              "        \n",
              "  <svg xmlns=\"http://www.w3.org/2000/svg\" height=\"24px\"viewBox=\"0 0 24 24\"\n",
              "       width=\"24px\">\n",
              "    <path d=\"M0 0h24v24H0V0z\" fill=\"none\"/>\n",
              "    <path d=\"M18.56 5.44l.94 2.06.94-2.06 2.06-.94-2.06-.94-.94-2.06-.94 2.06-2.06.94zm-11 1L8.5 8.5l.94-2.06 2.06-.94-2.06-.94L8.5 2.5l-.94 2.06-2.06.94zm10 10l.94 2.06.94-2.06 2.06-.94-2.06-.94-.94-2.06-.94 2.06-2.06.94z\"/><path d=\"M17.41 7.96l-1.37-1.37c-.4-.4-.92-.59-1.43-.59-.52 0-1.04.2-1.43.59L10.3 9.45l-7.72 7.72c-.78.78-.78 2.05 0 2.83L4 21.41c.39.39.9.59 1.41.59.51 0 1.02-.2 1.41-.59l7.78-7.78 2.81-2.81c.8-.78.8-2.07 0-2.86zM5.41 20L4 18.59l7.72-7.72 1.47 1.35L5.41 20z\"/>\n",
              "  </svg>\n",
              "      </button>\n",
              "      \n",
              "  <style>\n",
              "    .colab-df-container {\n",
              "      display:flex;\n",
              "      flex-wrap:wrap;\n",
              "      gap: 12px;\n",
              "    }\n",
              "\n",
              "    .colab-df-convert {\n",
              "      background-color: #E8F0FE;\n",
              "      border: none;\n",
              "      border-radius: 50%;\n",
              "      cursor: pointer;\n",
              "      display: none;\n",
              "      fill: #1967D2;\n",
              "      height: 32px;\n",
              "      padding: 0 0 0 0;\n",
              "      width: 32px;\n",
              "    }\n",
              "\n",
              "    .colab-df-convert:hover {\n",
              "      background-color: #E2EBFA;\n",
              "      box-shadow: 0px 1px 2px rgba(60, 64, 67, 0.3), 0px 1px 3px 1px rgba(60, 64, 67, 0.15);\n",
              "      fill: #174EA6;\n",
              "    }\n",
              "\n",
              "    [theme=dark] .colab-df-convert {\n",
              "      background-color: #3B4455;\n",
              "      fill: #D2E3FC;\n",
              "    }\n",
              "\n",
              "    [theme=dark] .colab-df-convert:hover {\n",
              "      background-color: #434B5C;\n",
              "      box-shadow: 0px 1px 3px 1px rgba(0, 0, 0, 0.15);\n",
              "      filter: drop-shadow(0px 1px 2px rgba(0, 0, 0, 0.3));\n",
              "      fill: #FFFFFF;\n",
              "    }\n",
              "  </style>\n",
              "\n",
              "      <script>\n",
              "        const buttonEl =\n",
              "          document.querySelector('#df-f6c8617f-001b-498e-aa86-b8d6a142b201 button.colab-df-convert');\n",
              "        buttonEl.style.display =\n",
              "          google.colab.kernel.accessAllowed ? 'block' : 'none';\n",
              "\n",
              "        async function convertToInteractive(key) {\n",
              "          const element = document.querySelector('#df-f6c8617f-001b-498e-aa86-b8d6a142b201');\n",
              "          const dataTable =\n",
              "            await google.colab.kernel.invokeFunction('convertToInteractive',\n",
              "                                                     [key], {});\n",
              "          if (!dataTable) return;\n",
              "\n",
              "          const docLinkHtml = 'Like what you see? Visit the ' +\n",
              "            '<a target=\"_blank\" href=https://colab.research.google.com/notebooks/data_table.ipynb>data table notebook</a>'\n",
              "            + ' to learn more about interactive tables.';\n",
              "          element.innerHTML = '';\n",
              "          dataTable['output_type'] = 'display_data';\n",
              "          await google.colab.output.renderOutput(dataTable, element);\n",
              "          const docLink = document.createElement('div');\n",
              "          docLink.innerHTML = docLinkHtml;\n",
              "          element.appendChild(docLink);\n",
              "        }\n",
              "      </script>\n",
              "    </div>\n",
              "  </div>\n",
              "  "
            ]
          },
          "metadata": {},
          "execution_count": 28
        }
      ]
    },
    {
      "cell_type": "markdown",
      "source": [
        "# EDA\n",
        "\n",
        "## Data schema"
      ],
      "metadata": {
        "id": "QCik_Sl2h3RV"
      }
    },
    {
      "cell_type": "code",
      "source": [
        "bankDF.printSchema()"
      ],
      "metadata": {
        "colab": {
          "base_uri": "https://localhost:8080/"
        },
        "id": "Pk-Uuz5AWNW9",
        "outputId": "3cc13bd3-1c49-4a1a-f42b-a68e1e2463d7"
      },
      "execution_count": null,
      "outputs": [
        {
          "output_type": "stream",
          "name": "stdout",
          "text": [
            "root\n",
            " |-- seqId: integer (nullable = true)\n",
            " |-- age: integer (nullable = true)\n",
            " |-- job: string (nullable = true)\n",
            " |-- maritalStatus: string (nullable = true)\n",
            " |-- education: string (nullable = true)\n",
            " |-- default: string (nullable = true)\n",
            " |-- balance: double (nullable = true)\n",
            " |-- housing: string (nullable = true)\n",
            " |-- loan: string (nullable = true)\n",
            " |-- contact: string (nullable = true)\n",
            " |-- day: integer (nullable = true)\n",
            " |-- month: string (nullable = true)\n",
            " |-- duration: double (nullable = true)\n",
            " |-- campaign: double (nullable = true)\n",
            " |-- pdays: double (nullable = true)\n",
            " |-- previous: double (nullable = true)\n",
            " |-- poutcome: string (nullable = true)\n",
            " |-- opened_new_td_act_yes_no: string (nullable = true)\n",
            "\n"
          ]
        }
      ]
    },
    {
      "cell_type": "markdown",
      "source": [
        "## Data types"
      ],
      "metadata": {
        "id": "NSq9kgfnh-q0"
      }
    },
    {
      "cell_type": "code",
      "source": [
        "bankDF.dtypes"
      ],
      "metadata": {
        "colab": {
          "base_uri": "https://localhost:8080/"
        },
        "id": "9S-Tc8uiWg79",
        "outputId": "8d854df2-e9e3-4a98-eedd-caa9eef0d01c"
      },
      "execution_count": null,
      "outputs": [
        {
          "output_type": "execute_result",
          "data": {
            "text/plain": [
              "[('seqId', 'int'),\n",
              " ('age', 'int'),\n",
              " ('job', 'string'),\n",
              " ('maritalStatus', 'string'),\n",
              " ('education', 'string'),\n",
              " ('default', 'string'),\n",
              " ('balance', 'double'),\n",
              " ('housing', 'string'),\n",
              " ('loan', 'string'),\n",
              " ('contact', 'string'),\n",
              " ('day', 'int'),\n",
              " ('month', 'string'),\n",
              " ('duration', 'double'),\n",
              " ('campaign', 'double'),\n",
              " ('pdays', 'double'),\n",
              " ('previous', 'double'),\n",
              " ('poutcome', 'string'),\n",
              " ('opened_new_td_act_yes_no', 'string')]"
            ]
          },
          "metadata": {},
          "execution_count": 18
        }
      ]
    },
    {
      "cell_type": "markdown",
      "source": [
        "## Sample data"
      ],
      "metadata": {
        "id": "fx4Rn0PEiFQe"
      }
    },
    {
      "cell_type": "code",
      "source": [
        "bankDF.show(3)"
      ],
      "metadata": {
        "colab": {
          "base_uri": "https://localhost:8080/"
        },
        "id": "4Bo5E10HWkAY",
        "outputId": "c3f6c4d8-746f-4312-d21e-f43cb305fda9"
      },
      "execution_count": null,
      "outputs": [
        {
          "output_type": "stream",
          "name": "stdout",
          "text": [
            "+-----+---+----------+-------------+---------+-------+-------+-------+----+--------+---+-----+--------+--------+-----+--------+--------+------------------------+\n",
            "|seqId|age|       job|maritalStatus|education|default|balance|housing|loan| contact|day|month|duration|campaign|pdays|previous|poutcome|opened_new_td_act_yes_no|\n",
            "+-----+---+----------+-------------+---------+-------+-------+-------+----+--------+---+-----+--------+--------+-----+--------+--------+------------------------+\n",
            "| 1001| 30|unemployed|      married|  primary|     no| 1787.0|     no|  no|cellular| 19|  oct|    79.0|     1.0| -1.0|     0.0| unknown|                      no|\n",
            "| 1002| 33|  services|      married|secondary|     no| 4789.0|    yes| yes|cellular| 11|  may|   220.0|     1.0|339.0|     4.0| failure|                      no|\n",
            "| 1003| 35|management|       single| tertiary|     no| 1350.0|    yes|  no|cellular| 16|  apr|   185.0|     1.0|330.0|     1.0| failure|                      no|\n",
            "+-----+---+----------+-------------+---------+-------+-------+-------+----+--------+---+-----+--------+--------+-----+--------+--------+------------------------+\n",
            "only showing top 3 rows\n",
            "\n"
          ]
        }
      ]
    },
    {
      "cell_type": "markdown",
      "source": [
        "## Cache dataframe"
      ],
      "metadata": {
        "id": "zH6ZO3xhiCii"
      }
    },
    {
      "cell_type": "code",
      "source": [
        "bankDF.cache()"
      ],
      "metadata": {
        "colab": {
          "base_uri": "https://localhost:8080/"
        },
        "id": "L7BczUNfWm05",
        "outputId": "653df06f-5704-4e4e-8c48-4537e0a1bd54"
      },
      "execution_count": null,
      "outputs": [
        {
          "output_type": "execute_result",
          "data": {
            "text/plain": [
              "DataFrame[seqId: int, age: int, job: string, maritalStatus: string, education: string, default: string, balance: double, housing: string, loan: string, contact: string, day: int, month: string, duration: double, campaign: double, pdays: double, previous: double, poutcome: string, opened_new_td_act_yes_no: string]"
            ]
          },
          "metadata": {},
          "execution_count": 20
        }
      ]
    },
    {
      "cell_type": "code",
      "source": [
        "bankDF.take(2)"
      ],
      "metadata": {
        "colab": {
          "base_uri": "https://localhost:8080/"
        },
        "id": "oiDtdyRnWoTF",
        "outputId": "b0c9844d-21cd-4493-9b6f-8821fe95c6fb"
      },
      "execution_count": null,
      "outputs": [
        {
          "output_type": "execute_result",
          "data": {
            "text/plain": [
              "[Row(seqId=1001, age=30, job='unemployed', maritalStatus='married', education='primary', default='no', balance=1787.0, housing='no', loan='no', contact='cellular', day=19, month='oct', duration=79.0, campaign=1.0, pdays=-1.0, previous=0.0, poutcome='unknown', opened_new_td_act_yes_no='no'),\n",
              " Row(seqId=1002, age=33, job='services', maritalStatus='married', education='secondary', default='no', balance=4789.0, housing='yes', loan='yes', contact='cellular', day=11, month='may', duration=220.0, campaign=1.0, pdays=339.0, previous=4.0, poutcome='failure', opened_new_td_act_yes_no='no')]"
            ]
          },
          "metadata": {},
          "execution_count": 21
        }
      ]
    },
    {
      "cell_type": "code",
      "source": [
        "len(bankDF.columns)"
      ],
      "metadata": {
        "colab": {
          "base_uri": "https://localhost:8080/"
        },
        "id": "9ptLM-nQWqVU",
        "outputId": "75fe72b8-fdf7-4b60-9f12-1c9d34dbd405"
      },
      "execution_count": null,
      "outputs": [
        {
          "output_type": "execute_result",
          "data": {
            "text/plain": [
              "18"
            ]
          },
          "metadata": {},
          "execution_count": 22
        }
      ]
    },
    {
      "cell_type": "code",
      "source": [
        "bankDF.count()"
      ],
      "metadata": {
        "colab": {
          "base_uri": "https://localhost:8080/"
        },
        "id": "exB8eqJRWrfO",
        "outputId": "331da2d8-19f5-4fe0-e99a-1da55efe5aeb"
      },
      "execution_count": null,
      "outputs": [
        {
          "output_type": "execute_result",
          "data": {
            "text/plain": [
              "4521"
            ]
          },
          "metadata": {},
          "execution_count": 23
        }
      ]
    },
    {
      "cell_type": "markdown",
      "source": [
        "## Remove the seqId column."
      ],
      "metadata": {
        "id": "YszLtYoAWusj"
      }
    },
    {
      "cell_type": "code",
      "source": [
        "bankDF = bankDF.drop('seqId')"
      ],
      "metadata": {
        "id": "CeJ23i8xWslY"
      },
      "execution_count": null,
      "outputs": []
    },
    {
      "cell_type": "code",
      "source": [
        "len(bankDF.columns)"
      ],
      "metadata": {
        "colab": {
          "base_uri": "https://localhost:8080/"
        },
        "id": "WwouXVwkWw37",
        "outputId": "02ccfe86-3a56-4c16-e310-7e681e2f452f"
      },
      "execution_count": null,
      "outputs": [
        {
          "output_type": "execute_result",
          "data": {
            "text/plain": [
              "17"
            ]
          },
          "metadata": {},
          "execution_count": 30
        }
      ]
    },
    {
      "cell_type": "markdown",
      "source": [
        "## Summary Statistics\n",
        "Spark DataFrames include some `built-in functions` for statistical processing. The `describe()` function performs summary statistics calculations on numeric columns and returns them as a DataFrame. The following code shows some statistics for the label and some features."
      ],
      "metadata": {
        "id": "8F7XStQ3W19E"
      }
    },
    {
      "cell_type": "code",
      "source": [
        "bankDF.describe().show()"
      ],
      "metadata": {
        "colab": {
          "base_uri": "https://localhost:8080/"
        },
        "id": "NezLNrQMWy25",
        "outputId": "4c31ae10-483f-4a88-f828-b653089ff95f"
      },
      "execution_count": null,
      "outputs": [
        {
          "output_type": "stream",
          "name": "stdout",
          "text": [
            "+-------+------------------+-------+-------------+---------+-------+------------------+-------+----+--------+------------------+-----+------------------+------------------+------------------+------------------+--------+------------------------+\n",
            "|summary|               age|    job|maritalStatus|education|default|           balance|housing|loan| contact|               day|month|          duration|          campaign|             pdays|          previous|poutcome|opened_new_td_act_yes_no|\n",
            "+-------+------------------+-------+-------------+---------+-------+------------------+-------+----+--------+------------------+-----+------------------+------------------+------------------+------------------+--------+------------------------+\n",
            "|  count|              4521|   4521|         4521|     4521|   4521|              4521|   4521|4521|    4521|              4521| 4521|              4521|              4521|              4521|              4521|    4521|                    4521|\n",
            "|   mean| 41.17009511170095|   null|         null|     null|   null|1422.6578190665782|   null|null|    null|15.915284229152842| null|263.96129174961294| 2.793629727936297|39.766644547666445|0.5425790754257908|    null|                    null|\n",
            "| stddev|10.576210958711263|   null|         null|     null|   null|3009.6381424673395|   null|null|    null| 8.247667327229934| null|259.85663262468216|3.1098066601885823|100.12112444301656|1.6935623506071211|    null|                    null|\n",
            "|    min|                19| admin.|     divorced|  primary|     no|           -3313.0|     no|  no|cellular|                 1|  apr|               4.0|               1.0|              -1.0|               0.0| failure|                      no|\n",
            "|    max|                87|unknown|       single|  unknown|    yes|           71188.0|    yes| yes| unknown|                31|  sep|            3025.0|              50.0|             871.0|              25.0| unknown|                     yes|\n",
            "+-------+------------------+-------+-------------+---------+-------+------------------+-------+----+--------+------------------+-----+------------------+------------------+------------------+------------------+--------+------------------------+\n",
            "\n"
          ]
        }
      ]
    },
    {
      "cell_type": "code",
      "source": [
        "bankDF.describe().select('summary','age','loan','balance','pdays').show()"
      ],
      "metadata": {
        "colab": {
          "base_uri": "https://localhost:8080/"
        },
        "id": "_jPJF5evXAwd",
        "outputId": "4c03167b-2786-4c1f-f8eb-9cd45ee16740"
      },
      "execution_count": null,
      "outputs": [
        {
          "output_type": "stream",
          "name": "stdout",
          "text": [
            "+-------+------------------+----+------------------+------------------+\n",
            "|summary|               age|loan|           balance|             pdays|\n",
            "+-------+------------------+----+------------------+------------------+\n",
            "|  count|              4521|4521|              4521|              4521|\n",
            "|   mean| 41.17009511170095|null|1422.6578190665782|39.766644547666445|\n",
            "| stddev|10.576210958711263|null|3009.6381424673395|100.12112444301656|\n",
            "|    min|                19|  no|           -3313.0|              -1.0|\n",
            "|    max|                87| yes|           71188.0|             871.0|\n",
            "+-------+------------------+----+------------------+------------------+\n",
            "\n"
          ]
        }
      ]
    },
    {
      "cell_type": "code",
      "source": [
        "bankDF.agg(*(min(col(c)).alias(c) for c in bankDF.columns)).show()"
      ],
      "metadata": {
        "colab": {
          "base_uri": "https://localhost:8080/"
        },
        "id": "vbREPt4pXChB",
        "outputId": "4279ac01-5ec4-4307-9b34-7f903dc8bb40"
      },
      "execution_count": null,
      "outputs": [
        {
          "output_type": "stream",
          "name": "stdout",
          "text": [
            "+---+------+-------------+---------+-------+-------+-------+----+--------+---+-----+--------+--------+-----+--------+--------+------------------------+\n",
            "|age|   job|maritalStatus|education|default|balance|housing|loan| contact|day|month|duration|campaign|pdays|previous|poutcome|opened_new_td_act_yes_no|\n",
            "+---+------+-------------+---------+-------+-------+-------+----+--------+---+-----+--------+--------+-----+--------+--------+------------------------+\n",
            "| 19|admin.|     divorced|  primary|     no|-3313.0|     no|  no|cellular|  1|  apr|     4.0|     1.0| -1.0|     0.0| failure|                      no|\n",
            "+---+------+-------------+---------+-------+-------+-------+----+--------+---+-----+--------+--------+-----+--------+--------+------------------------+\n",
            "\n"
          ]
        }
      ]
    },
    {
      "cell_type": "code",
      "source": [
        "bankDF.where(bankDF.balance < 0).count()"
      ],
      "metadata": {
        "colab": {
          "base_uri": "https://localhost:8080/"
        },
        "id": "FyfT7JtmXRXT",
        "outputId": "4af73e61-576a-4a77-b29c-80baee424451"
      },
      "execution_count": null,
      "outputs": [
        {
          "output_type": "execute_result",
          "data": {
            "text/plain": [
              "366"
            ]
          },
          "metadata": {},
          "execution_count": 34
        }
      ]
    },
    {
      "cell_type": "code",
      "source": [
        "from pyspark.sql.functions import when\n",
        "bankDF = bankDF.withColumn('balance',\n",
        "                           when(bankDF.balance>0, bankDF.balance)\\\n",
        "                           .otherwise(0))\n",
        "#\n",
        "zerobalanceDF = bankDF.where(bankDF.balance < 0)\n",
        "zerobalanceDF.count()"
      ],
      "metadata": {
        "colab": {
          "base_uri": "https://localhost:8080/"
        },
        "id": "VCSFDrXTXV0M",
        "outputId": "e41fb414-0173-4f08-baca-32bbd2a98cce"
      },
      "execution_count": null,
      "outputs": [
        {
          "output_type": "execute_result",
          "data": {
            "text/plain": [
              "0"
            ]
          },
          "metadata": {},
          "execution_count": 35
        }
      ]
    },
    {
      "cell_type": "markdown",
      "source": [
        "Register SQL Table."
      ],
      "metadata": {
        "id": "90x0A5AeXoft"
      }
    },
    {
      "cell_type": "code",
      "source": [
        "bankDF.createOrReplaceTempView('bankDFTable')"
      ],
      "metadata": {
        "id": "_uWSLS7qXkl6"
      },
      "execution_count": null,
      "outputs": []
    },
    {
      "cell_type": "code",
      "source": [
        "resultDF = spark.sql(\"\"\"\n",
        " SELECT opened_new_td_act_yes_no, COUNT(*) AS count\n",
        " FROM bankDFTable\n",
        " GROUP BY opened_new_td_act_yes_no\n",
        "\"\"\")"
      ],
      "metadata": {
        "id": "iCINSsqFXq5S"
      },
      "execution_count": null,
      "outputs": []
    },
    {
      "cell_type": "code",
      "source": [
        "resultDF.show()"
      ],
      "metadata": {
        "colab": {
          "base_uri": "https://localhost:8080/"
        },
        "id": "9VXxf5uXXsVk",
        "outputId": "e475ae02-4c88-4b2e-f41b-b845d9b80534"
      },
      "execution_count": null,
      "outputs": [
        {
          "output_type": "stream",
          "name": "stdout",
          "text": [
            "+------------------------+-----+\n",
            "|opened_new_td_act_yes_no|count|\n",
            "+------------------------+-----+\n",
            "|                      no| 4000|\n",
            "|                     yes|  521|\n",
            "+------------------------+-----+\n",
            "\n"
          ]
        }
      ]
    },
    {
      "cell_type": "code",
      "source": [
        "bankDF.groupBy(\"opened_new_td_act_yes_no\").count().show()"
      ],
      "metadata": {
        "colab": {
          "base_uri": "https://localhost:8080/"
        },
        "id": "8DIxWy_MXtpE",
        "outputId": "b59dcddd-5714-462a-bc9f-ff47a250b3fe"
      },
      "execution_count": null,
      "outputs": [
        {
          "output_type": "stream",
          "name": "stdout",
          "text": [
            "+------------------------+-----+\n",
            "|opened_new_td_act_yes_no|count|\n",
            "+------------------------+-----+\n",
            "|                      no| 4000|\n",
            "|                     yes|  521|\n",
            "+------------------------+-----+\n",
            "\n"
          ]
        }
      ]
    },
    {
      "cell_type": "code",
      "source": [
        "import matplotlib.pyplot as plt\n",
        "import seaborn as sns\n",
        "import chart_studio\n",
        "import plotly\n",
        "chart_studio.tools.set_credentials_file(username='kirankumarinsofe',\n",
        "                                        api_key='JNyhUZiZrgFQ6LUjEGgG')\n",
        "import plotly.figure_factory as ff\n",
        "import chart_studio.plotly as py\n",
        "import plotly.offline as pyoff\n",
        "import plotly.graph_objects as go\n",
        "import warnings\n",
        "\n",
        "### Initialize settings\n",
        "sns.set_style('whitegrid')\n",
        "sns.set(color_codes=True)\n",
        "warnings.filterwarnings('ignore')\n",
        "pyoff.init_notebook_mode(connected=True)\n",
        "get_ipython().magic('matplotlib inline')"
      ],
      "metadata": {
        "colab": {
          "base_uri": "https://localhost:8080/",
          "height": 17
        },
        "id": "PtpA4u_ZX9Yi",
        "outputId": "04e7f908-5144-4e66-d2ac-fd1ea41375ec"
      },
      "execution_count": null,
      "outputs": [
        {
          "output_type": "display_data",
          "data": {
            "text/html": [
              "        <script type=\"text/javascript\">\n",
              "        window.PlotlyConfig = {MathJaxConfig: 'local'};\n",
              "        if (window.MathJax) {MathJax.Hub.Config({SVG: {font: \"STIX-Web\"}});}\n",
              "        if (typeof require !== 'undefined') {\n",
              "        require.undef(\"plotly\");\n",
              "        requirejs.config({\n",
              "            paths: {\n",
              "                'plotly': ['https://cdn.plot.ly/plotly-2.8.3.min']\n",
              "            }\n",
              "        });\n",
              "        require(['plotly'], function(Plotly) {\n",
              "            window._Plotly = Plotly;\n",
              "        });\n",
              "        }\n",
              "        </script>\n",
              "        "
            ]
          },
          "metadata": {}
        }
      ]
    },
    {
      "cell_type": "code",
      "source": [
        "pdDF = resultDF.toPandas()\n",
        "data = [\n",
        "        go.Bar(\n",
        "            x=pdDF['opened_new_td_act_yes_no'],\n",
        "            y=pdDF['count']\n",
        "        )\n",
        "\n",
        "]\n",
        "layout = go.Layout(title='Term Deposit Yes/No Counts')\n",
        "fig = go.Figure(data=data, layout=layout)\n",
        "py.iplot(fig,fileName='20221029_1')"
      ],
      "metadata": {
        "colab": {
          "base_uri": "https://localhost:8080/",
          "height": 546
        },
        "id": "GPfvt79eXwpf",
        "outputId": "bbb791d8-8b27-4f26-8b0c-62481b8d08dc"
      },
      "execution_count": null,
      "outputs": [
        {
          "output_type": "execute_result",
          "data": {
            "text/plain": [
              "<IPython.lib.display.IFrame at 0x7f336c1dbd90>"
            ],
            "text/html": [
              "\n",
              "        <iframe\n",
              "            width=\"100%\"\n",
              "            height=\"525px\"\n",
              "            src=\"https://plotly.com/~kirankumarinsofe/145.embed\"\n",
              "            frameborder=\"0\"\n",
              "            allowfullscreen\n",
              "        ></iframe>\n",
              "        "
            ]
          },
          "metadata": {},
          "execution_count": 41
        }
      ]
    },
    {
      "cell_type": "markdown",
      "source": [
        "Other variables that could be considered for exploratory data analysis\n",
        "* loan vs opened_new_td_act_yes_no\n",
        "* marital_status vs opened_new_td_act_yes_no\n",
        "* job vs opened_new_td_act_yes_no\n",
        "* education\n",
        "* marital status"
      ],
      "metadata": {
        "id": "1on97dAvYhho"
      }
    },
    {
      "cell_type": "code",
      "source": [
        "resultDF = bankDF.crosstab('opened_new_td_act_yes_no','loan')\n",
        "resultDF.show()"
      ],
      "metadata": {
        "colab": {
          "base_uri": "https://localhost:8080/"
        },
        "id": "gHUAXZ0JY0Dv",
        "outputId": "eb9971d6-4679-4eb6-d223-d20548dec24b"
      },
      "execution_count": null,
      "outputs": [
        {
          "output_type": "stream",
          "name": "stdout",
          "text": [
            "+-----------------------------+----+---+\n",
            "|opened_new_td_act_yes_no_loan|  no|yes|\n",
            "+-----------------------------+----+---+\n",
            "|                          yes| 478| 43|\n",
            "|                           no|3352|648|\n",
            "+-----------------------------+----+---+\n",
            "\n"
          ]
        }
      ]
    },
    {
      "cell_type": "markdown",
      "source": [
        "## Convert to pandas dataframe"
      ],
      "metadata": {
        "id": "62hORiGvY6sy"
      }
    },
    {
      "cell_type": "code",
      "source": [
        "pdDF = resultDF.toPandas()"
      ],
      "metadata": {
        "id": "s8O0lYWoY4yM"
      },
      "execution_count": null,
      "outputs": []
    },
    {
      "cell_type": "code",
      "source": [
        "pdDF.columns = ['opened_new_td_act_yes_no_loan','No_Existing_loan','Existing_loan']"
      ],
      "metadata": {
        "id": "oWafGfbMY9uj"
      },
      "execution_count": null,
      "outputs": []
    },
    {
      "cell_type": "code",
      "source": [
        "data = [\n",
        "     go.Bar(\n",
        "            x=['Opted_for_loan','No_opted_loan'],\n",
        "            y=pdDF['No_Existing_loan'],\n",
        "            name='No Existing Loans'\n",
        "        ),\n",
        "     go.Bar(\n",
        "         x = ['Opted_for_loan','No_opted_loan'],\n",
        "         y = pdDF['Existing_loan'],\n",
        "         name = 'Existing Loans'\n",
        "     )\n",
        "]\n",
        "layout=go.Layout(\n",
        "    title='Exsiting/Non-existing loans - Counts',\n",
        "    barmode='group'\n",
        ")\n",
        "fig = go.Figure(data=data,layout=layout)\n",
        "py.iplot(fig)"
      ],
      "metadata": {
        "colab": {
          "base_uri": "https://localhost:8080/",
          "height": 546
        },
        "id": "VGP1u_-iY_X0",
        "outputId": "f6fd545e-cc30-493d-9e8b-42500d0aee27"
      },
      "execution_count": null,
      "outputs": [
        {
          "output_type": "execute_result",
          "data": {
            "text/plain": [
              "<IPython.lib.display.IFrame at 0x7f336c1db9d0>"
            ],
            "text/html": [
              "\n",
              "        <iframe\n",
              "            width=\"100%\"\n",
              "            height=\"525px\"\n",
              "            src=\"https://plotly.com/~kirankumarinsofe/155.embed\"\n",
              "            frameborder=\"0\"\n",
              "            allowfullscreen\n",
              "        ></iframe>\n",
              "        "
            ]
          },
          "metadata": {},
          "execution_count": 45
        }
      ]
    },
    {
      "cell_type": "code",
      "source": [
        "### For different job categories\n",
        "resultDF = spark.sql(\"\"\"\n",
        "SELECT\n",
        "   job,\n",
        "   COUNT(*) AS term_deposit_yes_cnt\n",
        "   FROM bankDFTable\n",
        "   WHERE opened_new_td_act_yes_no = \"yes\"\n",
        "   GROUP BY job\n",
        "\"\"\")"
      ],
      "metadata": {
        "id": "4KbxQDkzZAlp"
      },
      "execution_count": null,
      "outputs": []
    },
    {
      "cell_type": "code",
      "source": [
        "pdDF = resultDF.toPandas()\n",
        "data = [\n",
        "       go.Bar(\n",
        "           x = pdDF['job'],\n",
        "           y = pdDF['term_deposit_yes_cnt']\n",
        "       )\n",
        "]\n",
        "layout = go.Layout(title=\"Term deposit counts in each job category\")\n",
        "fig = go.Figure(data=data,layout=layout)\n",
        "py.iplot(fig)"
      ],
      "metadata": {
        "colab": {
          "base_uri": "https://localhost:8080/",
          "height": 546
        },
        "id": "rOc1v6hrZIWJ",
        "outputId": "619ff21f-d330-4f69-c933-eafb67e33739"
      },
      "execution_count": null,
      "outputs": [
        {
          "output_type": "execute_result",
          "data": {
            "text/plain": [
              "<IPython.lib.display.IFrame at 0x7f337002a110>"
            ],
            "text/html": [
              "\n",
              "        <iframe\n",
              "            width=\"100%\"\n",
              "            height=\"525px\"\n",
              "            src=\"https://plotly.com/~kirankumarinsofe/157.embed\"\n",
              "            frameborder=\"0\"\n",
              "            allowfullscreen\n",
              "        ></iframe>\n",
              "        "
            ]
          },
          "metadata": {},
          "execution_count": 47
        }
      ]
    },
    {
      "cell_type": "code",
      "source": [
        "### For different job categories\n",
        "resultDF = spark.sql(\"\"\"\n",
        "SELECT\n",
        "   job,\n",
        "   COUNT(*) AS term_deposit_no_cnt\n",
        "   FROM bankDFTable\n",
        "   WHERE opened_new_td_act_yes_no = \"no\"\n",
        "   GROUP BY job\n",
        "\"\"\")"
      ],
      "metadata": {
        "id": "NdnqIvteZKoS"
      },
      "execution_count": null,
      "outputs": []
    },
    {
      "cell_type": "code",
      "source": [
        "pdDF = resultDF.toPandas()\n",
        "data = [\n",
        "       go.Bar(\n",
        "           x = pdDF['job'],\n",
        "           y = pdDF['term_deposit_no_cnt']\n",
        "       )\n",
        "]\n",
        "layout = go.Layout(title=\"Term deposit counts in each job category\")\n",
        "fig = go.Figure(data=data,layout=layout)\n",
        "py.iplot(fig)"
      ],
      "metadata": {
        "colab": {
          "base_uri": "https://localhost:8080/",
          "height": 546
        },
        "id": "LA7voXB2ZMkX",
        "outputId": "632f39f7-3aa2-4ddb-ca4e-c8d861b493a4"
      },
      "execution_count": null,
      "outputs": [
        {
          "output_type": "execute_result",
          "data": {
            "text/plain": [
              "<IPython.lib.display.IFrame at 0x7f336c1f3b50>"
            ],
            "text/html": [
              "\n",
              "        <iframe\n",
              "            width=\"100%\"\n",
              "            height=\"525px\"\n",
              "            src=\"https://plotly.com/~kirankumarinsofe/159.embed\"\n",
              "            frameborder=\"0\"\n",
              "            allowfullscreen\n",
              "        ></iframe>\n",
              "        "
            ]
          },
          "metadata": {},
          "execution_count": 49
        }
      ]
    },
    {
      "cell_type": "code",
      "source": [
        "resultDF = bankDF.filter(expr(\"opened_new_td_act_yes_no='yes'\")).groupBy(\"education\").count()\n",
        "resultDF.show()"
      ],
      "metadata": {
        "colab": {
          "base_uri": "https://localhost:8080/"
        },
        "id": "ANg62hMfZN1N",
        "outputId": "b362de12-41ed-4c3f-dad5-a01fb20d74dd"
      },
      "execution_count": null,
      "outputs": [
        {
          "output_type": "stream",
          "name": "stdout",
          "text": [
            "+---------+-----+\n",
            "|education|count|\n",
            "+---------+-----+\n",
            "|  unknown|   19|\n",
            "| tertiary|  193|\n",
            "|secondary|  245|\n",
            "|  primary|   64|\n",
            "+---------+-----+\n",
            "\n"
          ]
        }
      ]
    },
    {
      "cell_type": "code",
      "source": [
        "pdDF = resultDF.toPandas()\n",
        "data = [\n",
        "      go.Bar(\n",
        "          x = pdDF['education'],\n",
        "          y = pdDF['count']\n",
        "      )\n",
        "]\n",
        "layout = go.Layout(title=\"Term deposit opted count in each education level\")\n",
        "fig = go.Figure(data=data,layout=layout)\n",
        "py.iplot(fig)"
      ],
      "metadata": {
        "colab": {
          "base_uri": "https://localhost:8080/",
          "height": 546
        },
        "id": "NWkftHtBZjr7",
        "outputId": "dc12e83e-78ae-4473-ff48-28afadffb698"
      },
      "execution_count": null,
      "outputs": [
        {
          "output_type": "execute_result",
          "data": {
            "text/plain": [
              "<IPython.lib.display.IFrame at 0x7f336bd4d7d0>"
            ],
            "text/html": [
              "\n",
              "        <iframe\n",
              "            width=\"100%\"\n",
              "            height=\"525px\"\n",
              "            src=\"https://plotly.com/~kirankumarinsofe/161.embed\"\n",
              "            frameborder=\"0\"\n",
              "            allowfullscreen\n",
              "        ></iframe>\n",
              "        "
            ]
          },
          "metadata": {},
          "execution_count": 51
        }
      ]
    },
    {
      "cell_type": "code",
      "source": [
        "pdDF = resultDF.toPandas()\n",
        "data = [\n",
        "      go.Bar(\n",
        "          x = pdDF['education'],\n",
        "          y = pdDF['count']\n",
        "      )\n",
        "]\n",
        "layout = go.Layout(title=\"Term deposit opted count in each education level\")\n",
        "fig = go.Figure(data=data,layout=layout)\n",
        "py.iplot(fig)"
      ],
      "metadata": {
        "id": "ir20vrwMaV4X",
        "colab": {
          "base_uri": "https://localhost:8080/",
          "height": 546
        },
        "outputId": "1e7026de-9034-4f6e-f4bc-13b93a588395"
      },
      "execution_count": null,
      "outputs": [
        {
          "output_type": "execute_result",
          "data": {
            "text/plain": [
              "<IPython.lib.display.IFrame at 0x7f336bd28950>"
            ],
            "text/html": [
              "\n",
              "        <iframe\n",
              "            width=\"100%\"\n",
              "            height=\"525px\"\n",
              "            src=\"https://plotly.com/~kirankumarinsofe/167.embed\"\n",
              "            frameborder=\"0\"\n",
              "            allowfullscreen\n",
              "        ></iframe>\n",
              "        "
            ]
          },
          "metadata": {},
          "execution_count": 52
        }
      ]
    },
    {
      "cell_type": "code",
      "source": [
        "resultDF = spark.sql(\"\"\"\n",
        "SELECT\n",
        "  maritalStatus as marital_status,\n",
        "  COUNT(*) AS loan_denied\n",
        "FROM bankDFTable\n",
        "WHERE opened_new_td_act_yes_no = 'no'\n",
        "GROUP BY maritalStatus\n",
        "\"\"\")\n",
        "\n",
        "resultDF.show()"
      ],
      "metadata": {
        "colab": {
          "base_uri": "https://localhost:8080/"
        },
        "id": "kx4agPW6Zj52",
        "outputId": "8fdc6213-4b5d-456f-9fe4-8701b3b6b971"
      },
      "execution_count": null,
      "outputs": [
        {
          "output_type": "stream",
          "name": "stdout",
          "text": [
            "+--------------+-----------+\n",
            "|marital_status|loan_denied|\n",
            "+--------------+-----------+\n",
            "|      divorced|        451|\n",
            "|       married|       2520|\n",
            "|        single|       1029|\n",
            "+--------------+-----------+\n",
            "\n"
          ]
        }
      ]
    },
    {
      "cell_type": "code",
      "source": [
        "pdDF = resultDF.toPandas()\n",
        "data = [\n",
        "      go.Bar(\n",
        "          x = pdDF['marital_status'],\n",
        "          y = pdDF['loan_denied']\n",
        "      )\n",
        "]\n",
        "layout = go.Layout(title=\"Term deposit denied count in each marital status level\")\n",
        "fig = go.Figure(data=data,layout=layout)\n",
        "py.iplot(fig)"
      ],
      "metadata": {
        "colab": {
          "base_uri": "https://localhost:8080/",
          "height": 546
        },
        "id": "374LGt5PaLuH",
        "outputId": "4e6ed4e6-ff68-4db3-e501-b1d8d77206a7"
      },
      "execution_count": null,
      "outputs": [
        {
          "output_type": "execute_result",
          "data": {
            "text/plain": [
              "<IPython.lib.display.IFrame at 0x7f336c206210>"
            ],
            "text/html": [
              "\n",
              "        <iframe\n",
              "            width=\"100%\"\n",
              "            height=\"525px\"\n",
              "            src=\"https://plotly.com/~kirankumarinsofe/169.embed\"\n",
              "            frameborder=\"0\"\n",
              "            allowfullscreen\n",
              "        ></iframe>\n",
              "        "
            ]
          },
          "metadata": {},
          "execution_count": 54
        }
      ]
    },
    {
      "cell_type": "code",
      "source": [
        "bankDF_pd = bankDF.toPandas()\n",
        "bankDF_pd.head()"
      ],
      "metadata": {
        "colab": {
          "base_uri": "https://localhost:8080/",
          "height": 270
        },
        "id": "gfe71BaUbK0_",
        "outputId": "30cf989a-3a99-42c5-d6ff-022799397152"
      },
      "execution_count": null,
      "outputs": [
        {
          "output_type": "execute_result",
          "data": {
            "text/plain": [
              "   age          job maritalStatus  education default  balance housing loan  \\\n",
              "0   30   unemployed       married    primary      no   1787.0      no   no   \n",
              "1   33     services       married  secondary      no   4789.0     yes  yes   \n",
              "2   35   management        single   tertiary      no   1350.0     yes   no   \n",
              "3   30   management       married   tertiary      no   1476.0     yes  yes   \n",
              "4   59  blue-collar       married  secondary      no      0.0     yes   no   \n",
              "\n",
              "    contact  day month  duration  campaign  pdays  previous poutcome  \\\n",
              "0  cellular   19   oct      79.0       1.0   -1.0       0.0  unknown   \n",
              "1  cellular   11   may     220.0       1.0  339.0       4.0  failure   \n",
              "2  cellular   16   apr     185.0       1.0  330.0       1.0  failure   \n",
              "3   unknown    3   jun     199.0       4.0   -1.0       0.0  unknown   \n",
              "4   unknown    5   may     226.0       1.0   -1.0       0.0  unknown   \n",
              "\n",
              "  opened_new_td_act_yes_no  \n",
              "0                       no  \n",
              "1                       no  \n",
              "2                       no  \n",
              "3                       no  \n",
              "4                       no  "
            ],
            "text/html": [
              "\n",
              "  <div id=\"df-909103f6-849b-4ab9-aaf0-83a368696c00\">\n",
              "    <div class=\"colab-df-container\">\n",
              "      <div>\n",
              "<style scoped>\n",
              "    .dataframe tbody tr th:only-of-type {\n",
              "        vertical-align: middle;\n",
              "    }\n",
              "\n",
              "    .dataframe tbody tr th {\n",
              "        vertical-align: top;\n",
              "    }\n",
              "\n",
              "    .dataframe thead th {\n",
              "        text-align: right;\n",
              "    }\n",
              "</style>\n",
              "<table border=\"1\" class=\"dataframe\">\n",
              "  <thead>\n",
              "    <tr style=\"text-align: right;\">\n",
              "      <th></th>\n",
              "      <th>age</th>\n",
              "      <th>job</th>\n",
              "      <th>maritalStatus</th>\n",
              "      <th>education</th>\n",
              "      <th>default</th>\n",
              "      <th>balance</th>\n",
              "      <th>housing</th>\n",
              "      <th>loan</th>\n",
              "      <th>contact</th>\n",
              "      <th>day</th>\n",
              "      <th>month</th>\n",
              "      <th>duration</th>\n",
              "      <th>campaign</th>\n",
              "      <th>pdays</th>\n",
              "      <th>previous</th>\n",
              "      <th>poutcome</th>\n",
              "      <th>opened_new_td_act_yes_no</th>\n",
              "    </tr>\n",
              "  </thead>\n",
              "  <tbody>\n",
              "    <tr>\n",
              "      <th>0</th>\n",
              "      <td>30</td>\n",
              "      <td>unemployed</td>\n",
              "      <td>married</td>\n",
              "      <td>primary</td>\n",
              "      <td>no</td>\n",
              "      <td>1787.0</td>\n",
              "      <td>no</td>\n",
              "      <td>no</td>\n",
              "      <td>cellular</td>\n",
              "      <td>19</td>\n",
              "      <td>oct</td>\n",
              "      <td>79.0</td>\n",
              "      <td>1.0</td>\n",
              "      <td>-1.0</td>\n",
              "      <td>0.0</td>\n",
              "      <td>unknown</td>\n",
              "      <td>no</td>\n",
              "    </tr>\n",
              "    <tr>\n",
              "      <th>1</th>\n",
              "      <td>33</td>\n",
              "      <td>services</td>\n",
              "      <td>married</td>\n",
              "      <td>secondary</td>\n",
              "      <td>no</td>\n",
              "      <td>4789.0</td>\n",
              "      <td>yes</td>\n",
              "      <td>yes</td>\n",
              "      <td>cellular</td>\n",
              "      <td>11</td>\n",
              "      <td>may</td>\n",
              "      <td>220.0</td>\n",
              "      <td>1.0</td>\n",
              "      <td>339.0</td>\n",
              "      <td>4.0</td>\n",
              "      <td>failure</td>\n",
              "      <td>no</td>\n",
              "    </tr>\n",
              "    <tr>\n",
              "      <th>2</th>\n",
              "      <td>35</td>\n",
              "      <td>management</td>\n",
              "      <td>single</td>\n",
              "      <td>tertiary</td>\n",
              "      <td>no</td>\n",
              "      <td>1350.0</td>\n",
              "      <td>yes</td>\n",
              "      <td>no</td>\n",
              "      <td>cellular</td>\n",
              "      <td>16</td>\n",
              "      <td>apr</td>\n",
              "      <td>185.0</td>\n",
              "      <td>1.0</td>\n",
              "      <td>330.0</td>\n",
              "      <td>1.0</td>\n",
              "      <td>failure</td>\n",
              "      <td>no</td>\n",
              "    </tr>\n",
              "    <tr>\n",
              "      <th>3</th>\n",
              "      <td>30</td>\n",
              "      <td>management</td>\n",
              "      <td>married</td>\n",
              "      <td>tertiary</td>\n",
              "      <td>no</td>\n",
              "      <td>1476.0</td>\n",
              "      <td>yes</td>\n",
              "      <td>yes</td>\n",
              "      <td>unknown</td>\n",
              "      <td>3</td>\n",
              "      <td>jun</td>\n",
              "      <td>199.0</td>\n",
              "      <td>4.0</td>\n",
              "      <td>-1.0</td>\n",
              "      <td>0.0</td>\n",
              "      <td>unknown</td>\n",
              "      <td>no</td>\n",
              "    </tr>\n",
              "    <tr>\n",
              "      <th>4</th>\n",
              "      <td>59</td>\n",
              "      <td>blue-collar</td>\n",
              "      <td>married</td>\n",
              "      <td>secondary</td>\n",
              "      <td>no</td>\n",
              "      <td>0.0</td>\n",
              "      <td>yes</td>\n",
              "      <td>no</td>\n",
              "      <td>unknown</td>\n",
              "      <td>5</td>\n",
              "      <td>may</td>\n",
              "      <td>226.0</td>\n",
              "      <td>1.0</td>\n",
              "      <td>-1.0</td>\n",
              "      <td>0.0</td>\n",
              "      <td>unknown</td>\n",
              "      <td>no</td>\n",
              "    </tr>\n",
              "  </tbody>\n",
              "</table>\n",
              "</div>\n",
              "      <button class=\"colab-df-convert\" onclick=\"convertToInteractive('df-909103f6-849b-4ab9-aaf0-83a368696c00')\"\n",
              "              title=\"Convert this dataframe to an interactive table.\"\n",
              "              style=\"display:none;\">\n",
              "        \n",
              "  <svg xmlns=\"http://www.w3.org/2000/svg\" height=\"24px\"viewBox=\"0 0 24 24\"\n",
              "       width=\"24px\">\n",
              "    <path d=\"M0 0h24v24H0V0z\" fill=\"none\"/>\n",
              "    <path d=\"M18.56 5.44l.94 2.06.94-2.06 2.06-.94-2.06-.94-.94-2.06-.94 2.06-2.06.94zm-11 1L8.5 8.5l.94-2.06 2.06-.94-2.06-.94L8.5 2.5l-.94 2.06-2.06.94zm10 10l.94 2.06.94-2.06 2.06-.94-2.06-.94-.94-2.06-.94 2.06-2.06.94z\"/><path d=\"M17.41 7.96l-1.37-1.37c-.4-.4-.92-.59-1.43-.59-.52 0-1.04.2-1.43.59L10.3 9.45l-7.72 7.72c-.78.78-.78 2.05 0 2.83L4 21.41c.39.39.9.59 1.41.59.51 0 1.02-.2 1.41-.59l7.78-7.78 2.81-2.81c.8-.78.8-2.07 0-2.86zM5.41 20L4 18.59l7.72-7.72 1.47 1.35L5.41 20z\"/>\n",
              "  </svg>\n",
              "      </button>\n",
              "      \n",
              "  <style>\n",
              "    .colab-df-container {\n",
              "      display:flex;\n",
              "      flex-wrap:wrap;\n",
              "      gap: 12px;\n",
              "    }\n",
              "\n",
              "    .colab-df-convert {\n",
              "      background-color: #E8F0FE;\n",
              "      border: none;\n",
              "      border-radius: 50%;\n",
              "      cursor: pointer;\n",
              "      display: none;\n",
              "      fill: #1967D2;\n",
              "      height: 32px;\n",
              "      padding: 0 0 0 0;\n",
              "      width: 32px;\n",
              "    }\n",
              "\n",
              "    .colab-df-convert:hover {\n",
              "      background-color: #E2EBFA;\n",
              "      box-shadow: 0px 1px 2px rgba(60, 64, 67, 0.3), 0px 1px 3px 1px rgba(60, 64, 67, 0.15);\n",
              "      fill: #174EA6;\n",
              "    }\n",
              "\n",
              "    [theme=dark] .colab-df-convert {\n",
              "      background-color: #3B4455;\n",
              "      fill: #D2E3FC;\n",
              "    }\n",
              "\n",
              "    [theme=dark] .colab-df-convert:hover {\n",
              "      background-color: #434B5C;\n",
              "      box-shadow: 0px 1px 3px 1px rgba(0, 0, 0, 0.15);\n",
              "      filter: drop-shadow(0px 1px 2px rgba(0, 0, 0, 0.3));\n",
              "      fill: #FFFFFF;\n",
              "    }\n",
              "  </style>\n",
              "\n",
              "      <script>\n",
              "        const buttonEl =\n",
              "          document.querySelector('#df-909103f6-849b-4ab9-aaf0-83a368696c00 button.colab-df-convert');\n",
              "        buttonEl.style.display =\n",
              "          google.colab.kernel.accessAllowed ? 'block' : 'none';\n",
              "\n",
              "        async function convertToInteractive(key) {\n",
              "          const element = document.querySelector('#df-909103f6-849b-4ab9-aaf0-83a368696c00');\n",
              "          const dataTable =\n",
              "            await google.colab.kernel.invokeFunction('convertToInteractive',\n",
              "                                                     [key], {});\n",
              "          if (!dataTable) return;\n",
              "\n",
              "          const docLinkHtml = 'Like what you see? Visit the ' +\n",
              "            '<a target=\"_blank\" href=https://colab.research.google.com/notebooks/data_table.ipynb>data table notebook</a>'\n",
              "            + ' to learn more about interactive tables.';\n",
              "          element.innerHTML = '';\n",
              "          dataTable['output_type'] = 'display_data';\n",
              "          await google.colab.output.renderOutput(dataTable, element);\n",
              "          const docLink = document.createElement('div');\n",
              "          docLink.innerHTML = docLinkHtml;\n",
              "          element.appendChild(docLink);\n",
              "        }\n",
              "      </script>\n",
              "    </div>\n",
              "  </div>\n",
              "  "
            ]
          },
          "metadata": {},
          "execution_count": 55
        }
      ]
    },
    {
      "cell_type": "markdown",
      "source": [
        "## Correlations"
      ],
      "metadata": {
        "id": "pIaCiH3UiZKv"
      }
    },
    {
      "cell_type": "code",
      "source": [
        "correlations = bankDF_pd.corr()\n",
        "correlations"
      ],
      "metadata": {
        "colab": {
          "base_uri": "https://localhost:8080/",
          "height": 269
        },
        "id": "HhybNsgibXAz",
        "outputId": "75569c08-1d73-4108-bd0d-eab65d709e21"
      },
      "execution_count": null,
      "outputs": [
        {
          "output_type": "execute_result",
          "data": {
            "text/plain": [
              "               age   balance       day  duration  campaign     pdays  previous\n",
              "age       1.000000  0.084202 -0.017853 -0.002367 -0.005148 -0.008894 -0.003511\n",
              "balance   0.084202  1.000000 -0.007595 -0.015195 -0.010840  0.008616  0.026031\n",
              "day      -0.017853 -0.007595  1.000000 -0.024629  0.160706 -0.094352 -0.059114\n",
              "duration -0.002367 -0.015195 -0.024629  1.000000 -0.068382  0.010380  0.018080\n",
              "campaign -0.005148 -0.010840  0.160706 -0.068382  1.000000 -0.093137 -0.067833\n",
              "pdays    -0.008894  0.008616 -0.094352  0.010380 -0.093137  1.000000  0.577562\n",
              "previous -0.003511  0.026031 -0.059114  0.018080 -0.067833  0.577562  1.000000"
            ],
            "text/html": [
              "\n",
              "  <div id=\"df-01a81cd9-0e85-446e-b2eb-9d9e117a2415\">\n",
              "    <div class=\"colab-df-container\">\n",
              "      <div>\n",
              "<style scoped>\n",
              "    .dataframe tbody tr th:only-of-type {\n",
              "        vertical-align: middle;\n",
              "    }\n",
              "\n",
              "    .dataframe tbody tr th {\n",
              "        vertical-align: top;\n",
              "    }\n",
              "\n",
              "    .dataframe thead th {\n",
              "        text-align: right;\n",
              "    }\n",
              "</style>\n",
              "<table border=\"1\" class=\"dataframe\">\n",
              "  <thead>\n",
              "    <tr style=\"text-align: right;\">\n",
              "      <th></th>\n",
              "      <th>age</th>\n",
              "      <th>balance</th>\n",
              "      <th>day</th>\n",
              "      <th>duration</th>\n",
              "      <th>campaign</th>\n",
              "      <th>pdays</th>\n",
              "      <th>previous</th>\n",
              "    </tr>\n",
              "  </thead>\n",
              "  <tbody>\n",
              "    <tr>\n",
              "      <th>age</th>\n",
              "      <td>1.000000</td>\n",
              "      <td>0.084202</td>\n",
              "      <td>-0.017853</td>\n",
              "      <td>-0.002367</td>\n",
              "      <td>-0.005148</td>\n",
              "      <td>-0.008894</td>\n",
              "      <td>-0.003511</td>\n",
              "    </tr>\n",
              "    <tr>\n",
              "      <th>balance</th>\n",
              "      <td>0.084202</td>\n",
              "      <td>1.000000</td>\n",
              "      <td>-0.007595</td>\n",
              "      <td>-0.015195</td>\n",
              "      <td>-0.010840</td>\n",
              "      <td>0.008616</td>\n",
              "      <td>0.026031</td>\n",
              "    </tr>\n",
              "    <tr>\n",
              "      <th>day</th>\n",
              "      <td>-0.017853</td>\n",
              "      <td>-0.007595</td>\n",
              "      <td>1.000000</td>\n",
              "      <td>-0.024629</td>\n",
              "      <td>0.160706</td>\n",
              "      <td>-0.094352</td>\n",
              "      <td>-0.059114</td>\n",
              "    </tr>\n",
              "    <tr>\n",
              "      <th>duration</th>\n",
              "      <td>-0.002367</td>\n",
              "      <td>-0.015195</td>\n",
              "      <td>-0.024629</td>\n",
              "      <td>1.000000</td>\n",
              "      <td>-0.068382</td>\n",
              "      <td>0.010380</td>\n",
              "      <td>0.018080</td>\n",
              "    </tr>\n",
              "    <tr>\n",
              "      <th>campaign</th>\n",
              "      <td>-0.005148</td>\n",
              "      <td>-0.010840</td>\n",
              "      <td>0.160706</td>\n",
              "      <td>-0.068382</td>\n",
              "      <td>1.000000</td>\n",
              "      <td>-0.093137</td>\n",
              "      <td>-0.067833</td>\n",
              "    </tr>\n",
              "    <tr>\n",
              "      <th>pdays</th>\n",
              "      <td>-0.008894</td>\n",
              "      <td>0.008616</td>\n",
              "      <td>-0.094352</td>\n",
              "      <td>0.010380</td>\n",
              "      <td>-0.093137</td>\n",
              "      <td>1.000000</td>\n",
              "      <td>0.577562</td>\n",
              "    </tr>\n",
              "    <tr>\n",
              "      <th>previous</th>\n",
              "      <td>-0.003511</td>\n",
              "      <td>0.026031</td>\n",
              "      <td>-0.059114</td>\n",
              "      <td>0.018080</td>\n",
              "      <td>-0.067833</td>\n",
              "      <td>0.577562</td>\n",
              "      <td>1.000000</td>\n",
              "    </tr>\n",
              "  </tbody>\n",
              "</table>\n",
              "</div>\n",
              "      <button class=\"colab-df-convert\" onclick=\"convertToInteractive('df-01a81cd9-0e85-446e-b2eb-9d9e117a2415')\"\n",
              "              title=\"Convert this dataframe to an interactive table.\"\n",
              "              style=\"display:none;\">\n",
              "        \n",
              "  <svg xmlns=\"http://www.w3.org/2000/svg\" height=\"24px\"viewBox=\"0 0 24 24\"\n",
              "       width=\"24px\">\n",
              "    <path d=\"M0 0h24v24H0V0z\" fill=\"none\"/>\n",
              "    <path d=\"M18.56 5.44l.94 2.06.94-2.06 2.06-.94-2.06-.94-.94-2.06-.94 2.06-2.06.94zm-11 1L8.5 8.5l.94-2.06 2.06-.94-2.06-.94L8.5 2.5l-.94 2.06-2.06.94zm10 10l.94 2.06.94-2.06 2.06-.94-2.06-.94-.94-2.06-.94 2.06-2.06.94z\"/><path d=\"M17.41 7.96l-1.37-1.37c-.4-.4-.92-.59-1.43-.59-.52 0-1.04.2-1.43.59L10.3 9.45l-7.72 7.72c-.78.78-.78 2.05 0 2.83L4 21.41c.39.39.9.59 1.41.59.51 0 1.02-.2 1.41-.59l7.78-7.78 2.81-2.81c.8-.78.8-2.07 0-2.86zM5.41 20L4 18.59l7.72-7.72 1.47 1.35L5.41 20z\"/>\n",
              "  </svg>\n",
              "      </button>\n",
              "      \n",
              "  <style>\n",
              "    .colab-df-container {\n",
              "      display:flex;\n",
              "      flex-wrap:wrap;\n",
              "      gap: 12px;\n",
              "    }\n",
              "\n",
              "    .colab-df-convert {\n",
              "      background-color: #E8F0FE;\n",
              "      border: none;\n",
              "      border-radius: 50%;\n",
              "      cursor: pointer;\n",
              "      display: none;\n",
              "      fill: #1967D2;\n",
              "      height: 32px;\n",
              "      padding: 0 0 0 0;\n",
              "      width: 32px;\n",
              "    }\n",
              "\n",
              "    .colab-df-convert:hover {\n",
              "      background-color: #E2EBFA;\n",
              "      box-shadow: 0px 1px 2px rgba(60, 64, 67, 0.3), 0px 1px 3px 1px rgba(60, 64, 67, 0.15);\n",
              "      fill: #174EA6;\n",
              "    }\n",
              "\n",
              "    [theme=dark] .colab-df-convert {\n",
              "      background-color: #3B4455;\n",
              "      fill: #D2E3FC;\n",
              "    }\n",
              "\n",
              "    [theme=dark] .colab-df-convert:hover {\n",
              "      background-color: #434B5C;\n",
              "      box-shadow: 0px 1px 3px 1px rgba(0, 0, 0, 0.15);\n",
              "      filter: drop-shadow(0px 1px 2px rgba(0, 0, 0, 0.3));\n",
              "      fill: #FFFFFF;\n",
              "    }\n",
              "  </style>\n",
              "\n",
              "      <script>\n",
              "        const buttonEl =\n",
              "          document.querySelector('#df-01a81cd9-0e85-446e-b2eb-9d9e117a2415 button.colab-df-convert');\n",
              "        buttonEl.style.display =\n",
              "          google.colab.kernel.accessAllowed ? 'block' : 'none';\n",
              "\n",
              "        async function convertToInteractive(key) {\n",
              "          const element = document.querySelector('#df-01a81cd9-0e85-446e-b2eb-9d9e117a2415');\n",
              "          const dataTable =\n",
              "            await google.colab.kernel.invokeFunction('convertToInteractive',\n",
              "                                                     [key], {});\n",
              "          if (!dataTable) return;\n",
              "\n",
              "          const docLinkHtml = 'Like what you see? Visit the ' +\n",
              "            '<a target=\"_blank\" href=https://colab.research.google.com/notebooks/data_table.ipynb>data table notebook</a>'\n",
              "            + ' to learn more about interactive tables.';\n",
              "          element.innerHTML = '';\n",
              "          dataTable['output_type'] = 'display_data';\n",
              "          await google.colab.output.renderOutput(dataTable, element);\n",
              "          const docLink = document.createElement('div');\n",
              "          docLink.innerHTML = docLinkHtml;\n",
              "          element.appendChild(docLink);\n",
              "        }\n",
              "      </script>\n",
              "    </div>\n",
              "  </div>\n",
              "  "
            ]
          },
          "metadata": {},
          "execution_count": 56
        }
      ]
    },
    {
      "cell_type": "code",
      "source": [
        "trace = go.Heatmap(z=[correlations['age'],correlations['balance'],\n",
        "                      correlations['day'],correlations['duration'],\n",
        "                      correlations['campaign'],\n",
        "                      correlations['pdays'],correlations['previous']],\n",
        "                   x = ['age','balance','day','duration','campaign','pdays','previous'],\n",
        "                   y = ['age','balance','day','duration','campaign','pdays','previous'])\n",
        "data = [trace]\n",
        "layout = go.Layout(title='HeatMap')\n",
        "fig = go.Figure(data=data,layout=layout)\n",
        "py.iplot(fig)"
      ],
      "metadata": {
        "colab": {
          "base_uri": "https://localhost:8080/",
          "height": 546
        },
        "id": "0BBpKphCbYmn",
        "outputId": "0e04af9f-10f7-4ec2-c86f-b7a3fdeabaf0"
      },
      "execution_count": null,
      "outputs": [
        {
          "output_type": "execute_result",
          "data": {
            "text/plain": [
              "<IPython.lib.display.IFrame at 0x7f336bc6dc90>"
            ],
            "text/html": [
              "\n",
              "        <iframe\n",
              "            width=\"100%\"\n",
              "            height=\"525px\"\n",
              "            src=\"https://plotly.com/~kirankumarinsofe/171.embed\"\n",
              "            frameborder=\"0\"\n",
              "            allowfullscreen\n",
              "        ></iframe>\n",
              "        "
            ]
          },
          "metadata": {},
          "execution_count": 57
        }
      ]
    },
    {
      "cell_type": "code",
      "source": [
        "sns.set(style=\"white\")\n",
        "\n",
        "# Generate a mask for the upper triangle\n",
        "mask = np.zeros_like(correlations, dtype=np.bool)\n",
        "mask[np.triu_indices_from(mask)] = True\n",
        "\n",
        "# Set up the matplotlib figure\n",
        "f, ax = plt.subplots(figsize=(9,9))\n",
        "\n",
        "# Generate a custom diverging colormap\n",
        "cmap = sns.diverging_palette(1000, 10, as_cmap=True)\n",
        "\n",
        "# Draw the heatmap with the mask and correct aspect ratio\n",
        "sns.heatmap(correlations, mask=mask, cmap=cmap, vmax=.5, center=0,\n",
        "            square=True, linewidths=.5, cbar_kws={\"shrink\": .5})"
      ],
      "metadata": {
        "colab": {
          "base_uri": "https://localhost:8080/",
          "height": 469
        },
        "id": "84flWs7fbafs",
        "outputId": "ac7df89d-ad0e-4c95-d63e-efb96ee8b7c5"
      },
      "execution_count": null,
      "outputs": [
        {
          "output_type": "execute_result",
          "data": {
            "text/plain": [
              "<matplotlib.axes._subplots.AxesSubplot at 0x7f336bc81ed0>"
            ]
          },
          "metadata": {},
          "execution_count": 58
        },
        {
          "output_type": "display_data",
          "data": {
            "text/plain": [
              "<Figure size 648x648 with 2 Axes>"
            ],
            "image/png": "[encoded data removed]"
          },
          "metadata": {}
        }
      ]
    },
    {
      "cell_type": "code",
      "source": [
        "bankDF.select([count(when(isnan(c) | col(c).isNull(), c).otherwise(None))\\\n",
        "               .alias(c) for c in bankDF.columns])\\\n",
        "               .show()"
      ],
      "metadata": {
        "colab": {
          "base_uri": "https://localhost:8080/"
        },
        "id": "Kil_wabwbnOy",
        "outputId": "1e5fa565-7a79-438e-9358-1b43355941d3"
      },
      "execution_count": null,
      "outputs": [
        {
          "output_type": "stream",
          "name": "stdout",
          "text": [
            "+---+---+-------------+---------+-------+-------+-------+----+-------+---+-----+--------+--------+-----+--------+--------+------------------------+\n",
            "|age|job|maritalStatus|education|default|balance|housing|loan|contact|day|month|duration|campaign|pdays|previous|poutcome|opened_new_td_act_yes_no|\n",
            "+---+---+-------------+---------+-------+-------+-------+----+-------+---+-----+--------+--------+-----+--------+--------+------------------------+\n",
            "|  0|  0|            0|        0|      0|      0|      0|   0|      0|  0|    0|       0|       0|    0|       0|       0|                       0|\n",
            "+---+---+-------------+---------+-------+-------+-------+----+-------+---+-----+--------+--------+-----+--------+--------+------------------------+\n",
            "\n"
          ]
        }
      ]
    },
    {
      "cell_type": "code",
      "source": [
        "data_df = bankDF.na.drop(how=\"any\")\n",
        "#\n",
        "print(\"Count of the records in the datset before dropping null values\",\n",
        "      bankDF.count())\n",
        "#\n",
        "print(\"Count of the records in the dataset after dropping null values\",\n",
        "      data_df.count())"
      ],
      "metadata": {
        "colab": {
          "base_uri": "https://localhost:8080/"
        },
        "id": "paUTpo1-cJu0",
        "outputId": "38988d37-931f-4443-a12b-7c24fa899501"
      },
      "execution_count": null,
      "outputs": [
        {
          "output_type": "stream",
          "name": "stdout",
          "text": [
            "Count of the records in the datset before dropping null values 4521\n",
            "Count of the records in the dataset after dropping null values 4521\n"
          ]
        }
      ]
    },
    {
      "cell_type": "markdown",
      "source": [
        "# Data pre-processing\n",
        "\n",
        "## Train, Test splits"
      ],
      "metadata": {
        "id": "DLYGWRkYifyO"
      }
    },
    {
      "cell_type": "code",
      "source": [
        "(train_data, test_data) = bankDF.randomSplit([0.7,0.3])"
      ],
      "metadata": {
        "id": "R-PYU7ROcaPZ"
      },
      "execution_count": null,
      "outputs": []
    },
    {
      "cell_type": "code",
      "source": [
        "train_data.show(4)"
      ],
      "metadata": {
        "colab": {
          "base_uri": "https://localhost:8080/"
        },
        "id": "EegTMAf2ck0G",
        "outputId": "813fd803-54bc-4612-cf45-217a58f36e54"
      },
      "execution_count": null,
      "outputs": [
        {
          "output_type": "stream",
          "name": "stdout",
          "text": [
            "+---+-------+-------------+---------+-------+-------+-------+----+---------+---+-----+--------+--------+-----+--------+--------+------------------------+\n",
            "|age|    job|maritalStatus|education|default|balance|housing|loan|  contact|day|month|duration|campaign|pdays|previous|poutcome|opened_new_td_act_yes_no|\n",
            "+---+-------+-------------+---------+-------+-------+-------+----+---------+---+-----+--------+--------+-----+--------+--------+------------------------+\n",
            "| 19|student|       single|  primary|     no|  103.0|     no|  no| cellular| 10|  jul|   104.0|     2.0| -1.0|     0.0| unknown|                     yes|\n",
            "| 19|student|       single|secondary|     no|  302.0|     no|  no| cellular| 16|  jul|   205.0|     1.0| -1.0|     0.0| unknown|                     yes|\n",
            "| 20|student|       single|secondary|     no|  291.0|     no|  no|telephone| 11|  may|   172.0|     5.0|371.0|     5.0| failure|                      no|\n",
            "| 20|student|       single|secondary|     no|  502.0|     no|  no| cellular| 30|  apr|   261.0|     1.0| -1.0|     0.0| unknown|                     yes|\n",
            "+---+-------+-------------+---------+-------+-------+-------+----+---------+---+-----+--------+--------+-----+--------+--------+------------------------+\n",
            "only showing top 4 rows\n",
            "\n"
          ]
        }
      ]
    },
    {
      "cell_type": "code",
      "source": [
        "test_data.show(4)"
      ],
      "metadata": {
        "colab": {
          "base_uri": "https://localhost:8080/"
        },
        "id": "GPI2en2Bcpl0",
        "outputId": "2c8c4321-5198-4e01-d1c0-46041ceb2972"
      },
      "execution_count": null,
      "outputs": [
        {
          "output_type": "stream",
          "name": "stdout",
          "text": [
            "+---+--------+-------------+---------+-------+-------+-------+----+---------+---+-----+--------+--------+-----+--------+--------+------------------------+\n",
            "|age|     job|maritalStatus|education|default|balance|housing|loan|  contact|day|month|duration|campaign|pdays|previous|poutcome|opened_new_td_act_yes_no|\n",
            "+---+--------+-------------+---------+-------+-------+-------+----+---------+---+-----+--------+--------+-----+--------+--------+------------------------+\n",
            "| 19| student|       single|  unknown|     no|    0.0|     no|  no| cellular| 11|  feb|   123.0|     3.0| -1.0|     0.0| unknown|                      no|\n",
            "| 19| student|       single|  unknown|     no| 1169.0|     no|  no| cellular|  6|  feb|   463.0|    18.0| -1.0|     0.0| unknown|                      no|\n",
            "| 21|services|       single|secondary|     no|  361.0|     no|  no|telephone|  5|  jun|   329.0|     1.0| 95.0|     1.0|   other|                      no|\n",
            "| 21| student|       single|secondary|     no|  681.0|     no|  no|  unknown| 20|  aug|     6.0|     1.0| -1.0|     0.0| unknown|                      no|\n",
            "+---+--------+-------------+---------+-------+-------+-------+----+---------+---+-----+--------+--------+-----+--------+--------+------------------------+\n",
            "only showing top 4 rows\n",
            "\n"
          ]
        }
      ]
    },
    {
      "cell_type": "code",
      "source": [
        "train_data.count()"
      ],
      "metadata": {
        "colab": {
          "base_uri": "https://localhost:8080/"
        },
        "id": "qdHjgOVvcx8Z",
        "outputId": "d9e431b0-7d3b-48ee-f22d-081701291653"
      },
      "execution_count": null,
      "outputs": [
        {
          "output_type": "execute_result",
          "data": {
            "text/plain": [
              "3182"
            ]
          },
          "metadata": {},
          "execution_count": 64
        }
      ]
    },
    {
      "cell_type": "code",
      "source": [
        "test_data.count()"
      ],
      "metadata": {
        "colab": {
          "base_uri": "https://localhost:8080/"
        },
        "id": "fwzfd98Ncz0j",
        "outputId": "b8c3bb55-6973-44b8-ec65-d323e418a87e"
      },
      "execution_count": null,
      "outputs": [
        {
          "output_type": "execute_result",
          "data": {
            "text/plain": [
              "1339"
            ]
          },
          "metadata": {},
          "execution_count": 65
        }
      ]
    },
    {
      "cell_type": "code",
      "source": [
        "cat_var_names = ['job','maritalStatus','education','default','housing','day','contact','month','poutcome']\n",
        "num_var_names = ['age','balance','duration','previous','pdays','campaign']"
      ],
      "metadata": {
        "id": "1fnjI6-Oc1a3"
      },
      "execution_count": null,
      "outputs": []
    },
    {
      "cell_type": "markdown",
      "source": [
        "## Proess numeric variables"
      ],
      "metadata": {
        "id": "Lnc1Hxtviqkq"
      }
    },
    {
      "cell_type": "code",
      "source": [
        "from pyspark.ml.feature import VectorAssembler\n",
        "vector_assembler_numVars = VectorAssembler(inputCols=num_var_names,\n",
        "                                           outputCol=\"num_features_all\")"
      ],
      "metadata": {
        "id": "jTU38UgCdFG2"
      },
      "execution_count": null,
      "outputs": []
    },
    {
      "cell_type": "markdown",
      "source": [
        "Min Max Scaler\n",
        "\n",
        "Way to normalize the input features/variables is the Min-Max scaler. By doing so, all features will be transformed into the range [0,1] meaning that the minimum and maximum value of a feature/variable is going to be 0 and 1, respectively.\n",
        "\n",
        "X_scaled = (X - X_min)/(X_max - X_min)"
      ],
      "metadata": {
        "id": "SKmzNcfGdxO8"
      }
    },
    {
      "cell_type": "code",
      "source": [
        "from pyspark.ml.feature import MinMaxScaler\n",
        "min_max_Scalar_NumVars = MinMaxScaler(inputCol=\"num_features_all\",\n",
        "                                      outputCol=\"scaled_num_features\")"
      ],
      "metadata": {
        "id": "3-PVpzXsdOl1"
      },
      "execution_count": null,
      "outputs": []
    },
    {
      "cell_type": "markdown",
      "source": [
        "## Process categorical columns"
      ],
      "metadata": {
        "id": "VDt7jpUmixVd"
      }
    },
    {
      "cell_type": "code",
      "source": [
        "from pyspark.ml.feature import StringIndexer\n",
        "df = spark.createDataFrame(\n",
        "    [(0, \"a\"), (1, \"b\"), (2, \"c\"), (3, \"a\"), (4, \"a\"), (5, \"c\")],\n",
        "    [\"id\", \"category\"])\n",
        "\n",
        "indexer = StringIndexer(inputCol=\"category\", outputCol=\"categoryIndex\")\n",
        "indexed = indexer.fit(df).transform(df)\n",
        "indexed.show()"
      ],
      "metadata": {
        "colab": {
          "base_uri": "https://localhost:8080/"
        },
        "id": "_Um09Bo_dfD9",
        "outputId": "2e86db44-1d21-47d8-8f60-2e87aab74af8"
      },
      "execution_count": null,
      "outputs": [
        {
          "output_type": "stream",
          "name": "stdout",
          "text": [
            "+---+--------+-------------+\n",
            "| id|category|categoryIndex|\n",
            "+---+--------+-------------+\n",
            "|  0|       a|          0.0|\n",
            "|  1|       b|          2.0|\n",
            "|  2|       c|          1.0|\n",
            "|  3|       a|          0.0|\n",
            "|  4|       a|          0.0|\n",
            "|  5|       c|          1.0|\n",
            "+---+--------+-------------+\n",
            "\n"
          ]
        }
      ]
    },
    {
      "cell_type": "code",
      "source": [
        "from pyspark.ml.feature import StringIndexer, OneHotEncoder\n",
        "indexers_Cat = [StringIndexer(inputCol=cat_var_name,\n",
        "                              outputCol=\"{0}_index\".format(cat_var_name))\n",
        "                for cat_var_name in cat_var_names]\n",
        "\n",
        "encoders_Cat = [OneHotEncoder(inputCol=indexer.getOutputCol(),\n",
        "                              outputCol=\"{0}_vec\"\\\n",
        "                              .format(indexer.getInputCol()))\n",
        "for indexer in indexers_Cat]\n",
        "\n",
        "assembler_Cat = VectorAssembler(inputCols=[encoder.getOutputCol()\n",
        "                for encoder in encoders_Cat],\n",
        "                outputCol=\"cat_features\")\n",
        "\n",
        "\n",
        "assembler = VectorAssembler(inputCols=[\"scaled_num_features\",\n",
        "                                       \"cat_features\"],\n",
        "                            outputCol=\"features\")"
      ],
      "metadata": {
        "id": "bYqw-Ch8fQXW"
      },
      "execution_count": null,
      "outputs": []
    },
    {
      "cell_type": "code",
      "source": [
        "indexer_Label = StringIndexer(inputCol=\"opened_new_td_act_yes_no\",\n",
        "                              outputCol=\"label\")"
      ],
      "metadata": {
        "id": "-g4yRLzzfxWi"
      },
      "execution_count": null,
      "outputs": []
    },
    {
      "cell_type": "markdown",
      "source": [
        "## Define the pipeline"
      ],
      "metadata": {
        "id": "ROENUHRti4G-"
      }
    },
    {
      "cell_type": "code",
      "source": [
        "preprocessingStages = [vector_assembler_numVars] + \\\n",
        "                      [min_max_Scalar_NumVars] + \\\n",
        "                      indexers_Cat + \\\n",
        "                      encoders_Cat + \\\n",
        "                      [assembler_Cat] + \\\n",
        "                      [assembler] + \\\n",
        "                      [indexer_Label]"
      ],
      "metadata": {
        "id": "Dk39rdDFf21C"
      },
      "execution_count": null,
      "outputs": []
    },
    {
      "cell_type": "code",
      "source": [
        "type(preprocessingStages)"
      ],
      "metadata": {
        "colab": {
          "base_uri": "https://localhost:8080/"
        },
        "id": "19fUrkEJgEDT",
        "outputId": "e3d8c0dc-d286-4bbc-a038-e29a374ad079"
      },
      "execution_count": null,
      "outputs": [
        {
          "output_type": "execute_result",
          "data": {
            "text/plain": [
              "list"
            ]
          },
          "metadata": {},
          "execution_count": 73
        }
      ]
    },
    {
      "cell_type": "code",
      "source": [
        "preprocessingStages"
      ],
      "metadata": {
        "colab": {
          "base_uri": "https://localhost:8080/"
        },
        "id": "qyzIZK5mgJ1d",
        "outputId": "1d37b405-e103-467b-963f-6bd993b6041e"
      },
      "execution_count": null,
      "outputs": [
        {
          "output_type": "execute_result",
          "data": {
            "text/plain": [
              "[VectorAssembler_165534e18517,\n",
              " MinMaxScaler_5e720bcab5fa,\n",
              " StringIndexer_8659cba9e966,\n",
              " StringIndexer_9896c4707268,\n",
              " StringIndexer_d09eefd76a55,\n",
              " StringIndexer_4dd16ae5613d,\n",
              " StringIndexer_1e84c4c52c5f,\n",
              " StringIndexer_35a5f8a2e268,\n",
              " StringIndexer_2bea74a56c9f,\n",
              " StringIndexer_0c15d3b52b86,\n",
              " StringIndexer_8c162238d021,\n",
              " OneHotEncoder_b312e063ae7d,\n",
              " OneHotEncoder_a8e42e9a2960,\n",
              " OneHotEncoder_0153975c0cd7,\n",
              " OneHotEncoder_8812975154de,\n",
              " OneHotEncoder_ac58b7631b3b,\n",
              " OneHotEncoder_2f89e4febb9a,\n",
              " OneHotEncoder_e692ceb61498,\n",
              " OneHotEncoder_4a3cc592aa2a,\n",
              " OneHotEncoder_85d683095b92,\n",
              " VectorAssembler_291d38424c50,\n",
              " VectorAssembler_34a22dc57f57,\n",
              " StringIndexer_1ce5ba02cbf8]"
            ]
          },
          "metadata": {},
          "execution_count": 74
        }
      ]
    },
    {
      "cell_type": "markdown",
      "source": [
        "# Train Classifier"
      ],
      "metadata": {
        "id": "lcoisW2ii8w5"
      }
    },
    {
      "cell_type": "code",
      "source": [
        "from pyspark.ml.classification import LogisticRegression\n",
        "lr =  LogisticRegression(maxIter=10,labelCol=\"label\",\n",
        "                         featuresCol=\"features\")\n",
        "#\n",
        "from pyspark.ml import Pipeline\n",
        "lr_pipeline = Pipeline(stages=preprocessingStages+[lr])\n",
        "lr_pipeline_model = lr_pipeline.fit(train_data)"
      ],
      "metadata": {
        "id": "t9uGJeGVgLME"
      },
      "execution_count": null,
      "outputs": []
    },
    {
      "cell_type": "code",
      "source": [
        "lr_pipeline_model.stages[-1].coefficients"
      ],
      "metadata": {
        "colab": {
          "base_uri": "https://localhost:8080/"
        },
        "id": "xxjnTVFIgVet",
        "outputId": "560ab1c0-ac0d-4f04-9b4b-dd0a275dc486"
      },
      "execution_count": null,
      "outputs": [
        {
          "output_type": "execute_result",
          "data": {
            "text/plain": [
              "DenseVector([0.0477, -0.5533, 13.4253, 0.1875, 1.2417, -4.9172, -0.2179, 0.085, -0.1088, 0.2746, -0.367, 0.4783, -0.1563, -0.3413, -0.9485, -0.7567, 1.0455, -0.1987, -0.3067, -0.1017, 0.1304, -0.1363, 0.0728, -0.2069, -1.2519, 0.3843, -0.3528, 0.4006, -0.6208, -0.2399, -1.4808, -0.8867, 0.1891, 0.0282, -0.4648, 0.8483, -0.9844, -0.0847, 0.2782, -0.402, 0.1869, 0.5134, 0.1696, 0.4177, 0.7737, 0.1457, 0.3041, 0.1013, 0.2294, 0.8326, 0.9959, -0.0631, 1.603, 0.2816, 0.4624, -1.0629, -0.4612, -0.7137, -0.0119, 0.9919, -0.4308, 0.2262, -0.032, -0.6521, 1.6994, 1.6067, 0.4054, -1.6113, -1.4763, -1.4182])"
            ]
          },
          "metadata": {},
          "execution_count": 76
        }
      ]
    },
    {
      "cell_type": "code",
      "source": [
        "lr_pipeline_model.stages[-1].intercept"
      ],
      "metadata": {
        "colab": {
          "base_uri": "https://localhost:8080/"
        },
        "id": "Cj8YjwObgeck",
        "outputId": "809f3d3f-d51a-40db-9207-1d51795fdb95"
      },
      "execution_count": null,
      "outputs": [
        {
          "output_type": "execute_result",
          "data": {
            "text/plain": [
              "-2.1204686804283237"
            ]
          },
          "metadata": {},
          "execution_count": 77
        }
      ]
    },
    {
      "cell_type": "code",
      "source": [
        "train_predictions_lr = lr_pipeline_model.transform(train_data)"
      ],
      "metadata": {
        "id": "Bq6NC_knggJO"
      },
      "execution_count": null,
      "outputs": []
    },
    {
      "cell_type": "code",
      "source": [
        "train_predictions_lr.select('features').show(truncate=False)"
      ],
      "metadata": {
        "colab": {
          "base_uri": "https://localhost:8080/"
        },
        "id": "2TvFbvZGgigE",
        "outputId": "6902e7d0-7e1d-43f9-abfd-5e633ce4f313"
      },
      "execution_count": null,
      "outputs": [
        {
          "output_type": "stream",
          "name": "stdout",
          "text": [
            "+---------------------------------------------------------------------------------------------------------------------------------------------------------------------------------------+\n",
            "|features                                                                                                                                                                               |\n",
            "+---------------------------------------------------------------------------------------------------------------------------------------------------------------------------------------+\n",
            "|(70,[1,2,5,16,18,21,22,52,54,57,67],[0.0014468730684946902,0.03616636528028933,0.02040816326530612,1.0,1.0,1.0,1.0,1.0,1.0,1.0,1.0])                                                   |\n",
            "|(70,[1,2,16,18,19,22,34,54,57,67],[0.00424228802607181,0.07269439421338156,1.0,1.0,1.0,1.0,1.0,1.0,1.0,1.0])                                                                           |\n",
            "|(70,[0,1,2,3,4,5,16,18,19,22,42,56,68],[0.014705882352941176,0.004087767601281115,0.060759493670886074,0.2,0.45982694684796044,0.08163265306122448,1.0,1.0,1.0,1.0,1.0,1.0,1.0])       |\n",
            "|(70,[0,1,2,16,18,19,22,35,54,61,67],[0.014705882352941176,0.007051750294993538,0.09294755877034358,1.0,1.0,1.0,1.0,1.0,1.0,1.0,1.0])                                                   |\n",
            "|(70,[0,1,2,16,18,19,22,41,54,62,67],[0.014705882352941176,0.016730347811428892,0.09764918625678119,1.0,1.0,1.0,1.0,1.0,1.0,1.0,1.0])                                                   |\n",
            "|(70,[0,1,2,5,10,18,19,22,23,36,55,56,67],[0.029411764705882353,0.026732033488790247,0.03725135623869801,0.02040816326530612,1.0,1.0,1.0,1.0,1.0,1.0,1.0,1.0,1.0])                      |\n",
            "|(70,[0,1,2,16,18,19,22,39,55,56,67],[0.029411764705882353,8.428386806765185E-5,0.22350813743218806,1.0,1.0,1.0,1.0,1.0,1.0,1.0,1.0])                                                   |\n",
            "|(70,[0,1,2,3,4,5,16,18,19,22,32,54,58,69],[0.029411764705882353,0.09613979884250154,0.044122965641952984,0.28,0.15822002472187885,0.04081632653061224,1.0,1.0,1.0,1.0,1.0,1.0,1.0,1.0])|\n",
            "|(70,[0,1,2,5,16,18,22,23,41,55,56,67],[0.029411764705882353,0.0019244816542113839,0.0701627486437613,0.04081632653061224,1.0,1.0,1.0,1.0,1.0,1.0,1.0,1.0])                             |\n",
            "|(70,[0,1,2,9,18,19,22,26,54,58,67],[0.04411764705882353,0.057748496937686127,0.022061482820976492,1.0,1.0,1.0,1.0,1.0,1.0,1.0,1.0])                                                    |\n",
            "|(70,[0,1,2,16,18,20,22,26,54,58,67],[0.04411764705882353,0.009706692139124572,0.12079566003616636,1.0,1.0,1.0,1.0,1.0,1.0,1.0,1.0])                                                    |\n",
            "|(70,[0,1,2,5,16,18,22,45,54,57,67],[0.04411764705882353,6.602236331966062E-4,0.023508137432188065,0.04081632653061224,1.0,1.0,1.0,1.0,1.0,1.0,1.0])                                    |\n",
            "|(70,[0,1,2,16,18,22,46,54,66,67],[0.04411764705882353,0.007711973928190144,0.054249547920433995,1.0,1.0,1.0,1.0,1.0,1.0,1.0])                                                          |\n",
            "|(70,[0,1,2,8,18,19,22,41,60,67],[0.04411764705882353,0.004677754677754678,0.045207956600361664,1.0,1.0,1.0,1.0,1.0,1.0,1.0])                                                           |\n",
            "|(70,[0,1,2,9,18,19,22,41,55,56,67],[0.058823529411764705,7.02365567230432E-5,0.14792043399638335,1.0,1.0,1.0,1.0,1.0,1.0,1.0,1.0])                                                     |\n",
            "|(70,[0,1,2,9,18,19,22,23,29,54,56,67],[0.058823529411764705,0.00827386638197449,0.020976491862567812,1.0,1.0,1.0,1.0,1.0,1.0,1.0,1.0,1.0])                                             |\n",
            "|(70,[0,1,2,6,17,21,22,23,34,54,61,67],[0.058823529411764705,0.016266786537056807,0.26726943942133813,1.0,1.0,1.0,1.0,1.0,1.0,1.0,1.0,1.0])                                             |\n",
            "|(70,[0,1,2,3,4,6,18,21,22,23,33,54,56,68],[0.058823529411764705,0.12118615496993876,0.059674502712477394,0.04,0.4289245982694685,1.0,1.0,1.0,1.0,1.0,1.0,1.0,1.0,1.0])                 |\n",
            "|(70,[0,1,2,6,18,22,23,25,54,56,67],[0.058823529411764705,0.01147665336854526,0.043037974683544304,1.0,1.0,1.0,1.0,1.0,1.0,1.0,1.0])                                                    |\n",
            "|(70,[0,1,2,7,18,20,22,23,35,54,61,67],[0.058823529411764705,0.010338821149631961,0.04159132007233273,1.0,1.0,1.0,1.0,1.0,1.0,1.0,1.0,1.0])                                             |\n",
            "+---------------------------------------------------------------------------------------------------------------------------------------------------------------------------------------+\n",
            "only showing top 20 rows\n",
            "\n"
          ]
        }
      ]
    },
    {
      "cell_type": "code",
      "source": [
        "train_predictions_lr.show()"
      ],
      "metadata": {
        "colab": {
          "base_uri": "https://localhost:8080/"
        },
        "id": "-7wRgvJxhCKV",
        "outputId": "696379a0-69ba-4103-a2f6-523592159d78"
      },
      "execution_count": null,
      "outputs": [
        {
          "output_type": "stream",
          "name": "stdout",
          "text": [
            "+---+-----------+-------------+---------+-------+-------+-------+----+---------+---+-----+--------+--------+-----+--------+--------+------------------------+--------------------+--------------------+---------+-------------------+---------------+-------------+-------------+---------+-------------+-----------+--------------+---------------+-----------------+-------------+-------------+-------------+---------------+-------------+---------------+-------------+--------------------+--------------------+-----+--------------------+--------------------+----------+\n",
            "|age|        job|maritalStatus|education|default|balance|housing|loan|  contact|day|month|duration|campaign|pdays|previous|poutcome|opened_new_td_act_yes_no|    num_features_all| scaled_num_features|job_index|maritalStatus_index|education_index|default_index|housing_index|day_index|contact_index|month_index|poutcome_index|        job_vec|maritalStatus_vec|education_vec|  default_vec|  housing_vec|        day_vec|  contact_vec|      month_vec| poutcome_vec|        cat_features|            features|label|       rawPrediction|         probability|prediction|\n",
            "+---+-----------+-------------+---------+-------+-------+-------+----+---------+---+-----+--------+--------+-----+--------+--------+------------------------+--------------------+--------------------+---------+-------------------+---------------+-------------+-------------+---------+-------------+-----------+--------------+---------------+-----------------+-------------+-------------+-------------+---------------+-------------+---------------+-------------+--------------------+--------------------+-----+--------------------+--------------------+----------+\n",
            "| 19|    student|       single|  primary|     no|  103.0|     no|  no| cellular| 10|  jul|   104.0|     2.0| -1.0|     0.0| unknown|                     yes|[19.0,103.0,104.0...|[0.0,0.0014468730...|     10.0|                1.0|            2.0|          0.0|          1.0|     28.0|          0.0|        1.0|           0.0|(11,[10],[1.0])|    (2,[1],[1.0])|(3,[2],[1.0])|(1,[0],[1.0])|    (1,[],[])|(30,[28],[1.0])|(2,[0],[1.0])| (11,[1],[1.0])|(3,[0],[1.0])|(64,[10,12,15,16,...|(70,[1,2,5,16,18,...|  1.0|[1.32047324703975...|[0.78926043172178...|       0.0|\n",
            "| 19|    student|       single|secondary|     no|  302.0|     no|  no| cellular| 16|  jul|   205.0|     1.0| -1.0|     0.0| unknown|                     yes|[19.0,302.0,205.0...|[0.0,0.0042422880...|     10.0|                1.0|            0.0|          0.0|          1.0|     10.0|          0.0|        1.0|           0.0|(11,[10],[1.0])|    (2,[1],[1.0])|(3,[0],[1.0])|(1,[0],[1.0])|    (1,[],[])|(30,[10],[1.0])|(2,[0],[1.0])| (11,[1],[1.0])|(3,[0],[1.0])|(64,[10,12,13,16,...|(70,[1,2,16,18,19...|  1.0|[2.76446639305839...|[0.94072517678766...|       0.0|\n",
            "| 20|    student|       single|secondary|     no|  291.0|     no|  no|telephone| 11|  may|   172.0|     5.0|371.0|     5.0| failure|                      no|[20.0,291.0,172.0...|[0.01470588235294...|     10.0|                1.0|            0.0|          0.0|          1.0|     18.0|          2.0|        0.0|           1.0|(11,[10],[1.0])|    (2,[1],[1.0])|(3,[0],[1.0])|(1,[0],[1.0])|    (1,[],[])|(30,[18],[1.0])|    (2,[],[])| (11,[0],[1.0])|(3,[1],[1.0])|(64,[10,12,13,16,...|(70,[0,1,2,3,4,5,...|  0.0|[2.15729868706565...|[0.89634884462977...|       0.0|\n",
            "| 20|    student|       single|secondary|     no|  502.0|     no|  no| cellular| 30|  apr|   261.0|     1.0| -1.0|     0.0| unknown|                     yes|[20.0,502.0,261.0...|[0.01470588235294...|     10.0|                1.0|            0.0|          0.0|          1.0|     11.0|          0.0|        5.0|           0.0|(11,[10],[1.0])|    (2,[1],[1.0])|(3,[0],[1.0])|(1,[0],[1.0])|    (1,[],[])|(30,[11],[1.0])|(2,[0],[1.0])| (11,[5],[1.0])|(3,[0],[1.0])|(64,[10,12,13,16,...|(70,[0,1,2,16,18,...|  1.0|[0.24035677702837...|[0.55980156948330...|       0.0|\n",
            "| 20|    student|       single|secondary|     no| 1191.0|     no|  no| cellular| 12|  feb|   274.0|     1.0| -1.0|     0.0| unknown|                      no|[20.0,1191.0,274....|[0.01470588235294...|     10.0|                1.0|            0.0|          0.0|          1.0|     17.0|          0.0|        6.0|           0.0|(11,[10],[1.0])|    (2,[1],[1.0])|(3,[0],[1.0])|(1,[0],[1.0])|    (1,[],[])|(30,[17],[1.0])|(2,[0],[1.0])| (11,[6],[1.0])|(3,[0],[1.0])|(64,[10,12,13,16,...|(70,[0,1,2,16,18,...|  0.0|[0.77577572376356...|[0.68476897238146...|       0.0|\n",
            "| 21|   services|       single|secondary|     no| 1903.0|    yes|  no|  unknown| 29|  may|   107.0|     2.0| -1.0|     0.0| unknown|                      no|[21.0,1903.0,107....|[0.02941176470588...|      4.0|                1.0|            0.0|          0.0|          0.0|     12.0|          1.0|        0.0|           0.0| (11,[4],[1.0])|    (2,[1],[1.0])|(3,[0],[1.0])|(1,[0],[1.0])|(1,[0],[1.0])|(30,[12],[1.0])|(2,[1],[1.0])| (11,[0],[1.0])|(3,[0],[1.0])|(64,[4,12,13,16,1...|(70,[0,1,2,5,10,1...|  0.0|[6.76352980602392...|[0.99884618828627...|       0.0|\n",
            "| 21|    student|       single|secondary|     no|    6.0|     no|  no|  unknown|  9|  may|   622.0|     1.0| -1.0|     0.0| unknown|                      no|[21.0,6.0,622.0,0...|[0.02941176470588...|     10.0|                1.0|            0.0|          0.0|          1.0|     15.0|          1.0|        0.0|           0.0|(11,[10],[1.0])|    (2,[1],[1.0])|(3,[0],[1.0])|(1,[0],[1.0])|    (1,[],[])|(30,[15],[1.0])|(2,[1],[1.0])| (11,[0],[1.0])|(3,[0],[1.0])|(64,[10,12,13,16,...|(70,[0,1,2,16,18,...|  0.0|[1.94609146661085...|[0.87501983025924...|       0.0|\n",
            "| 21|    student|       single|secondary|     no| 6844.0|     no|  no| cellular| 14|  aug|   126.0|     3.0|127.0|     7.0|   other|                      no|[21.0,6844.0,126....|[0.02941176470588...|     10.0|                1.0|            0.0|          0.0|          1.0|      8.0|          0.0|        2.0|           2.0|(11,[10],[1.0])|    (2,[1],[1.0])|(3,[0],[1.0])|(1,[0],[1.0])|    (1,[],[])| (30,[8],[1.0])|(2,[0],[1.0])| (11,[2],[1.0])|(3,[2],[1.0])|(64,[10,12,13,16,...|(70,[0,1,2,3,4,5,...|  0.0|[1.60039615926798...|[0.83207374657289...|       0.0|\n",
            "| 21|    student|       single|  unknown|     no|  137.0|    yes|  no|  unknown| 12|  may|   198.0|     3.0| -1.0|     0.0| unknown|                      no|[21.0,137.0,198.0...|[0.02941176470588...|     10.0|                1.0|            3.0|          0.0|          0.0|     17.0|          1.0|        0.0|           0.0|(11,[10],[1.0])|    (2,[1],[1.0])|    (3,[],[])|(1,[0],[1.0])|(1,[0],[1.0])|(30,[17],[1.0])|(2,[1],[1.0])| (11,[0],[1.0])|(3,[0],[1.0])|(64,[10,12,16,17,...|(70,[0,1,2,5,16,1...|  0.0|[3.39631177820864...|[0.96758907022315...|       0.0|\n",
            "| 22|     admin.|       single|secondary|     no| 4111.0|     no| yes| cellular| 19|  aug|    65.0|     1.0| -1.0|     0.0| unknown|                      no|[22.0,4111.0,65.0...|[0.04411764705882...|      3.0|                1.0|            0.0|          0.0|          1.0|      2.0|          0.0|        2.0|           0.0| (11,[3],[1.0])|    (2,[1],[1.0])|(3,[0],[1.0])|(1,[0],[1.0])|    (1,[],[])| (30,[2],[1.0])|(2,[0],[1.0])| (11,[2],[1.0])|(3,[0],[1.0])|(64,[3,12,13,16,2...|(70,[0,1,2,9,18,1...|  0.0|[3.42870837711921...|[0.96858979570411...|       0.0|\n",
            "| 22|    student|       single| tertiary|     no|  691.0|     no|  no| cellular| 19|  aug|   338.0|     1.0| -1.0|     0.0| unknown|                     yes|[22.0,691.0,338.0...|[0.04411764705882...|     10.0|                1.0|            1.0|          0.0|          1.0|      2.0|          0.0|        2.0|           0.0|(11,[10],[1.0])|    (2,[1],[1.0])|(3,[1],[1.0])|(1,[0],[1.0])|    (1,[],[])| (30,[2],[1.0])|(2,[0],[1.0])| (11,[2],[1.0])|(3,[0],[1.0])|(64,[10,12,14,16,...|(70,[0,1,2,16,18,...|  1.0|[1.07359802130165...|[0.74528055760266...|       0.0|\n",
            "| 22|    student|       single|  unknown|     no|   47.0|     no|  no| cellular|  3|  jul|    69.0|     3.0| -1.0|     0.0| unknown|                      no|[22.0,47.0,69.0,0...|[0.04411764705882...|     10.0|                1.0|            3.0|          0.0|          1.0|     21.0|          0.0|        1.0|           0.0|(11,[10],[1.0])|    (2,[1],[1.0])|    (3,[],[])|(1,[0],[1.0])|    (1,[],[])|(30,[21],[1.0])|(2,[0],[1.0])| (11,[1],[1.0])|(3,[0],[1.0])|(64,[10,12,16,39,...|(70,[0,1,2,5,16,1...|  0.0|[2.90921526054785...|[0.94830010463221...|       0.0|\n",
            "| 22|    student|       single|  unknown|     no|  549.0|     no|  no| cellular|  2|  sep|   154.0|     1.0| -1.0|     0.0| unknown|                      no|[22.0,549.0,154.0...|[0.04411764705882...|     10.0|                1.0|            3.0|          0.0|          1.0|     22.0|          0.0|       10.0|           0.0|(11,[10],[1.0])|    (2,[1],[1.0])|    (3,[],[])|(1,[0],[1.0])|    (1,[],[])|(30,[22],[1.0])|(2,[0],[1.0])|(11,[10],[1.0])|(3,[0],[1.0])|(64,[10,12,16,40,...|(70,[0,1,2,16,18,...|  0.0|[1.02216451470529...|[0.73539400619909...|       0.0|\n",
            "| 22| technician|       single|secondary|     no|  333.0|     no| yes|telephone| 12|  nov|   129.0|     1.0| -1.0|     0.0| unknown|                      no|[22.0,333.0,129.0...|[0.04411764705882...|      2.0|                1.0|            0.0|          0.0|          1.0|     17.0|          2.0|        4.0|           0.0| (11,[2],[1.0])|    (2,[1],[1.0])|(3,[0],[1.0])|(1,[0],[1.0])|    (1,[],[])|(30,[17],[1.0])|    (2,[],[])| (11,[4],[1.0])|(3,[0],[1.0])|(64,[2,12,13,16,3...|(70,[0,1,2,8,18,1...|  0.0|[3.48718785271856...|[0.97032101823325...|       0.0|\n",
            "| 23|     admin.|       single|secondary|     no|    5.0|     no|  no|  unknown| 12|  may|   413.0|     1.0| -1.0|     0.0| unknown|                      no|[23.0,5.0,413.0,0...|[0.05882352941176...|      3.0|                1.0|            0.0|          0.0|          1.0|     17.0|          1.0|        0.0|           0.0| (11,[3],[1.0])|    (2,[1],[1.0])|(3,[0],[1.0])|(1,[0],[1.0])|    (1,[],[])|(30,[17],[1.0])|(2,[1],[1.0])| (11,[0],[1.0])|(3,[0],[1.0])|(64,[3,12,13,16,3...|(70,[0,1,2,9,18,1...|  0.0|[2.81495134885044...|[0.94347843966265...|       0.0|\n",
            "| 23|     admin.|       single|secondary|     no|  589.0|    yes|  no| cellular|  6|  may|    62.0|     1.0| -1.0|     0.0| unknown|                      no|[23.0,589.0,62.0,...|[0.05882352941176...|      3.0|                1.0|            0.0|          0.0|          0.0|      5.0|          0.0|        0.0|           0.0| (11,[3],[1.0])|    (2,[1],[1.0])|(3,[0],[1.0])|(1,[0],[1.0])|(1,[0],[1.0])| (30,[5],[1.0])|(2,[0],[1.0])| (11,[0],[1.0])|(3,[0],[1.0])|(64,[3,12,13,16,1...|(70,[0,1,2,9,18,1...|  0.0|[3.95855243005443...|[0.98126689909585...|       0.0|\n",
            "| 23|blue-collar|      married|  primary|     no| 1158.0|    yes|  no| cellular| 16|  apr|   743.0|     1.0| -1.0|     0.0| unknown|                      no|[23.0,1158.0,743....|[0.05882352941176...|      0.0|                0.0|            2.0|          0.0|          0.0|     10.0|          0.0|        5.0|           0.0| (11,[0],[1.0])|    (2,[0],[1.0])|(3,[2],[1.0])|(1,[0],[1.0])|(1,[0],[1.0])|(30,[10],[1.0])|(2,[0],[1.0])| (11,[5],[1.0])|(3,[0],[1.0])|(64,[0,11,15,16,1...|(70,[0,1,2,6,17,2...|  0.0|[0.61287075685210...|[0.64859538207757...|       0.0|\n",
            "| 23|blue-collar|       single|  primary|     no| 8627.0|    yes|  no| cellular| 15|  may|   169.0|     1.0|346.0|     1.0| failure|                      no|[23.0,8627.0,169....|[0.05882352941176...|      0.0|                1.0|            2.0|          0.0|          0.0|      9.0|          0.0|        0.0|           1.0| (11,[0],[1.0])|    (2,[1],[1.0])|(3,[2],[1.0])|(1,[0],[1.0])|(1,[0],[1.0])| (30,[9],[1.0])|(2,[0],[1.0])| (11,[0],[1.0])|(3,[1],[1.0])|(64,[0,12,15,16,1...|(70,[0,1,2,3,4,6,...|  0.0|[3.08534106756309...|[0.95628401234554...|       0.0|\n",
            "| 23|blue-collar|       single|  unknown|     no|  817.0|    yes|  no| cellular| 18|  may|   123.0|     1.0| -1.0|     0.0| unknown|                      no|[23.0,817.0,123.0...|[0.05882352941176...|      0.0|                1.0|            3.0|          0.0|          0.0|      1.0|          0.0|        0.0|           0.0| (11,[0],[1.0])|    (2,[1],[1.0])|    (3,[],[])|(1,[0],[1.0])|(1,[0],[1.0])| (30,[1],[1.0])|(2,[0],[1.0])| (11,[0],[1.0])|(3,[0],[1.0])|(64,[0,12,16,17,1...|(70,[0,1,2,6,18,2...|  0.0|[3.43075484582325...|[0.96865199698635...|       0.0|\n",
            "| 23| management|       single| tertiary|     no|  736.0|    yes|  no| cellular| 30|  apr|   119.0|     1.0| -1.0|     0.0| unknown|                      no|[23.0,736.0,119.0...|[0.05882352941176...|      1.0|                1.0|            1.0|          0.0|          0.0|     11.0|          0.0|        5.0|           0.0| (11,[1],[1.0])|    (2,[1],[1.0])|(3,[1],[1.0])|(1,[0],[1.0])|(1,[0],[1.0])|(30,[11],[1.0])|(2,[0],[1.0])| (11,[5],[1.0])|(3,[0],[1.0])|(64,[1,12,14,16,1...|(70,[0,1,2,7,18,2...|  0.0|[1.86478111785506...|[0.86585325358828...|       0.0|\n",
            "+---+-----------+-------------+---------+-------+-------+-------+----+---------+---+-----+--------+--------+-----+--------+--------+------------------------+--------------------+--------------------+---------+-------------------+---------------+-------------+-------------+---------+-------------+-----------+--------------+---------------+-----------------+-------------+-------------+-------------+---------------+-------------+---------------+-------------+--------------------+--------------------+-----+--------------------+--------------------+----------+\n",
            "only showing top 20 rows\n",
            "\n"
          ]
        }
      ]
    },
    {
      "cell_type": "markdown",
      "source": [
        "## Predictions"
      ],
      "metadata": {
        "id": "sOVtXNZYjJaa"
      }
    },
    {
      "cell_type": "code",
      "source": [
        "from pyspark.ml.evaluation import MulticlassClassificationEvaluator\n",
        "predictionAndLabels_train_lr = train_predictions_lr.select(\"prediction\",\n",
        "                                                           \"label\")\n",
        "#\n",
        "evaluator = MulticlassClassificationEvaluator(metricName=\"accuracy\")\n",
        "train_accuracy_lr = evaluator.evaluate(predictionAndLabels_train_lr)\n",
        "#\n",
        "print(\"Training Set Accuracy = \",train_accuracy_lr)\n",
        "print(\"Training error \", 1-train_accuracy_lr)"
      ],
      "metadata": {
        "colab": {
          "base_uri": "https://localhost:8080/"
        },
        "id": "N9rkxc0hhRl4",
        "outputId": "4670d00c-738c-4415-bad6-7bb2b5994b90"
      },
      "execution_count": null,
      "outputs": [
        {
          "output_type": "stream",
          "name": "stdout",
          "text": [
            "Training Set Accuracy =  0.9107479572595851\n",
            "Training error  0.08925204274041487\n"
          ]
        }
      ]
    },
    {
      "cell_type": "markdown",
      "source": [
        "Predictions on test data"
      ],
      "metadata": {
        "id": "Jx_7QPCXhta0"
      }
    },
    {
      "cell_type": "code",
      "source": [
        "test_predictions_lr = lr_pipeline_model.transform(test_data)"
      ],
      "metadata": {
        "id": "pLKCcwBghspt"
      },
      "execution_count": null,
      "outputs": []
    },
    {
      "cell_type": "code",
      "source": [
        "predictionAndLabels_test_lr = test_predictions_lr.select(\"prediction\",\n",
        "                                                         \"label\")\n",
        "evaluator = MulticlassClassificationEvaluator(metricName=\"accuracy\")\n",
        "test_accuracy_lr = evaluator.evaluate(predictionAndLabels_test_lr)\n",
        "print(\"Testing Set Accuracy = \",test_accuracy_lr)\n",
        "print(\"Testing error \", 1-test_accuracy_lr)"
      ],
      "metadata": {
        "colab": {
          "base_uri": "https://localhost:8080/"
        },
        "id": "DriIMdWyhXtz",
        "outputId": "10243fc6-7824-4914-aa33-26ec07a86a24"
      },
      "execution_count": null,
      "outputs": [
        {
          "output_type": "stream",
          "name": "stdout",
          "text": [
            "Testing Set Accuracy =  0.8805078416728902\n",
            "Testing error  0.1194921583271098\n"
          ]
        }
      ]
    },
    {
      "cell_type": "code",
      "source": [
        "predictionAndLabels_test_lr.show(3)"
      ],
      "metadata": {
        "colab": {
          "base_uri": "https://localhost:8080/"
        },
        "id": "KG6244Ovld4M",
        "outputId": "5e38df00-3a5f-4baa-b5a1-a91264b0ec62"
      },
      "execution_count": null,
      "outputs": [
        {
          "output_type": "stream",
          "name": "stdout",
          "text": [
            "+----------+-----+\n",
            "|prediction|label|\n",
            "+----------+-----+\n",
            "|       0.0|  0.0|\n",
            "|       0.0|  0.0|\n",
            "|       0.0|  0.0|\n",
            "+----------+-----+\n",
            "only showing top 3 rows\n",
            "\n"
          ]
        }
      ]
    },
    {
      "cell_type": "markdown",
      "source": [
        "## Evaluating a Model\n",
        "How good is our model?\n",
        "\n",
        "We could just compute the proportion of rows have matching prediction and label columns, that would be our accuracy. It turns out, though, accuracy is not such a great metric for evaluating a binary classifier.\n",
        "\n",
        "To really tell how good our model is, we need other metrics, such true positive rate (TPR, also known as recall), false positive rate (FPR) and precision, which will vary with the threshold we choose to turn predicted probabilities into predicted classes (0 or 1).\n",
        "\n",
        "If we go over every possible threshold and compute these metrics, we can build both Receiver Operating Characteristic (ROC) curve and Precision-Recall (PR) curve for a given model.\n",
        "\n",
        "It brings up another question: how to compare two models using these curves? They may cross over each other at different points, right? One way of tackling this issue is to look at the area under the curve: the bigger the area, the better the model, roughly speaking. Thus we can compute the Area Under the ROC curve (AUROC, ROC AUC, or sometimes just AUC) and the Area Under the PR curve (PR AUC).\n",
        "\n",
        "A precision-recall curve is a plot of the precision (y-axis) and the recall (x-axis) for different thresholds, much like the ROC curve.\n",
        "\n",
        "* ROC Curves summarize the trade-off between the true positive rate and false positive rate for a predictive model using different probability thresholds.\n",
        "* Precision-Recall curves summarize the trade-off between the true positive rate and the positive predictive value for a predictive model using different probability thresholds.\n",
        "* ROC curves are appropriate when the observations are balanced between each class, whereas precision-recall curves are appropriate for imbalanced datasets."
      ],
      "metadata": {
        "id": "J6VfH-ARoAhy"
      }
    },
    {
      "cell_type": "code",
      "source": [
        "from pyspark.ml.evaluation import BinaryClassificationEvaluator\n",
        "\n",
        "# Let's use the run-of-the-mill evaluator\n",
        "evaluator = BinaryClassificationEvaluator(rawPredictionCol=\"prediction\",\n",
        "                                          labelCol='label')\n",
        "\n",
        "# We have only two choices: area under ROC and PR curves :-(\n",
        "auroc = evaluator.evaluate(predictionAndLabels_test_lr,\n",
        "                           {evaluator.metricName: \"areaUnderROC\"})\n",
        "auprc = evaluator.evaluate(predictionAndLabels_test_lr,\n",
        "                           {evaluator.metricName: \"areaUnderPR\"})\n",
        "print(\"Area under ROC Curve: {:.4f}\".format(auroc))\n",
        "print(\"Area under PR Curve: {:.4f}\".format(auprc))"
      ],
      "metadata": {
        "colab": {
          "base_uri": "https://localhost:8080/"
        },
        "id": "F1f-vIBtnBv1",
        "outputId": "41ae1953-196e-4d3c-eb33-18263b58fa63"
      },
      "execution_count": null,
      "outputs": [
        {
          "output_type": "stream",
          "name": "stdout",
          "text": [
            "Area under ROC Curve: 0.6130\n",
            "Area under PR Curve: 0.3929\n"
          ]
        }
      ]
    },
    {
      "cell_type": "markdown",
      "source": [
        "## Classification metrics\n",
        "For every classification model prediction, a matrix called the confusion matrix can be constructed which demonstrates the number of test cases correctly and incorrectly classified.\n",
        "\n",
        "It looks something like this (considering 1 -Positive and 0 -Negative are the target classes):\n",
        "\n",
        "* TN: Number of negative cases correctly classified\n",
        "* TP: Number of positive cases correctly classified\n",
        "* FN: Number of positive cases incorrectly classified as negative\n",
        "* FP: Number of negative cases correctly classified as positive\n",
        "\n",
        "`Accuracy`: Accuracy is the simplest metric and can be defined as the number of test cases correctly classified divided by the total number of test cases.\n",
        "* (TP+TN)/(TP+TN+FP+FN)\n",
        "\n",
        "`Precision`: Precision is the metric used to identify the correctness of classification.\n",
        "* TP/(TP+FP)\n",
        "\n",
        "`Recall`: Recall tells us the number of positive cases correctly identified out of the total number of positive cases.\n",
        "* TP/(TP+FN)\n",
        "\n",
        "`F1 Score`: F1 score is the harmonic mean of Recall and Precision and therefore, balances out the strengths of each.\n",
        "It is useful in cases where both recall and precision can be valuable.\n",
        "* 2*(Precision*Recall)/(Precision + Recall)\n"
      ],
      "metadata": {
        "id": "0-0L2y6Hqmu0"
      }
    },
    {
      "cell_type": "code",
      "source": [
        "# compute TN, TP, FN, and FP\n",
        "predictionAndLabels_test_lr.groupBy('label', 'prediction').count().show()\n",
        "\n",
        "# Calculate the elements of the confusion matrix\n",
        "TN = predictionAndLabels_test_lr.\\\n",
        "      filter('prediction = 0 AND label = prediction').count()\n",
        "\n",
        "TP = predictionAndLabels_test_lr.\\\n",
        "    filter('prediction = 1 AND label = prediction').count()\n",
        "\n",
        "FN = predictionAndLabels_test_lr.\\\n",
        "    filter('prediction = 0 AND label <> prediction').count()\n",
        "\n",
        "FP = predictionAndLabels_test_lr.\\\n",
        "    filter('prediction = 1 AND label <> prediction').count()\n",
        "\n",
        "# calculate accuracy, precision, recall, and F1-score\n",
        "accuracy = (TN + TP) / (TN + TP + FN + FP)\n",
        "precision = TP / (TP + FP)\n",
        "recall = TP / (TP + FN)\n",
        "F =  2 * (precision*recall) / (precision + recall)\n",
        "\n",
        "print('n precision: %0.3f' % precision)\n",
        "print('n recall: %0.3f' % recall)\n",
        "print('n accuracy: %0.3f' % accuracy)\n",
        "print('n F1 score: %0.3f' % F)"
      ],
      "metadata": {
        "colab": {
          "base_uri": "https://localhost:8080/"
        },
        "id": "gjSwviZtplg9",
        "outputId": "46f73d19-6cca-4474-d47d-114d67560298"
      },
      "execution_count": null,
      "outputs": [
        {
          "output_type": "stream",
          "name": "stdout",
          "text": [
            "+-----+----------+-----+\n",
            "|label|prediction|count|\n",
            "+-----+----------+-----+\n",
            "|  1.0|       1.0|   43|\n",
            "|  0.0|       1.0|   35|\n",
            "|  1.0|       0.0|  125|\n",
            "|  0.0|       0.0| 1136|\n",
            "+-----+----------+-----+\n",
            "\n",
            "n precision: 0.551\n",
            "n recall: 0.256\n",
            "n accuracy: 0.881\n",
            "n F1 score: 0.350\n"
          ]
        }
      ]
    },
    {
      "cell_type": "code",
      "source": [
        "train_pred_pandas = predictionAndLabels_train_lr.toPandas()\n",
        "train_actuals = train_pred_pandas.label.tolist()\n",
        "train_predictions = train_pred_pandas.prediction.tolist()\n",
        "\n",
        "\n",
        "test_pred_pandas = predictionAndLabels_test_lr.toPandas()\n",
        "test_actuals = test_pred_pandas.label.tolist()\n",
        "test_predictions = test_pred_pandas.prediction.tolist()\n",
        "from sklearn import metrics as smetrics\n",
        "cm = smetrics.confusion_matrix(train_actuals, train_predictions)"
      ],
      "metadata": {
        "id": "WK1vedKktCp2"
      },
      "execution_count": null,
      "outputs": []
    },
    {
      "cell_type": "code",
      "source": [
        "df_cm = pd.DataFrame(cm)\n",
        "df_cm.index = ['Not Approved', 'Approved']\n",
        "df_cm.columns = ['Not Approved', 'Approved']\n",
        "names=['Not Approved', 'Approved']\n",
        "print(df_cm)\n",
        "fig = plt.figure(figsize = (10,7))\n",
        "sns.set(font_scale=1.4)#for label size\n",
        "sns.heatmap(df_cm, annot=True,fmt=\"d\",annot_kws={\"size\": 20})"
      ],
      "metadata": {
        "colab": {
          "base_uri": "https://localhost:8080/",
          "height": 505
        },
        "id": "xVx36-HltDA8",
        "outputId": "ba6ec08f-8a0d-4e47-ae0e-4b36dd208fae"
      },
      "execution_count": null,
      "outputs": [
        {
          "output_type": "stream",
          "name": "stdout",
          "text": [
            "              Not Approved  Approved\n",
            "Not Approved          2771        58\n",
            "Approved               226       127\n"
          ]
        },
        {
          "output_type": "execute_result",
          "data": {
            "text/plain": [
              "<matplotlib.axes._subplots.AxesSubplot at 0x7f3368abfbd0>"
            ]
          },
          "metadata": {},
          "execution_count": 88
        },
        {
          "output_type": "display_data",
          "data": {
            "text/plain": [
              "<Figure size 720x504 with 2 Axes>"
            ],
            "image/png": "[encoded data removed]"
          },
          "metadata": {}
        }
      ]
    },
    {
      "cell_type": "code",
      "source": [],
      "metadata": {
        "id": "to7HLml3tGkP"
      },
      "execution_count": null,
      "outputs": []
    }
  ]
}