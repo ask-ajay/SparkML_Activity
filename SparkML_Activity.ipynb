{
  "nbformat": 4,
  "nbformat_minor": 0,
  "metadata": {
    "colab": {
      "provenance": [],
      "include_colab_link": true
    },
    "kernelspec": {
      "name": "python3",
      "display_name": "Python 3"
    },
    "language_info": {
      "name": "python"
    }
  },
  "cells": [
    {
      "cell_type": "markdown",
      "metadata": {
        "id": "view-in-github",
        "colab_type": "text"
      },
      "source": [
        "<a href=\"https://colab.research.google.com/github/ask-ajay/SparkML_Activity/blob/main/SparkML_Activity.ipynb\" target=\"_parent\"><img src=\"https://colab.research.google.com/assets/colab-badge.svg\" alt=\"Open In Colab\"/></a>"
      ]
    },
    {
      "cell_type": "markdown",
      "source": [
        "# Mount G Drive"
      ],
      "metadata": {
        "id": "cZlPegxYRngY"
      }
    },
    {
      "cell_type": "code",
      "source": [
        "from google.colab import drive\n",
        "drive.mount('/content/drive')"
      ],
      "metadata": {
        "colab": {
          "base_uri": "https://localhost:8080/"
        },
        "id": "c1a_NRpgRmwq",
        "outputId": "d2902062-c374-4e3c-a56b-9e6320cfeaed"
      },
      "execution_count": null,
      "outputs": [
        {
          "output_type": "stream",
          "name": "stdout",
          "text": [
            "Mounted at /content/drive\n"
          ]
        }
      ]
    },
    {
      "cell_type": "markdown",
      "source": [
        "List contents"
      ],
      "metadata": {
        "id": "KYC2Yf4cR0Qt"
      }
    },
    {
      "cell_type": "code",
      "source": [
        "!ls '/content/drive/My Drive/Colab Notebooks/Bigdata'"
      ],
      "metadata": {
        "colab": {
          "base_uri": "https://localhost:8080/"
        },
        "id": "bwz8eGC5Rt65",
        "outputId": "a15626a4-3a7b-43d8-9558-07827a705c97"
      },
      "execution_count": null,
      "outputs": [
        {
          "output_type": "stream",
          "name": "stdout",
          "text": [
            "23-Oct\t29-Oct\tindia.txt  temp_data.txt  test.csv  train.csv\n"
          ]
        }
      ]
    },
    {
      "cell_type": "code",
      "source": [
        "!ls '/content/drive/My Drive/Colab Notebooks/Bigdata/29-Oct'"
      ],
      "metadata": {
        "colab": {
          "base_uri": "https://localhost:8080/"
        },
        "id": "FQQLrEuFR3BD",
        "outputId": "cf5008d9-00de-46da-dc0a-9ad7b7532d46"
      },
      "execution_count": null,
      "outputs": [
        {
          "output_type": "stream",
          "name": "stdout",
          "text": [
            "20221029_B120_CSE5225_SparkML_Activity.ipynb  bank_data.csv\n"
          ]
        }
      ]
    },
    {
      "cell_type": "markdown",
      "source": [
        "# Running PySpark on Google Colab\n",
        "\n",
        "There is a full Ubuntu container running on Colaboratory and users are given with the root access. With the root access, users can install any packages or software.\n",
        "\n",
        "In order to work with PySpark on Google Colab,\n",
        "\n",
        "Install dependencies such as Java and Spark.\n",
        "Set the Environment variables (paths).\n",
        "Start the Spark Session."
      ],
      "metadata": {
        "id": "asGZ_YxDR86V"
      }
    },
    {
      "cell_type": "markdown",
      "source": [
        "# Install dependencies\n",
        "\n",
        "To run Spark on Google Colab, first one need to install all the necessary dependencies such as required version of Apache Spark with relevant Hadoop version, Java 8 and findspark package to locate the spark in the environment.\n",
        "\n",
        "These packages can be installed inside the Jupyter notebook of the Google Colab.\n",
        "\n",
        "PySpark isn't on sys.path by default, but that doesn't mean it can't be used as a regular library. You can address this by either symlinking pyspark into your site-packages, or adding pyspark to sys.path at runtime. findspark does the latter.\n",
        "\n",
        "This may take some time to run."
      ],
      "metadata": {
        "id": "47EO-7F4R9FR"
      }
    },
    {
      "cell_type": "code",
      "source": [
        "!apt-get install openjdk-8-jdk-headless -qq > /dev/null\n",
        "!wget https://archive.apache.org/dist/spark/spark-2.4.8/spark-2.4.8-bin-hadoop2.7.tgz\n",
        "!tar xf /content/spark-2.4.8-bin-hadoop2.7.tgz\n",
        "!pip install -q findspark"
      ],
      "metadata": {
        "colab": {
          "base_uri": "https://localhost:8080/"
        },
        "id": "dkJa4GbfR5cJ",
        "outputId": "00288e24-2f89-4a8a-d263-bffc3b4ee1cc"
      },
      "execution_count": null,
      "outputs": [
        {
          "output_type": "stream",
          "name": "stdout",
          "text": [
            "--2022-10-29 04:01:32--  https://archive.apache.org/dist/spark/spark-2.4.8/spark-2.4.8-bin-hadoop2.7.tgz\n",
            "Resolving archive.apache.org (archive.apache.org)... 138.201.131.134, 2a01:4f8:172:2ec5::2\n",
            "Connecting to archive.apache.org (archive.apache.org)|138.201.131.134|:443... connected.\n",
            "HTTP request sent, awaiting response... 200 OK\n",
            "Length: 235899716 (225M) [application/x-gzip]\n",
            "Saving to: ‘spark-2.4.8-bin-hadoop2.7.tgz’\n",
            "\n",
            "spark-2.4.8-bin-had 100%[===================>] 224.97M  22.5MB/s    in 9.7s    \n",
            "\n",
            "2022-10-29 04:01:42 (23.2 MB/s) - ‘spark-2.4.8-bin-hadoop2.7.tgz’ saved [235899716/235899716]\n",
            "\n"
          ]
        }
      ]
    },
    {
      "cell_type": "code",
      "source": [
        "!ls"
      ],
      "metadata": {
        "colab": {
          "base_uri": "https://localhost:8080/"
        },
        "id": "JgtjaIyFSEl_",
        "outputId": "781e83f3-9f87-430d-b2bc-bd03ed6279fc"
      },
      "execution_count": null,
      "outputs": [
        {
          "output_type": "stream",
          "name": "stdout",
          "text": [
            "drive  sample_data  spark-2.4.8-bin-hadoop2.7  spark-2.4.8-bin-hadoop2.7.tgz\n"
          ]
        }
      ]
    },
    {
      "cell_type": "markdown",
      "source": [
        "# Set Environment Variables\n",
        "\n",
        "Java and Spark were installed, set these environment’s path that allows us to run PySpark in our Google Colab environment.\n",
        "\n",
        "To set the location of Java and Spark, run the below code."
      ],
      "metadata": {
        "id": "9wtHYEq_SJfL"
      }
    },
    {
      "cell_type": "code",
      "source": [
        "import os\n",
        "\n",
        "os.environ[\"JAVA_HOME\"] = \"/usr/lib/jvm/java-8-openjdk-amd64\"\n",
        "os.environ[\"SPARK_HOME\"] = \"/content/spark-2.4.8-bin-hadoop2.7\""
      ],
      "metadata": {
        "id": "LW_EzG7xSG1P"
      },
      "execution_count": null,
      "outputs": []
    },
    {
      "cell_type": "markdown",
      "source": [
        "# Start a SparkSession\n",
        "\n",
        "This will start a local Spark session"
      ],
      "metadata": {
        "id": "3o8yofseSMsd"
      }
    },
    {
      "cell_type": "code",
      "source": [
        "import findspark\n",
        "findspark.init()\n",
        "from pyspark.sql import SparkSession\n",
        "\n",
        "spark = SparkSession.builder\\\n",
        "       .master(\"local[*]\")\\\n",
        "       .appName(\"SparkMLActivity\")\\\n",
        "       .getOrCreate()"
      ],
      "metadata": {
        "id": "NqMPIvfHSPM3"
      },
      "execution_count": null,
      "outputs": []
    },
    {
      "cell_type": "markdown",
      "source": [
        "# Use Spark!\n",
        "\n",
        "That's all there is to it - you're ready to use Spark!"
      ],
      "metadata": {
        "id": "LuXgVpwrSPgJ"
      }
    },
    {
      "cell_type": "code",
      "source": [
        "spark"
      ],
      "metadata": {
        "colab": {
          "base_uri": "https://localhost:8080/",
          "height": 219
        },
        "id": "GjzX87d0SYaA",
        "outputId": "295dabcf-61fa-4587-e42b-cea4529fe76c"
      },
      "execution_count": null,
      "outputs": [
        {
          "output_type": "execute_result",
          "data": {
            "text/plain": [
              "<pyspark.sql.session.SparkSession at 0x7f33856ca450>"
            ],
            "text/html": [
              "\n",
              "            <div>\n",
              "                <p><b>SparkSession - in-memory</b></p>\n",
              "                \n",
              "        <div>\n",
              "            <p><b>SparkContext</b></p>\n",
              "\n",
              "            <p><a href=\"http://c3688e623cd4:4040\">Spark UI</a></p>\n",
              "\n",
              "            <dl>\n",
              "              <dt>Version</dt>\n",
              "                <dd><code>v2.4.8</code></dd>\n",
              "              <dt>Master</dt>\n",
              "                <dd><code>local[*]</code></dd>\n",
              "              <dt>AppName</dt>\n",
              "                <dd><code>SparkMLActivity</code></dd>\n",
              "            </dl>\n",
              "        </div>\n",
              "        \n",
              "            </div>\n",
              "        "
            ]
          },
          "metadata": {},
          "execution_count": 8
        }
      ]
    },
    {
      "cell_type": "markdown",
      "source": [
        "# ML Using Spark\n",
        "\n",
        "## Classification and Regression\n",
        "Classification and regression are two categories of supervised machine learning algorithms. Supervised ML, also called predictive analytics, uses algorithms to find patterns in labeled data and then uses a model that recognizes those patterns to predict the labels on new data. Classification and regression algorithms take a dataset with labels (also called the target outcome) and features (also called properties) and learn how to label new data based on those data features.  "
      ],
      "metadata": {
        "id": "ne2MJnNUvO1D"
      }
    },
    {
      "cell_type": "markdown",
      "source": [
        "![spark_ml_1.png](data:image/png;base64,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)"
      ],
      "metadata": {
        "id": "p4r-VpgtvUYl"
      }
    },
    {
      "cell_type": "markdown",
      "source": [
        "`Classification` identifies which category an item belongs to, such as whether a credit card transaction is legitimate. Regression predicts a continuous numeric value like a house price, for example.  \n",
        "\n",
        "`Regression` estimates the relationship between a target outcome dependent variable (the label) and one or more independent variables (the features). Regression can be used to analyze the strength of the relationship between the label and the feature variables, determine how much the label changes with an adjustment in one or more feature variables, and predict trends between the label and feature variables."
      ],
      "metadata": {
        "id": "Qdq7_7EevwfM"
      }
    },
    {
      "cell_type": "markdown",
      "source": [
        "## Machine Learning Workflows\n",
        "Machine learning is an iterative process which involves:\n",
        "\n",
        "* Extracting, Transforming, Loading (ETL) and analyzing historical data in order to extract the significant features and label.\n",
        "* Training, testing, and evaluating the results of ML algorithms to build a model.\n",
        "* Using the model in production with new data to make predictions.\n",
        "* Model monitoring and model updating with new data.\n",
        "\n",
        "## Using Spark ML Pipelines\n",
        "For the features and label to be used by an ML algorithm, they must be put into a feature vector, which is a vector of numbers representing the value for each feature. Feature vectors are used to train, test, and evaluate the results of an ML algorithm to build the best model."
      ],
      "metadata": {
        "id": "cm-e6uTPv_11"
      }
    },
    {
      "cell_type": "markdown",
      "source": [
        "![spark_ml_2.png](data:image/png;base64,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)"
      ],
      "metadata": {
        "id": "x0QeVNb5xua0"
      }
    },
    {
      "cell_type": "markdown",
      "source": [
        "Reference Learning Spark\n",
        "\n",
        "Spark ML provides a uniform set of high-level APIs, built on top of DataFrames for building ML pipelines or workflows. Having ML pipelines built on top of DataFrames provides the scalability of partitioned data processing with the ease of SQL for data manipulation.\n",
        "\n",
        "![spark_ml_3.png](data:image/png;base64,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)"
      ],
      "metadata": {
        "id": "_CKd_Dyjx8Yt"
      }
    },
    {
      "cell_type": "markdown",
      "source": [
        "We use a Spark ML Pipeline to pass the data through transformers and extract the features, an estimator to produce the model, and an evaluator to measure the accuracy of the model.\n",
        "\n",
        "* **Transformer**: A Transformer is an algorithm that transforms one DataFrame into another DataFrame. We’ll use a Transformer to create a DataFrame with a features vector column.\n",
        "* **Estimator**: An Estimator is an algorithm that can be fit on a DataFrame to produce a transformer. We’ll use an estimator to train a model, and return a model Transformer, which can add a predictions column to a DataFrame with a features vector column.\n",
        "* **Pipeline**: A pipeline chains multiple Transformers and Estimators together to specify an ML workflow.\n",
        "* **Evaluator**: An Evaluator measures the accuracy of a trained Model on label and prediction DataFrame columns."
      ],
      "metadata": {
        "id": "N9yaF5ONyNuZ"
      }
    },
    {
      "cell_type": "markdown",
      "source": [
        "# Problem description\n",
        "\n",
        "The dataset is from a bank, data related to direct marketing campaigns of a Portuguese banking\n",
        "institution. The marketing campaigns were based on phone calls. Often, more than one contact to the\n",
        "same client was required, to access if the product (bank term deposit) would be (or not) subscribed.\n",
        "The data and attribute description are in the folder.\n",
        "\n",
        "Dataset Description\n",
        "The dataset has the following attributes:\n",
        "1. unique sequence id\n",
        "2. age (numeric)\n",
        "3. job : type of job (categorical:\n",
        "\"admin.\",\"unknown\",\"unemployed\",\"management\",\"housemaid\",\"entrepreneur\",\"student\", \"blue\u0002collar\",\"self-employed\",\"retired\",\"technician\",\"services\")\n",
        "4. marital_status : marital status (categorical: \"married\",\"divorced\",\"single\"; note: \"divorced\" means\n",
        "divorced or widowed)\n",
        "5. education (categorical: \"unknown\",\"secondary\",\"primary\",\"tertiary\")\n",
        "6. default: has credit in default? (binary: \"yes\",\"no\")\n",
        "7. balance: average yearly balance, in euros (numeric)\n",
        "8. housing: has housing loan? (binary: \"yes\",\"no\")\n",
        "9. loan: has personal loan? (binary: \"yes\",\"no\")\n",
        "10. contact: contact communication type (categorical: \"unknown\",\"telephone\",\"cellular\")\n",
        "11. day: last contact day of the month (numeric)\n",
        "12. month: last contact month of year (categorical: \"jan\", \"feb\", \"mar\", ..., \"nov\", \"dec\")\n",
        "13. duration: last contact duration, in seconds (numeric)\n",
        "14. campaign: number of contacts performed during this campaign and for this client (numeric,\n",
        "includes last contact)\n",
        "15. pdays: number of days that passed by after the client was last contacted from a previous campaign\n",
        "(numeric, -1 means client was not previously contacted)\n",
        "16. previous: number of contacts performed before this campaign and for this client (numeric)\n",
        "17. poutcome: outcome of the previous marketing campaign (categorical:\n",
        "\"unknown\",\"other\",\"failure\",\"success\")\n",
        "18. **opened_new_td_act_no_yes - has the client subscribed to a term deposit? (binary: \"yes\",\"no\")**\n"
      ],
      "metadata": {
        "id": "M6fo9Gg0SqL3"
      }
    },
    {
      "cell_type": "markdown",
      "source": [
        "The idea is we have set of information about a person whether its their age the job they have the\n",
        "marital status whether they have loan with the bank or not etc. we're trying to decide here is whether\n",
        "this person open a new deposit account with this bank.\n",
        "\n",
        "So the theory here is that if I can better target the right customers with the right offer at right time\n",
        "they'll convert over to actually open a deposit account with the bank so that I don't have to reach out\n",
        "whole population and waste a lot of money with ads or mailer or what ever have you but target only\n",
        "the perspective customers"
      ],
      "metadata": {
        "id": "5VuARLsHTQ4B"
      }
    },
    {
      "cell_type": "markdown",
      "source": [
        "Let's try to answer some questions.\n",
        "\n",
        "1. Define the schema for the dataset and use the schema to read the file\n",
        "bank_data.csv\n",
        "2. Using the above schema read the data and the data frame.\n",
        "3. Verify the schema\n",
        "4. Check the datatypes\n",
        "5. Cache the dataframe\n",
        "6. Verify the first few records\n",
        "7. Verify the total number of rows and columns\n",
        "8. Verify the summary statistics\n",
        "9. Find the maximum and minimum values in each column\n",
        "10. Find if there are any negative balances in the columns\n",
        "11. Replace the negative balances with zero.\n",
        "12. Define a table/view on the spark dataframe created to run sql queries on the\n",
        "dataframe.\n",
        "13. Verify the target distribution.\n",
        "14. Find the pairwise frequency between target and loan columns\n",
        "15. Find the term deposit opted for different job categories. (Plot a visualization for\n",
        "the same).\n",
        "16. Find the term deposit not-opted for different job categories. (Plot a visualization\n",
        "for the same).\n",
        "17. Find the term deposit not-opted for different education categories. (Plot a\n",
        "visualization for the same).\n",
        "18. Find the term deposit not-opted for different marital status category. (Plot a\n",
        "visualization for the same).\n",
        "19. Plot a heat map for the dataframe\n",
        "20. Remove null values in the dataframe\n",
        "21. Split the data into training and testing to make it ready for Spark ML pipeline"
      ],
      "metadata": {
        "id": "1vR11Gg0TZMq"
      }
    },
    {
      "cell_type": "code",
      "source": [
        "!pip install chart_studio"
      ],
      "metadata": {
        "colab": {
          "base_uri": "https://localhost:8080/"
        },
        "id": "jj4WYtgySa6K",
        "outputId": "3a7c9714-a3ca-4e5e-8b8e-4d57160daaed"
      },
      "execution_count": null,
      "outputs": [
        {
          "output_type": "stream",
          "name": "stdout",
          "text": [
            "Looking in indexes: https://pypi.org/simple, https://us-python.pkg.dev/colab-wheels/public/simple/\n",
            "Collecting chart_studio\n",
            "  Downloading chart_studio-1.1.0-py3-none-any.whl (64 kB)\n",
            "\u001b[?25l\r\u001b[K     |█████                           | 10 kB 27.6 MB/s eta 0:00:01\r\u001b[K     |██████████▏                     | 20 kB 19.1 MB/s eta 0:00:01\r\u001b[K     |███████████████▎                | 30 kB 9.2 MB/s eta 0:00:01\r\u001b[K     |████████████████████▍           | 40 kB 4.6 MB/s eta 0:00:01\r\u001b[K     |█████████████████████████▍      | 51 kB 5.1 MB/s eta 0:00:01\r\u001b[K     |██████████████████████████████▌ | 61 kB 5.7 MB/s eta 0:00:01\r\u001b[K     |████████████████████████████████| 64 kB 2.2 MB/s \n",
            "\u001b[?25hCollecting retrying>=1.3.3\n",
            "  Downloading retrying-1.3.3.tar.gz (10 kB)\n",
            "Requirement already satisfied: requests in /usr/local/lib/python3.7/dist-packages (from chart_studio) (2.23.0)\n",
            "Requirement already satisfied: six in /usr/local/lib/python3.7/dist-packages (from chart_studio) (1.15.0)\n",
            "Requirement already satisfied: plotly in /usr/local/lib/python3.7/dist-packages (from chart_studio) (5.5.0)\n",
            "Requirement already satisfied: tenacity>=6.2.0 in /usr/local/lib/python3.7/dist-packages (from plotly->chart_studio) (8.1.0)\n",
            "Requirement already satisfied: chardet<4,>=3.0.2 in /usr/local/lib/python3.7/dist-packages (from requests->chart_studio) (3.0.4)\n",
            "Requirement already satisfied: urllib3!=1.25.0,!=1.25.1,<1.26,>=1.21.1 in /usr/local/lib/python3.7/dist-packages (from requests->chart_studio) (1.24.3)\n",
            "Requirement already satisfied: certifi>=2017.4.17 in /usr/local/lib/python3.7/dist-packages (from requests->chart_studio) (2022.9.24)\n",
            "Requirement already satisfied: idna<3,>=2.5 in /usr/local/lib/python3.7/dist-packages (from requests->chart_studio) (2.10)\n",
            "Building wheels for collected packages: retrying\n",
            "  Building wheel for retrying (setup.py) ... \u001b[?25l\u001b[?25hdone\n",
            "  Created wheel for retrying: filename=retrying-1.3.3-py3-none-any.whl size=11447 sha256=2c8ab6ae38fc5f9dfe686971c0717403f649aeb778d07b1a2864167429b4ac6e\n",
            "  Stored in directory: /root/.cache/pip/wheels/f9/8d/8d/f6af3f7f9eea3553bc2fe6d53e4b287dad18b06a861ac56ddf\n",
            "Successfully built retrying\n",
            "Installing collected packages: retrying, chart-studio\n",
            "Successfully installed chart-studio-1.1.0 retrying-1.3.3\n"
          ]
        }
      ]
    },
    {
      "cell_type": "code",
      "source": [
        "from pyspark.sql.types import *\n",
        "from pyspark.sql.functions import *"
      ],
      "metadata": {
        "id": "vDGelNk6TtFJ"
      },
      "execution_count": null,
      "outputs": []
    },
    {
      "cell_type": "code",
      "source": [
        "import numpy as np\n",
        "import pandas as pd\n",
        "from io import StringIO"
      ],
      "metadata": {
        "id": "SKKSYhX8TygE"
      },
      "execution_count": null,
      "outputs": []
    },
    {
      "cell_type": "markdown",
      "source": [
        "Define the dataset schema"
      ],
      "metadata": {
        "id": "bEJ-IjohUAGk"
      }
    },
    {
      "cell_type": "code",
      "source": [
        "bankDataSchema = StructType([\n",
        "                 StructField(\"seqId\",IntegerType(),True),\n",
        "                 StructField(\"age\",IntegerType(),True),\n",
        "                 StructField(\"job\",StringType(),True),\n",
        "                 StructField(\"maritalStatus\",StringType(),True),\n",
        "                 StructField(\"education\",StringType(),True),\n",
        "                 StructField(\"default\",StringType(),True),\n",
        "                 StructField(\"balance\",DoubleType(),True),\n",
        "                 StructField(\"housing\",StringType(),True),\n",
        "                 StructField(\"loan\",StringType(),True),\n",
        "                 StructField(\"contact\",StringType(),True),\n",
        "                 StructField(\"day\",IntegerType(),True),\n",
        "                 StructField(\"month\",StringType(),True),\n",
        "                 StructField(\"duration\",DoubleType(),True),\n",
        "                 StructField(\"campaign\",DoubleType(),True),\n",
        "                 StructField(\"pdays\",DoubleType(),True),\n",
        "                 StructField(\"previous\",DoubleType(),True),\n",
        "                 StructField(\"poutcome\",StringType(),True),\n",
        "                 StructField(\"opened_new_td_act_yes_no\",StringType(),True)\n",
        "])"
      ],
      "metadata": {
        "id": "bJZAtlktT0NT"
      },
      "execution_count": null,
      "outputs": []
    },
    {
      "cell_type": "markdown",
      "source": [
        "# Load the Data from a File into a DataFrame\n",
        "\n",
        "The first step is to load our data into a DataFrame. In the following code, we specify the data source and schema to load into a dataset."
      ],
      "metadata": {
        "id": "PNwr_jMYUhtZ"
      }
    },
    {
      "cell_type": "code",
      "source": [
        "bankDF = spark.read.format('csv')\\\n",
        "        .option('header','false')\\\n",
        "        .option('inferSchema','true')\\\n",
        "        .load(\"/content/drive/My Drive/Colab Notebooks/Bigdata/29-Oct/bank_data.csv\",\n",
        "              schema=bankDataSchema)"
      ],
      "metadata": {
        "id": "4qOyEj1nUFHu"
      },
      "execution_count": null,
      "outputs": []
    },
    {
      "cell_type": "code",
      "source": [
        "%time\n",
        "pdf = pd.DataFrame(np.random.rand(100,3))\n",
        "sparkdf = spark.createDataFrame(pdf)\n",
        "\n",
        "result_df = sparkdf.select(\"*\").toPandas()\n",
        "result_df.head()"
      ],
      "metadata": {
        "colab": {
          "base_uri": "https://localhost:8080/",
          "height": 241
        },
        "id": "IJDreToYVpGQ",
        "outputId": "5a4339b0-be25-4e10-c24b-b9fa0fbd8ce5"
      },
      "execution_count": null,
      "outputs": [
        {
          "output_type": "stream",
          "name": "stdout",
          "text": [
            "CPU times: user 4 µs, sys: 0 ns, total: 4 µs\n",
            "Wall time: 7.63 µs\n"
          ]
        },
        {
          "output_type": "execute_result",
          "data": {
            "text/plain": [
              "          0         1         2\n",
              "0  0.502858  0.288458  0.217275\n",
              "1  0.553651  0.729350  0.382058\n",
              "2  0.269313  0.746263  0.041392\n",
              "3  0.911900  0.561637  0.113030\n",
              "4  0.064319  0.610172  0.889689"
            ],
            "text/html": [
              "\n",
              "  <div id=\"df-66ea11bb-0b0f-4a93-86ed-b22596330110\">\n",
              "    <div class=\"colab-df-container\">\n",
              "      <div>\n",
              "<style scoped>\n",
              "    .dataframe tbody tr th:only-of-type {\n",
              "        vertical-align: middle;\n",
              "    }\n",
              "\n",
              "    .dataframe tbody tr th {\n",
              "        vertical-align: top;\n",
              "    }\n",
              "\n",
              "    .dataframe thead th {\n",
              "        text-align: right;\n",
              "    }\n",
              "</style>\n",
              "<table border=\"1\" class=\"dataframe\">\n",
              "  <thead>\n",
              "    <tr style=\"text-align: right;\">\n",
              "      <th></th>\n",
              "      <th>0</th>\n",
              "      <th>1</th>\n",
              "      <th>2</th>\n",
              "    </tr>\n",
              "  </thead>\n",
              "  <tbody>\n",
              "    <tr>\n",
              "      <th>0</th>\n",
              "      <td>0.502858</td>\n",
              "      <td>0.288458</td>\n",
              "      <td>0.217275</td>\n",
              "    </tr>\n",
              "    <tr>\n",
              "      <th>1</th>\n",
              "      <td>0.553651</td>\n",
              "      <td>0.729350</td>\n",
              "      <td>0.382058</td>\n",
              "    </tr>\n",
              "    <tr>\n",
              "      <th>2</th>\n",
              "      <td>0.269313</td>\n",
              "      <td>0.746263</td>\n",
              "      <td>0.041392</td>\n",
              "    </tr>\n",
              "    <tr>\n",
              "      <th>3</th>\n",
              "      <td>0.911900</td>\n",
              "      <td>0.561637</td>\n",
              "      <td>0.113030</td>\n",
              "    </tr>\n",
              "    <tr>\n",
              "      <th>4</th>\n",
              "      <td>0.064319</td>\n",
              "      <td>0.610172</td>\n",
              "      <td>0.889689</td>\n",
              "    </tr>\n",
              "  </tbody>\n",
              "</table>\n",
              "</div>\n",
              "      <button class=\"colab-df-convert\" onclick=\"convertToInteractive('df-66ea11bb-0b0f-4a93-86ed-b22596330110')\"\n",
              "              title=\"Convert this dataframe to an interactive table.\"\n",
              "              style=\"display:none;\">\n",
              "        \n",
              "  <svg xmlns=\"http://www.w3.org/2000/svg\" height=\"24px\"viewBox=\"0 0 24 24\"\n",
              "       width=\"24px\">\n",
              "    <path d=\"M0 0h24v24H0V0z\" fill=\"none\"/>\n",
              "    <path d=\"M18.56 5.44l.94 2.06.94-2.06 2.06-.94-2.06-.94-.94-2.06-.94 2.06-2.06.94zm-11 1L8.5 8.5l.94-2.06 2.06-.94-2.06-.94L8.5 2.5l-.94 2.06-2.06.94zm10 10l.94 2.06.94-2.06 2.06-.94-2.06-.94-.94-2.06-.94 2.06-2.06.94z\"/><path d=\"M17.41 7.96l-1.37-1.37c-.4-.4-.92-.59-1.43-.59-.52 0-1.04.2-1.43.59L10.3 9.45l-7.72 7.72c-.78.78-.78 2.05 0 2.83L4 21.41c.39.39.9.59 1.41.59.51 0 1.02-.2 1.41-.59l7.78-7.78 2.81-2.81c.8-.78.8-2.07 0-2.86zM5.41 20L4 18.59l7.72-7.72 1.47 1.35L5.41 20z\"/>\n",
              "  </svg>\n",
              "      </button>\n",
              "      \n",
              "  <style>\n",
              "    .colab-df-container {\n",
              "      display:flex;\n",
              "      flex-wrap:wrap;\n",
              "      gap: 12px;\n",
              "    }\n",
              "\n",
              "    .colab-df-convert {\n",
              "      background-color: #E8F0FE;\n",
              "      border: none;\n",
              "      border-radius: 50%;\n",
              "      cursor: pointer;\n",
              "      display: none;\n",
              "      fill: #1967D2;\n",
              "      height: 32px;\n",
              "      padding: 0 0 0 0;\n",
              "      width: 32px;\n",
              "    }\n",
              "\n",
              "    .colab-df-convert:hover {\n",
              "      background-color: #E2EBFA;\n",
              "      box-shadow: 0px 1px 2px rgba(60, 64, 67, 0.3), 0px 1px 3px 1px rgba(60, 64, 67, 0.15);\n",
              "      fill: #174EA6;\n",
              "    }\n",
              "\n",
              "    [theme=dark] .colab-df-convert {\n",
              "      background-color: #3B4455;\n",
              "      fill: #D2E3FC;\n",
              "    }\n",
              "\n",
              "    [theme=dark] .colab-df-convert:hover {\n",
              "      background-color: #434B5C;\n",
              "      box-shadow: 0px 1px 3px 1px rgba(0, 0, 0, 0.15);\n",
              "      filter: drop-shadow(0px 1px 2px rgba(0, 0, 0, 0.3));\n",
              "      fill: #FFFFFF;\n",
              "    }\n",
              "  </style>\n",
              "\n",
              "      <script>\n",
              "        const buttonEl =\n",
              "          document.querySelector('#df-66ea11bb-0b0f-4a93-86ed-b22596330110 button.colab-df-convert');\n",
              "        buttonEl.style.display =\n",
              "          google.colab.kernel.accessAllowed ? 'block' : 'none';\n",
              "\n",
              "        async function convertToInteractive(key) {\n",
              "          const element = document.querySelector('#df-66ea11bb-0b0f-4a93-86ed-b22596330110');\n",
              "          const dataTable =\n",
              "            await google.colab.kernel.invokeFunction('convertToInteractive',\n",
              "                                                     [key], {});\n",
              "          if (!dataTable) return;\n",
              "\n",
              "          const docLinkHtml = 'Like what you see? Visit the ' +\n",
              "            '<a target=\"_blank\" href=https://colab.research.google.com/notebooks/data_table.ipynb>data table notebook</a>'\n",
              "            + ' to learn more about interactive tables.';\n",
              "          element.innerHTML = '';\n",
              "          dataTable['output_type'] = 'display_data';\n",
              "          await google.colab.output.renderOutput(dataTable, element);\n",
              "          const docLink = document.createElement('div');\n",
              "          docLink.innerHTML = docLinkHtml;\n",
              "          element.appendChild(docLink);\n",
              "        }\n",
              "      </script>\n",
              "    </div>\n",
              "  </div>\n",
              "  "
            ]
          },
          "metadata": {},
          "execution_count": 27
        }
      ]
    },
    {
      "cell_type": "code",
      "source": [
        "%time\n",
        "spark.conf.set(\"spark.sql.execution.arrow.enabled\",\"false\")\n",
        "pdf = pd.DataFrame(np.random.rand(100,3))\n",
        "sparkdf = spark.createDataFrame(pdf)\n",
        "\n",
        "result_df = sparkdf.select(\"*\").toPandas()\n",
        "result_df.head()"
      ],
      "metadata": {
        "colab": {
          "base_uri": "https://localhost:8080/",
          "height": 241
        },
        "id": "MVqqVmSQVhXy",
        "outputId": "005ecffb-09c5-44bf-b835-154b542b7a72"
      },
      "execution_count": null,
      "outputs": [
        {
          "output_type": "stream",
          "name": "stdout",
          "text": [
            "CPU times: user 3 µs, sys: 0 ns, total: 3 µs\n",
            "Wall time: 6.91 µs\n"
          ]
        },
        {
          "output_type": "execute_result",
          "data": {
            "text/plain": [
              "          0         1         2\n",
              "0  0.280724  0.037822  0.882365\n",
              "1  0.546126  0.826241  0.220573\n",
              "2  0.952488  0.198431  0.931833\n",
              "3  0.424906  0.190553  0.441329\n",
              "4  0.919536  0.193353  0.302904"
            ],
            "text/html": [
              "\n",
              "  <div id=\"df-f6c8617f-001b-498e-aa86-b8d6a142b201\">\n",
              "    <div class=\"colab-df-container\">\n",
              "      <div>\n",
              "<style scoped>\n",
              "    .dataframe tbody tr th:only-of-type {\n",
              "        vertical-align: middle;\n",
              "    }\n",
              "\n",
              "    .dataframe tbody tr th {\n",
              "        vertical-align: top;\n",
              "    }\n",
              "\n",
              "    .dataframe thead th {\n",
              "        text-align: right;\n",
              "    }\n",
              "</style>\n",
              "<table border=\"1\" class=\"dataframe\">\n",
              "  <thead>\n",
              "    <tr style=\"text-align: right;\">\n",
              "      <th></th>\n",
              "      <th>0</th>\n",
              "      <th>1</th>\n",
              "      <th>2</th>\n",
              "    </tr>\n",
              "  </thead>\n",
              "  <tbody>\n",
              "    <tr>\n",
              "      <th>0</th>\n",
              "      <td>0.280724</td>\n",
              "      <td>0.037822</td>\n",
              "      <td>0.882365</td>\n",
              "    </tr>\n",
              "    <tr>\n",
              "      <th>1</th>\n",
              "      <td>0.546126</td>\n",
              "      <td>0.826241</td>\n",
              "      <td>0.220573</td>\n",
              "    </tr>\n",
              "    <tr>\n",
              "      <th>2</th>\n",
              "      <td>0.952488</td>\n",
              "      <td>0.198431</td>\n",
              "      <td>0.931833</td>\n",
              "    </tr>\n",
              "    <tr>\n",
              "      <th>3</th>\n",
              "      <td>0.424906</td>\n",
              "      <td>0.190553</td>\n",
              "      <td>0.441329</td>\n",
              "    </tr>\n",
              "    <tr>\n",
              "      <th>4</th>\n",
              "      <td>0.919536</td>\n",
              "      <td>0.193353</td>\n",
              "      <td>0.302904</td>\n",
              "    </tr>\n",
              "  </tbody>\n",
              "</table>\n",
              "</div>\n",
              "      <button class=\"colab-df-convert\" onclick=\"convertToInteractive('df-f6c8617f-001b-498e-aa86-b8d6a142b201')\"\n",
              "              title=\"Convert this dataframe to an interactive table.\"\n",
              "              style=\"display:none;\">\n",
              "        \n",
              "  <svg xmlns=\"http://www.w3.org/2000/svg\" height=\"24px\"viewBox=\"0 0 24 24\"\n",
              "       width=\"24px\">\n",
              "    <path d=\"M0 0h24v24H0V0z\" fill=\"none\"/>\n",
              "    <path d=\"M18.56 5.44l.94 2.06.94-2.06 2.06-.94-2.06-.94-.94-2.06-.94 2.06-2.06.94zm-11 1L8.5 8.5l.94-2.06 2.06-.94-2.06-.94L8.5 2.5l-.94 2.06-2.06.94zm10 10l.94 2.06.94-2.06 2.06-.94-2.06-.94-.94-2.06-.94 2.06-2.06.94z\"/><path d=\"M17.41 7.96l-1.37-1.37c-.4-.4-.92-.59-1.43-.59-.52 0-1.04.2-1.43.59L10.3 9.45l-7.72 7.72c-.78.78-.78 2.05 0 2.83L4 21.41c.39.39.9.59 1.41.59.51 0 1.02-.2 1.41-.59l7.78-7.78 2.81-2.81c.8-.78.8-2.07 0-2.86zM5.41 20L4 18.59l7.72-7.72 1.47 1.35L5.41 20z\"/>\n",
              "  </svg>\n",
              "      </button>\n",
              "      \n",
              "  <style>\n",
              "    .colab-df-container {\n",
              "      display:flex;\n",
              "      flex-wrap:wrap;\n",
              "      gap: 12px;\n",
              "    }\n",
              "\n",
              "    .colab-df-convert {\n",
              "      background-color: #E8F0FE;\n",
              "      border: none;\n",
              "      border-radius: 50%;\n",
              "      cursor: pointer;\n",
              "      display: none;\n",
              "      fill: #1967D2;\n",
              "      height: 32px;\n",
              "      padding: 0 0 0 0;\n",
              "      width: 32px;\n",
              "    }\n",
              "\n",
              "    .colab-df-convert:hover {\n",
              "      background-color: #E2EBFA;\n",
              "      box-shadow: 0px 1px 2px rgba(60, 64, 67, 0.3), 0px 1px 3px 1px rgba(60, 64, 67, 0.15);\n",
              "      fill: #174EA6;\n",
              "    }\n",
              "\n",
              "    [theme=dark] .colab-df-convert {\n",
              "      background-color: #3B4455;\n",
              "      fill: #D2E3FC;\n",
              "    }\n",
              "\n",
              "    [theme=dark] .colab-df-convert:hover {\n",
              "      background-color: #434B5C;\n",
              "      box-shadow: 0px 1px 3px 1px rgba(0, 0, 0, 0.15);\n",
              "      filter: drop-shadow(0px 1px 2px rgba(0, 0, 0, 0.3));\n",
              "      fill: #FFFFFF;\n",
              "    }\n",
              "  </style>\n",
              "\n",
              "      <script>\n",
              "        const buttonEl =\n",
              "          document.querySelector('#df-f6c8617f-001b-498e-aa86-b8d6a142b201 button.colab-df-convert');\n",
              "        buttonEl.style.display =\n",
              "          google.colab.kernel.accessAllowed ? 'block' : 'none';\n",
              "\n",
              "        async function convertToInteractive(key) {\n",
              "          const element = document.querySelector('#df-f6c8617f-001b-498e-aa86-b8d6a142b201');\n",
              "          const dataTable =\n",
              "            await google.colab.kernel.invokeFunction('convertToInteractive',\n",
              "                                                     [key], {});\n",
              "          if (!dataTable) return;\n",
              "\n",
              "          const docLinkHtml = 'Like what you see? Visit the ' +\n",
              "            '<a target=\"_blank\" href=https://colab.research.google.com/notebooks/data_table.ipynb>data table notebook</a>'\n",
              "            + ' to learn more about interactive tables.';\n",
              "          element.innerHTML = '';\n",
              "          dataTable['output_type'] = 'display_data';\n",
              "          await google.colab.output.renderOutput(dataTable, element);\n",
              "          const docLink = document.createElement('div');\n",
              "          docLink.innerHTML = docLinkHtml;\n",
              "          element.appendChild(docLink);\n",
              "        }\n",
              "      </script>\n",
              "    </div>\n",
              "  </div>\n",
              "  "
            ]
          },
          "metadata": {},
          "execution_count": 28
        }
      ]
    },
    {
      "cell_type": "markdown",
      "source": [
        "# EDA\n",
        "\n",
        "## Data schema"
      ],
      "metadata": {
        "id": "QCik_Sl2h3RV"
      }
    },
    {
      "cell_type": "code",
      "source": [
        "bankDF.printSchema()"
      ],
      "metadata": {
        "colab": {
          "base_uri": "https://localhost:8080/"
        },
        "id": "Pk-Uuz5AWNW9",
        "outputId": "3cc13bd3-1c49-4a1a-f42b-a68e1e2463d7"
      },
      "execution_count": null,
      "outputs": [
        {
          "output_type": "stream",
          "name": "stdout",
          "text": [
            "root\n",
            " |-- seqId: integer (nullable = true)\n",
            " |-- age: integer (nullable = true)\n",
            " |-- job: string (nullable = true)\n",
            " |-- maritalStatus: string (nullable = true)\n",
            " |-- education: string (nullable = true)\n",
            " |-- default: string (nullable = true)\n",
            " |-- balance: double (nullable = true)\n",
            " |-- housing: string (nullable = true)\n",
            " |-- loan: string (nullable = true)\n",
            " |-- contact: string (nullable = true)\n",
            " |-- day: integer (nullable = true)\n",
            " |-- month: string (nullable = true)\n",
            " |-- duration: double (nullable = true)\n",
            " |-- campaign: double (nullable = true)\n",
            " |-- pdays: double (nullable = true)\n",
            " |-- previous: double (nullable = true)\n",
            " |-- poutcome: string (nullable = true)\n",
            " |-- opened_new_td_act_yes_no: string (nullable = true)\n",
            "\n"
          ]
        }
      ]
    },
    {
      "cell_type": "markdown",
      "source": [
        "## Data types"
      ],
      "metadata": {
        "id": "NSq9kgfnh-q0"
      }
    },
    {
      "cell_type": "code",
      "source": [
        "bankDF.dtypes"
      ],
      "metadata": {
        "colab": {
          "base_uri": "https://localhost:8080/"
        },
        "id": "9S-Tc8uiWg79",
        "outputId": "8d854df2-e9e3-4a98-eedd-caa9eef0d01c"
      },
      "execution_count": null,
      "outputs": [
        {
          "output_type": "execute_result",
          "data": {
            "text/plain": [
              "[('seqId', 'int'),\n",
              " ('age', 'int'),\n",
              " ('job', 'string'),\n",
              " ('maritalStatus', 'string'),\n",
              " ('education', 'string'),\n",
              " ('default', 'string'),\n",
              " ('balance', 'double'),\n",
              " ('housing', 'string'),\n",
              " ('loan', 'string'),\n",
              " ('contact', 'string'),\n",
              " ('day', 'int'),\n",
              " ('month', 'string'),\n",
              " ('duration', 'double'),\n",
              " ('campaign', 'double'),\n",
              " ('pdays', 'double'),\n",
              " ('previous', 'double'),\n",
              " ('poutcome', 'string'),\n",
              " ('opened_new_td_act_yes_no', 'string')]"
            ]
          },
          "metadata": {},
          "execution_count": 18
        }
      ]
    },
    {
      "cell_type": "markdown",
      "source": [
        "## Sample data"
      ],
      "metadata": {
        "id": "fx4Rn0PEiFQe"
      }
    },
    {
      "cell_type": "code",
      "source": [
        "bankDF.show(3)"
      ],
      "metadata": {
        "colab": {
          "base_uri": "https://localhost:8080/"
        },
        "id": "4Bo5E10HWkAY",
        "outputId": "c3f6c4d8-746f-4312-d21e-f43cb305fda9"
      },
      "execution_count": null,
      "outputs": [
        {
          "output_type": "stream",
          "name": "stdout",
          "text": [
            "+-----+---+----------+-------------+---------+-------+-------+-------+----+--------+---+-----+--------+--------+-----+--------+--------+------------------------+\n",
            "|seqId|age|       job|maritalStatus|education|default|balance|housing|loan| contact|day|month|duration|campaign|pdays|previous|poutcome|opened_new_td_act_yes_no|\n",
            "+-----+---+----------+-------------+---------+-------+-------+-------+----+--------+---+-----+--------+--------+-----+--------+--------+------------------------+\n",
            "| 1001| 30|unemployed|      married|  primary|     no| 1787.0|     no|  no|cellular| 19|  oct|    79.0|     1.0| -1.0|     0.0| unknown|                      no|\n",
            "| 1002| 33|  services|      married|secondary|     no| 4789.0|    yes| yes|cellular| 11|  may|   220.0|     1.0|339.0|     4.0| failure|                      no|\n",
            "| 1003| 35|management|       single| tertiary|     no| 1350.0|    yes|  no|cellular| 16|  apr|   185.0|     1.0|330.0|     1.0| failure|                      no|\n",
            "+-----+---+----------+-------------+---------+-------+-------+-------+----+--------+---+-----+--------+--------+-----+--------+--------+------------------------+\n",
            "only showing top 3 rows\n",
            "\n"
          ]
        }
      ]
    },
    {
      "cell_type": "markdown",
      "source": [
        "## Cache dataframe"
      ],
      "metadata": {
        "id": "zH6ZO3xhiCii"
      }
    },
    {
      "cell_type": "code",
      "source": [
        "bankDF.cache()"
      ],
      "metadata": {
        "colab": {
          "base_uri": "https://localhost:8080/"
        },
        "id": "L7BczUNfWm05",
        "outputId": "653df06f-5704-4e4e-8c48-4537e0a1bd54"
      },
      "execution_count": null,
      "outputs": [
        {
          "output_type": "execute_result",
          "data": {
            "text/plain": [
              "DataFrame[seqId: int, age: int, job: string, maritalStatus: string, education: string, default: string, balance: double, housing: string, loan: string, contact: string, day: int, month: string, duration: double, campaign: double, pdays: double, previous: double, poutcome: string, opened_new_td_act_yes_no: string]"
            ]
          },
          "metadata": {},
          "execution_count": 20
        }
      ]
    },
    {
      "cell_type": "code",
      "source": [
        "bankDF.take(2)"
      ],
      "metadata": {
        "colab": {
          "base_uri": "https://localhost:8080/"
        },
        "id": "oiDtdyRnWoTF",
        "outputId": "b0c9844d-21cd-4493-9b6f-8821fe95c6fb"
      },
      "execution_count": null,
      "outputs": [
        {
          "output_type": "execute_result",
          "data": {
            "text/plain": [
              "[Row(seqId=1001, age=30, job='unemployed', maritalStatus='married', education='primary', default='no', balance=1787.0, housing='no', loan='no', contact='cellular', day=19, month='oct', duration=79.0, campaign=1.0, pdays=-1.0, previous=0.0, poutcome='unknown', opened_new_td_act_yes_no='no'),\n",
              " Row(seqId=1002, age=33, job='services', maritalStatus='married', education='secondary', default='no', balance=4789.0, housing='yes', loan='yes', contact='cellular', day=11, month='may', duration=220.0, campaign=1.0, pdays=339.0, previous=4.0, poutcome='failure', opened_new_td_act_yes_no='no')]"
            ]
          },
          "metadata": {},
          "execution_count": 21
        }
      ]
    },
    {
      "cell_type": "code",
      "source": [
        "len(bankDF.columns)"
      ],
      "metadata": {
        "colab": {
          "base_uri": "https://localhost:8080/"
        },
        "id": "9ptLM-nQWqVU",
        "outputId": "75fe72b8-fdf7-4b60-9f12-1c9d34dbd405"
      },
      "execution_count": null,
      "outputs": [
        {
          "output_type": "execute_result",
          "data": {
            "text/plain": [
              "18"
            ]
          },
          "metadata": {},
          "execution_count": 22
        }
      ]
    },
    {
      "cell_type": "code",
      "source": [
        "bankDF.count()"
      ],
      "metadata": {
        "colab": {
          "base_uri": "https://localhost:8080/"
        },
        "id": "exB8eqJRWrfO",
        "outputId": "331da2d8-19f5-4fe0-e99a-1da55efe5aeb"
      },
      "execution_count": null,
      "outputs": [
        {
          "output_type": "execute_result",
          "data": {
            "text/plain": [
              "4521"
            ]
          },
          "metadata": {},
          "execution_count": 23
        }
      ]
    },
    {
      "cell_type": "markdown",
      "source": [
        "## Remove the seqId column."
      ],
      "metadata": {
        "id": "YszLtYoAWusj"
      }
    },
    {
      "cell_type": "code",
      "source": [
        "bankDF = bankDF.drop('seqId')"
      ],
      "metadata": {
        "id": "CeJ23i8xWslY"
      },
      "execution_count": null,
      "outputs": []
    },
    {
      "cell_type": "code",
      "source": [
        "len(bankDF.columns)"
      ],
      "metadata": {
        "colab": {
          "base_uri": "https://localhost:8080/"
        },
        "id": "WwouXVwkWw37",
        "outputId": "02ccfe86-3a56-4c16-e310-7e681e2f452f"
      },
      "execution_count": null,
      "outputs": [
        {
          "output_type": "execute_result",
          "data": {
            "text/plain": [
              "17"
            ]
          },
          "metadata": {},
          "execution_count": 30
        }
      ]
    },
    {
      "cell_type": "markdown",
      "source": [
        "## Summary Statistics\n",
        "Spark DataFrames include some `built-in functions` for statistical processing. The `describe()` function performs summary statistics calculations on numeric columns and returns them as a DataFrame. The following code shows some statistics for the label and some features."
      ],
      "metadata": {
        "id": "8F7XStQ3W19E"
      }
    },
    {
      "cell_type": "code",
      "source": [
        "bankDF.describe().show()"
      ],
      "metadata": {
        "colab": {
          "base_uri": "https://localhost:8080/"
        },
        "id": "NezLNrQMWy25",
        "outputId": "4c31ae10-483f-4a88-f828-b653089ff95f"
      },
      "execution_count": null,
      "outputs": [
        {
          "output_type": "stream",
          "name": "stdout",
          "text": [
            "+-------+------------------+-------+-------------+---------+-------+------------------+-------+----+--------+------------------+-----+------------------+------------------+------------------+------------------+--------+------------------------+\n",
            "|summary|               age|    job|maritalStatus|education|default|           balance|housing|loan| contact|               day|month|          duration|          campaign|             pdays|          previous|poutcome|opened_new_td_act_yes_no|\n",
            "+-------+------------------+-------+-------------+---------+-------+------------------+-------+----+--------+------------------+-----+------------------+------------------+------------------+------------------+--------+------------------------+\n",
            "|  count|              4521|   4521|         4521|     4521|   4521|              4521|   4521|4521|    4521|              4521| 4521|              4521|              4521|              4521|              4521|    4521|                    4521|\n",
            "|   mean| 41.17009511170095|   null|         null|     null|   null|1422.6578190665782|   null|null|    null|15.915284229152842| null|263.96129174961294| 2.793629727936297|39.766644547666445|0.5425790754257908|    null|                    null|\n",
            "| stddev|10.576210958711263|   null|         null|     null|   null|3009.6381424673395|   null|null|    null| 8.247667327229934| null|259.85663262468216|3.1098066601885823|100.12112444301656|1.6935623506071211|    null|                    null|\n",
            "|    min|                19| admin.|     divorced|  primary|     no|           -3313.0|     no|  no|cellular|                 1|  apr|               4.0|               1.0|              -1.0|               0.0| failure|                      no|\n",
            "|    max|                87|unknown|       single|  unknown|    yes|           71188.0|    yes| yes| unknown|                31|  sep|            3025.0|              50.0|             871.0|              25.0| unknown|                     yes|\n",
            "+-------+------------------+-------+-------------+---------+-------+------------------+-------+----+--------+------------------+-----+------------------+------------------+------------------+------------------+--------+------------------------+\n",
            "\n"
          ]
        }
      ]
    },
    {
      "cell_type": "code",
      "source": [
        "bankDF.describe().select('summary','age','loan','balance','pdays').show()"
      ],
      "metadata": {
        "colab": {
          "base_uri": "https://localhost:8080/"
        },
        "id": "_jPJF5evXAwd",
        "outputId": "4c03167b-2786-4c1f-f8eb-9cd45ee16740"
      },
      "execution_count": null,
      "outputs": [
        {
          "output_type": "stream",
          "name": "stdout",
          "text": [
            "+-------+------------------+----+------------------+------------------+\n",
            "|summary|               age|loan|           balance|             pdays|\n",
            "+-------+------------------+----+------------------+------------------+\n",
            "|  count|              4521|4521|              4521|              4521|\n",
            "|   mean| 41.17009511170095|null|1422.6578190665782|39.766644547666445|\n",
            "| stddev|10.576210958711263|null|3009.6381424673395|100.12112444301656|\n",
            "|    min|                19|  no|           -3313.0|              -1.0|\n",
            "|    max|                87| yes|           71188.0|             871.0|\n",
            "+-------+------------------+----+------------------+------------------+\n",
            "\n"
          ]
        }
      ]
    },
    {
      "cell_type": "code",
      "source": [
        "bankDF.agg(*(min(col(c)).alias(c) for c in bankDF.columns)).show()"
      ],
      "metadata": {
        "colab": {
          "base_uri": "https://localhost:8080/"
        },
        "id": "vbREPt4pXChB",
        "outputId": "4279ac01-5ec4-4307-9b34-7f903dc8bb40"
      },
      "execution_count": null,
      "outputs": [
        {
          "output_type": "stream",
          "name": "stdout",
          "text": [
            "+---+------+-------------+---------+-------+-------+-------+----+--------+---+-----+--------+--------+-----+--------+--------+------------------------+\n",
            "|age|   job|maritalStatus|education|default|balance|housing|loan| contact|day|month|duration|campaign|pdays|previous|poutcome|opened_new_td_act_yes_no|\n",
            "+---+------+-------------+---------+-------+-------+-------+----+--------+---+-----+--------+--------+-----+--------+--------+------------------------+\n",
            "| 19|admin.|     divorced|  primary|     no|-3313.0|     no|  no|cellular|  1|  apr|     4.0|     1.0| -1.0|     0.0| failure|                      no|\n",
            "+---+------+-------------+---------+-------+-------+-------+----+--------+---+-----+--------+--------+-----+--------+--------+------------------------+\n",
            "\n"
          ]
        }
      ]
    },
    {
      "cell_type": "code",
      "source": [
        "bankDF.where(bankDF.balance < 0).count()"
      ],
      "metadata": {
        "colab": {
          "base_uri": "https://localhost:8080/"
        },
        "id": "FyfT7JtmXRXT",
        "outputId": "4af73e61-576a-4a77-b29c-80baee424451"
      },
      "execution_count": null,
      "outputs": [
        {
          "output_type": "execute_result",
          "data": {
            "text/plain": [
              "366"
            ]
          },
          "metadata": {},
          "execution_count": 34
        }
      ]
    },
    {
      "cell_type": "code",
      "source": [
        "from pyspark.sql.functions import when\n",
        "bankDF = bankDF.withColumn('balance',\n",
        "                           when(bankDF.balance>0, bankDF.balance)\\\n",
        "                           .otherwise(0))\n",
        "#\n",
        "zerobalanceDF = bankDF.where(bankDF.balance < 0)\n",
        "zerobalanceDF.count()"
      ],
      "metadata": {
        "colab": {
          "base_uri": "https://localhost:8080/"
        },
        "id": "VCSFDrXTXV0M",
        "outputId": "e41fb414-0173-4f08-baca-32bbd2a98cce"
      },
      "execution_count": null,
      "outputs": [
        {
          "output_type": "execute_result",
          "data": {
            "text/plain": [
              "0"
            ]
          },
          "metadata": {},
          "execution_count": 35
        }
      ]
    },
    {
      "cell_type": "markdown",
      "source": [
        "Register SQL Table."
      ],
      "metadata": {
        "id": "90x0A5AeXoft"
      }
    },
    {
      "cell_type": "code",
      "source": [
        "bankDF.createOrReplaceTempView('bankDFTable')"
      ],
      "metadata": {
        "id": "_uWSLS7qXkl6"
      },
      "execution_count": null,
      "outputs": []
    },
    {
      "cell_type": "code",
      "source": [
        "resultDF = spark.sql(\"\"\"\n",
        " SELECT opened_new_td_act_yes_no, COUNT(*) AS count\n",
        " FROM bankDFTable\n",
        " GROUP BY opened_new_td_act_yes_no\n",
        "\"\"\")"
      ],
      "metadata": {
        "id": "iCINSsqFXq5S"
      },
      "execution_count": null,
      "outputs": []
    },
    {
      "cell_type": "code",
      "source": [
        "resultDF.show()"
      ],
      "metadata": {
        "colab": {
          "base_uri": "https://localhost:8080/"
        },
        "id": "9VXxf5uXXsVk",
        "outputId": "e475ae02-4c88-4b2e-f41b-b845d9b80534"
      },
      "execution_count": null,
      "outputs": [
        {
          "output_type": "stream",
          "name": "stdout",
          "text": [
            "+------------------------+-----+\n",
            "|opened_new_td_act_yes_no|count|\n",
            "+------------------------+-----+\n",
            "|                      no| 4000|\n",
            "|                     yes|  521|\n",
            "+------------------------+-----+\n",
            "\n"
          ]
        }
      ]
    },
    {
      "cell_type": "code",
      "source": [
        "bankDF.groupBy(\"opened_new_td_act_yes_no\").count().show()"
      ],
      "metadata": {
        "colab": {
          "base_uri": "https://localhost:8080/"
        },
        "id": "8DIxWy_MXtpE",
        "outputId": "b59dcddd-5714-462a-bc9f-ff47a250b3fe"
      },
      "execution_count": null,
      "outputs": [
        {
          "output_type": "stream",
          "name": "stdout",
          "text": [
            "+------------------------+-----+\n",
            "|opened_new_td_act_yes_no|count|\n",
            "+------------------------+-----+\n",
            "|                      no| 4000|\n",
            "|                     yes|  521|\n",
            "+------------------------+-----+\n",
            "\n"
          ]
        }
      ]
    },
    {
      "cell_type": "code",
      "source": [
        "import matplotlib.pyplot as plt\n",
        "import seaborn as sns\n",
        "import chart_studio\n",
        "import plotly\n",
        "chart_studio.tools.set_credentials_file(username='kirankumarinsofe',\n",
        "                                        api_key='JNyhUZiZrgFQ6LUjEGgG')\n",
        "import plotly.figure_factory as ff\n",
        "import chart_studio.plotly as py\n",
        "import plotly.offline as pyoff\n",
        "import plotly.graph_objects as go\n",
        "import warnings\n",
        "\n",
        "### Initialize settings\n",
        "sns.set_style('whitegrid')\n",
        "sns.set(color_codes=True)\n",
        "warnings.filterwarnings('ignore')\n",
        "pyoff.init_notebook_mode(connected=True)\n",
        "get_ipython().magic('matplotlib inline')"
      ],
      "metadata": {
        "colab": {
          "base_uri": "https://localhost:8080/",
          "height": 17
        },
        "id": "PtpA4u_ZX9Yi",
        "outputId": "04e7f908-5144-4e66-d2ac-fd1ea41375ec"
      },
      "execution_count": null,
      "outputs": [
        {
          "output_type": "display_data",
          "data": {
            "text/html": [
              "        <script type=\"text/javascript\">\n",
              "        window.PlotlyConfig = {MathJaxConfig: 'local'};\n",
              "        if (window.MathJax) {MathJax.Hub.Config({SVG: {font: \"STIX-Web\"}});}\n",
              "        if (typeof require !== 'undefined') {\n",
              "        require.undef(\"plotly\");\n",
              "        requirejs.config({\n",
              "            paths: {\n",
              "                'plotly': ['https://cdn.plot.ly/plotly-2.8.3.min']\n",
              "            }\n",
              "        });\n",
              "        require(['plotly'], function(Plotly) {\n",
              "            window._Plotly = Plotly;\n",
              "        });\n",
              "        }\n",
              "        </script>\n",
              "        "
            ]
          },
          "metadata": {}
        }
      ]
    },
    {
      "cell_type": "code",
      "source": [
        "pdDF = resultDF.toPandas()\n",
        "data = [\n",
        "        go.Bar(\n",
        "            x=pdDF['opened_new_td_act_yes_no'],\n",
        "            y=pdDF['count']\n",
        "        )\n",
        "\n",
        "]\n",
        "layout = go.Layout(title='Term Deposit Yes/No Counts')\n",
        "fig = go.Figure(data=data, layout=layout)\n",
        "py.iplot(fig,fileName='20221029_1')"
      ],
      "metadata": {
        "colab": {
          "base_uri": "https://localhost:8080/",
          "height": 546
        },
        "id": "GPfvt79eXwpf",
        "outputId": "bbb791d8-8b27-4f26-8b0c-62481b8d08dc"
      },
      "execution_count": null,
      "outputs": [
        {
          "output_type": "execute_result",
          "data": {
            "text/plain": [
              "<IPython.lib.display.IFrame at 0x7f336c1dbd90>"
            ],
            "text/html": [
              "\n",
              "        <iframe\n",
              "            width=\"100%\"\n",
              "            height=\"525px\"\n",
              "            src=\"https://plotly.com/~kirankumarinsofe/145.embed\"\n",
              "            frameborder=\"0\"\n",
              "            allowfullscreen\n",
              "        ></iframe>\n",
              "        "
            ]
          },
          "metadata": {},
          "execution_count": 41
        }
      ]
    },
    {
      "cell_type": "markdown",
      "source": [
        "Other variables that could be considered for exploratory data analysis\n",
        "* loan vs opened_new_td_act_yes_no\n",
        "* marital_status vs opened_new_td_act_yes_no\n",
        "* job vs opened_new_td_act_yes_no\n",
        "* education\n",
        "* marital status"
      ],
      "metadata": {
        "id": "1on97dAvYhho"
      }
    },
    {
      "cell_type": "code",
      "source": [
        "resultDF = bankDF.crosstab('opened_new_td_act_yes_no','loan')\n",
        "resultDF.show()"
      ],
      "metadata": {
        "colab": {
          "base_uri": "https://localhost:8080/"
        },
        "id": "gHUAXZ0JY0Dv",
        "outputId": "eb9971d6-4679-4eb6-d223-d20548dec24b"
      },
      "execution_count": null,
      "outputs": [
        {
          "output_type": "stream",
          "name": "stdout",
          "text": [
            "+-----------------------------+----+---+\n",
            "|opened_new_td_act_yes_no_loan|  no|yes|\n",
            "+-----------------------------+----+---+\n",
            "|                          yes| 478| 43|\n",
            "|                           no|3352|648|\n",
            "+-----------------------------+----+---+\n",
            "\n"
          ]
        }
      ]
    },
    {
      "cell_type": "markdown",
      "source": [
        "## Convert to pandas dataframe"
      ],
      "metadata": {
        "id": "62hORiGvY6sy"
      }
    },
    {
      "cell_type": "code",
      "source": [
        "pdDF = resultDF.toPandas()"
      ],
      "metadata": {
        "id": "s8O0lYWoY4yM"
      },
      "execution_count": null,
      "outputs": []
    },
    {
      "cell_type": "code",
      "source": [
        "pdDF.columns = ['opened_new_td_act_yes_no_loan','No_Existing_loan','Existing_loan']"
      ],
      "metadata": {
        "id": "oWafGfbMY9uj"
      },
      "execution_count": null,
      "outputs": []
    },
    {
      "cell_type": "code",
      "source": [
        "data = [\n",
        "     go.Bar(\n",
        "            x=['Opted_for_loan','No_opted_loan'],\n",
        "            y=pdDF['No_Existing_loan'],\n",
        "            name='No Existing Loans'\n",
        "        ),\n",
        "     go.Bar(\n",
        "         x = ['Opted_for_loan','No_opted_loan'],\n",
        "         y = pdDF['Existing_loan'],\n",
        "         name = 'Existing Loans'\n",
        "     )\n",
        "]\n",
        "layout=go.Layout(\n",
        "    title='Exsiting/Non-existing loans - Counts',\n",
        "    barmode='group'\n",
        ")\n",
        "fig = go.Figure(data=data,layout=layout)\n",
        "py.iplot(fig)"
      ],
      "metadata": {
        "colab": {
          "base_uri": "https://localhost:8080/",
          "height": 546
        },
        "id": "VGP1u_-iY_X0",
        "outputId": "f6fd545e-cc30-493d-9e8b-42500d0aee27"
      },
      "execution_count": null,
      "outputs": [
        {
          "output_type": "execute_result",
          "data": {
            "text/plain": [
              "<IPython.lib.display.IFrame at 0x7f336c1db9d0>"
            ],
            "text/html": [
              "\n",
              "        <iframe\n",
              "            width=\"100%\"\n",
              "            height=\"525px\"\n",
              "            src=\"https://plotly.com/~kirankumarinsofe/155.embed\"\n",
              "            frameborder=\"0\"\n",
              "            allowfullscreen\n",
              "        ></iframe>\n",
              "        "
            ]
          },
          "metadata": {},
          "execution_count": 45
        }
      ]
    },
    {
      "cell_type": "code",
      "source": [
        "### For different job categories\n",
        "resultDF = spark.sql(\"\"\"\n",
        "SELECT\n",
        "   job,\n",
        "   COUNT(*) AS term_deposit_yes_cnt\n",
        "   FROM bankDFTable\n",
        "   WHERE opened_new_td_act_yes_no = \"yes\"\n",
        "   GROUP BY job\n",
        "\"\"\")"
      ],
      "metadata": {
        "id": "4KbxQDkzZAlp"
      },
      "execution_count": null,
      "outputs": []
    },
    {
      "cell_type": "code",
      "source": [
        "pdDF = resultDF.toPandas()\n",
        "data = [\n",
        "       go.Bar(\n",
        "           x = pdDF['job'],\n",
        "           y = pdDF['term_deposit_yes_cnt']\n",
        "       )\n",
        "]\n",
        "layout = go.Layout(title=\"Term deposit counts in each job category\")\n",
        "fig = go.Figure(data=data,layout=layout)\n",
        "py.iplot(fig)"
      ],
      "metadata": {
        "colab": {
          "base_uri": "https://localhost:8080/",
          "height": 546
        },
        "id": "rOc1v6hrZIWJ",
        "outputId": "619ff21f-d330-4f69-c933-eafb67e33739"
      },
      "execution_count": null,
      "outputs": [
        {
          "output_type": "execute_result",
          "data": {
            "text/plain": [
              "<IPython.lib.display.IFrame at 0x7f337002a110>"
            ],
            "text/html": [
              "\n",
              "        <iframe\n",
              "            width=\"100%\"\n",
              "            height=\"525px\"\n",
              "            src=\"https://plotly.com/~kirankumarinsofe/157.embed\"\n",
              "            frameborder=\"0\"\n",
              "            allowfullscreen\n",
              "        ></iframe>\n",
              "        "
            ]
          },
          "metadata": {},
          "execution_count": 47
        }
      ]
    },
    {
      "cell_type": "code",
      "source": [
        "### For different job categories\n",
        "resultDF = spark.sql(\"\"\"\n",
        "SELECT\n",
        "   job,\n",
        "   COUNT(*) AS term_deposit_no_cnt\n",
        "   FROM bankDFTable\n",
        "   WHERE opened_new_td_act_yes_no = \"no\"\n",
        "   GROUP BY job\n",
        "\"\"\")"
      ],
      "metadata": {
        "id": "NdnqIvteZKoS"
      },
      "execution_count": null,
      "outputs": []
    },
    {
      "cell_type": "code",
      "source": [
        "pdDF = resultDF.toPandas()\n",
        "data = [\n",
        "       go.Bar(\n",
        "           x = pdDF['job'],\n",
        "           y = pdDF['term_deposit_no_cnt']\n",
        "       )\n",
        "]\n",
        "layout = go.Layout(title=\"Term deposit counts in each job category\")\n",
        "fig = go.Figure(data=data,layout=layout)\n",
        "py.iplot(fig)"
      ],
      "metadata": {
        "colab": {
          "base_uri": "https://localhost:8080/",
          "height": 546
        },
        "id": "LA7voXB2ZMkX",
        "outputId": "632f39f7-3aa2-4ddb-ca4e-c8d861b493a4"
      },
      "execution_count": null,
      "outputs": [
        {
          "output_type": "execute_result",
          "data": {
            "text/plain": [
              "<IPython.lib.display.IFrame at 0x7f336c1f3b50>"
            ],
            "text/html": [
              "\n",
              "        <iframe\n",
              "            width=\"100%\"\n",
              "            height=\"525px\"\n",
              "            src=\"https://plotly.com/~kirankumarinsofe/159.embed\"\n",
              "            frameborder=\"0\"\n",
              "            allowfullscreen\n",
              "        ></iframe>\n",
              "        "
            ]
          },
          "metadata": {},
          "execution_count": 49
        }
      ]
    },
    {
      "cell_type": "code",
      "source": [
        "resultDF = bankDF.filter(expr(\"opened_new_td_act_yes_no='yes'\")).groupBy(\"education\").count()\n",
        "resultDF.show()"
      ],
      "metadata": {
        "colab": {
          "base_uri": "https://localhost:8080/"
        },
        "id": "ANg62hMfZN1N",
        "outputId": "b362de12-41ed-4c3f-dad5-a01fb20d74dd"
      },
      "execution_count": null,
      "outputs": [
        {
          "output_type": "stream",
          "name": "stdout",
          "text": [
            "+---------+-----+\n",
            "|education|count|\n",
            "+---------+-----+\n",
            "|  unknown|   19|\n",
            "| tertiary|  193|\n",
            "|secondary|  245|\n",
            "|  primary|   64|\n",
            "+---------+-----+\n",
            "\n"
          ]
        }
      ]
    },
    {
      "cell_type": "code",
      "source": [
        "pdDF = resultDF.toPandas()\n",
        "data = [\n",
        "      go.Bar(\n",
        "          x = pdDF['education'],\n",
        "          y = pdDF['count']\n",
        "      )\n",
        "]\n",
        "layout = go.Layout(title=\"Term deposit opted count in each education level\")\n",
        "fig = go.Figure(data=data,layout=layout)\n",
        "py.iplot(fig)"
      ],
      "metadata": {
        "colab": {
          "base_uri": "https://localhost:8080/",
          "height": 546
        },
        "id": "NWkftHtBZjr7",
        "outputId": "dc12e83e-78ae-4473-ff48-28afadffb698"
      },
      "execution_count": null,
      "outputs": [
        {
          "output_type": "execute_result",
          "data": {
            "text/plain": [
              "<IPython.lib.display.IFrame at 0x7f336bd4d7d0>"
            ],
            "text/html": [
              "\n",
              "        <iframe\n",
              "            width=\"100%\"\n",
              "            height=\"525px\"\n",
              "            src=\"https://plotly.com/~kirankumarinsofe/161.embed\"\n",
              "            frameborder=\"0\"\n",
              "            allowfullscreen\n",
              "        ></iframe>\n",
              "        "
            ]
          },
          "metadata": {},
          "execution_count": 51
        }
      ]
    },
    {
      "cell_type": "code",
      "source": [
        "pdDF = resultDF.toPandas()\n",
        "data = [\n",
        "      go.Bar(\n",
        "          x = pdDF['education'],\n",
        "          y = pdDF['count']\n",
        "      )\n",
        "]\n",
        "layout = go.Layout(title=\"Term deposit opted count in each education level\")\n",
        "fig = go.Figure(data=data,layout=layout)\n",
        "py.iplot(fig)"
      ],
      "metadata": {
        "id": "ir20vrwMaV4X",
        "colab": {
          "base_uri": "https://localhost:8080/",
          "height": 546
        },
        "outputId": "1e7026de-9034-4f6e-f4bc-13b93a588395"
      },
      "execution_count": null,
      "outputs": [
        {
          "output_type": "execute_result",
          "data": {
            "text/plain": [
              "<IPython.lib.display.IFrame at 0x7f336bd28950>"
            ],
            "text/html": [
              "\n",
              "        <iframe\n",
              "            width=\"100%\"\n",
              "            height=\"525px\"\n",
              "            src=\"https://plotly.com/~kirankumarinsofe/167.embed\"\n",
              "            frameborder=\"0\"\n",
              "            allowfullscreen\n",
              "        ></iframe>\n",
              "        "
            ]
          },
          "metadata": {},
          "execution_count": 52
        }
      ]
    },
    {
      "cell_type": "code",
      "source": [
        "resultDF = spark.sql(\"\"\"\n",
        "SELECT\n",
        "  maritalStatus as marital_status,\n",
        "  COUNT(*) AS loan_denied\n",
        "FROM bankDFTable\n",
        "WHERE opened_new_td_act_yes_no = 'no'\n",
        "GROUP BY maritalStatus\n",
        "\"\"\")\n",
        "\n",
        "resultDF.show()"
      ],
      "metadata": {
        "colab": {
          "base_uri": "https://localhost:8080/"
        },
        "id": "kx4agPW6Zj52",
        "outputId": "8fdc6213-4b5d-456f-9fe4-8701b3b6b971"
      },
      "execution_count": null,
      "outputs": [
        {
          "output_type": "stream",
          "name": "stdout",
          "text": [
            "+--------------+-----------+\n",
            "|marital_status|loan_denied|\n",
            "+--------------+-----------+\n",
            "|      divorced|        451|\n",
            "|       married|       2520|\n",
            "|        single|       1029|\n",
            "+--------------+-----------+\n",
            "\n"
          ]
        }
      ]
    },
    {
      "cell_type": "code",
      "source": [
        "pdDF = resultDF.toPandas()\n",
        "data = [\n",
        "      go.Bar(\n",
        "          x = pdDF['marital_status'],\n",
        "          y = pdDF['loan_denied']\n",
        "      )\n",
        "]\n",
        "layout = go.Layout(title=\"Term deposit denied count in each marital status level\")\n",
        "fig = go.Figure(data=data,layout=layout)\n",
        "py.iplot(fig)"
      ],
      "metadata": {
        "colab": {
          "base_uri": "https://localhost:8080/",
          "height": 546
        },
        "id": "374LGt5PaLuH",
        "outputId": "4e6ed4e6-ff68-4db3-e501-b1d8d77206a7"
      },
      "execution_count": null,
      "outputs": [
        {
          "output_type": "execute_result",
          "data": {
            "text/plain": [
              "<IPython.lib.display.IFrame at 0x7f336c206210>"
            ],
            "text/html": [
              "\n",
              "        <iframe\n",
              "            width=\"100%\"\n",
              "            height=\"525px\"\n",
              "            src=\"https://plotly.com/~kirankumarinsofe/169.embed\"\n",
              "            frameborder=\"0\"\n",
              "            allowfullscreen\n",
              "        ></iframe>\n",
              "        "
            ]
          },
          "metadata": {},
          "execution_count": 54
        }
      ]
    },
    {
      "cell_type": "code",
      "source": [
        "bankDF_pd = bankDF.toPandas()\n",
        "bankDF_pd.head()"
      ],
      "metadata": {
        "colab": {
          "base_uri": "https://localhost:8080/",
          "height": 270
        },
        "id": "gfe71BaUbK0_",
        "outputId": "30cf989a-3a99-42c5-d6ff-022799397152"
      },
      "execution_count": null,
      "outputs": [
        {
          "output_type": "execute_result",
          "data": {
            "text/plain": [
              "   age          job maritalStatus  education default  balance housing loan  \\\n",
              "0   30   unemployed       married    primary      no   1787.0      no   no   \n",
              "1   33     services       married  secondary      no   4789.0     yes  yes   \n",
              "2   35   management        single   tertiary      no   1350.0     yes   no   \n",
              "3   30   management       married   tertiary      no   1476.0     yes  yes   \n",
              "4   59  blue-collar       married  secondary      no      0.0     yes   no   \n",
              "\n",
              "    contact  day month  duration  campaign  pdays  previous poutcome  \\\n",
              "0  cellular   19   oct      79.0       1.0   -1.0       0.0  unknown   \n",
              "1  cellular   11   may     220.0       1.0  339.0       4.0  failure   \n",
              "2  cellular   16   apr     185.0       1.0  330.0       1.0  failure   \n",
              "3   unknown    3   jun     199.0       4.0   -1.0       0.0  unknown   \n",
              "4   unknown    5   may     226.0       1.0   -1.0       0.0  unknown   \n",
              "\n",
              "  opened_new_td_act_yes_no  \n",
              "0                       no  \n",
              "1                       no  \n",
              "2                       no  \n",
              "3                       no  \n",
              "4                       no  "
            ],
            "text/html": [
              "\n",
              "  <div id=\"df-909103f6-849b-4ab9-aaf0-83a368696c00\">\n",
              "    <div class=\"colab-df-container\">\n",
              "      <div>\n",
              "<style scoped>\n",
              "    .dataframe tbody tr th:only-of-type {\n",
              "        vertical-align: middle;\n",
              "    }\n",
              "\n",
              "    .dataframe tbody tr th {\n",
              "        vertical-align: top;\n",
              "    }\n",
              "\n",
              "    .dataframe thead th {\n",
              "        text-align: right;\n",
              "    }\n",
              "</style>\n",
              "<table border=\"1\" class=\"dataframe\">\n",
              "  <thead>\n",
              "    <tr style=\"text-align: right;\">\n",
              "      <th></th>\n",
              "      <th>age</th>\n",
              "      <th>job</th>\n",
              "      <th>maritalStatus</th>\n",
              "      <th>education</th>\n",
              "      <th>default</th>\n",
              "      <th>balance</th>\n",
              "      <th>housing</th>\n",
              "      <th>loan</th>\n",
              "      <th>contact</th>\n",
              "      <th>day</th>\n",
              "      <th>month</th>\n",
              "      <th>duration</th>\n",
              "      <th>campaign</th>\n",
              "      <th>pdays</th>\n",
              "      <th>previous</th>\n",
              "      <th>poutcome</th>\n",
              "      <th>opened_new_td_act_yes_no</th>\n",
              "    </tr>\n",
              "  </thead>\n",
              "  <tbody>\n",
              "    <tr>\n",
              "      <th>0</th>\n",
              "      <td>30</td>\n",
              "      <td>unemployed</td>\n",
              "      <td>married</td>\n",
              "      <td>primary</td>\n",
              "      <td>no</td>\n",
              "      <td>1787.0</td>\n",
              "      <td>no</td>\n",
              "      <td>no</td>\n",
              "      <td>cellular</td>\n",
              "      <td>19</td>\n",
              "      <td>oct</td>\n",
              "      <td>79.0</td>\n",
              "      <td>1.0</td>\n",
              "      <td>-1.0</td>\n",
              "      <td>0.0</td>\n",
              "      <td>unknown</td>\n",
              "      <td>no</td>\n",
              "    </tr>\n",
              "    <tr>\n",
              "      <th>1</th>\n",
              "      <td>33</td>\n",
              "      <td>services</td>\n",
              "      <td>married</td>\n",
              "      <td>secondary</td>\n",
              "      <td>no</td>\n",
              "      <td>4789.0</td>\n",
              "      <td>yes</td>\n",
              "      <td>yes</td>\n",
              "      <td>cellular</td>\n",
              "      <td>11</td>\n",
              "      <td>may</td>\n",
              "      <td>220.0</td>\n",
              "      <td>1.0</td>\n",
              "      <td>339.0</td>\n",
              "      <td>4.0</td>\n",
              "      <td>failure</td>\n",
              "      <td>no</td>\n",
              "    </tr>\n",
              "    <tr>\n",
              "      <th>2</th>\n",
              "      <td>35</td>\n",
              "      <td>management</td>\n",
              "      <td>single</td>\n",
              "      <td>tertiary</td>\n",
              "      <td>no</td>\n",
              "      <td>1350.0</td>\n",
              "      <td>yes</td>\n",
              "      <td>no</td>\n",
              "      <td>cellular</td>\n",
              "      <td>16</td>\n",
              "      <td>apr</td>\n",
              "      <td>185.0</td>\n",
              "      <td>1.0</td>\n",
              "      <td>330.0</td>\n",
              "      <td>1.0</td>\n",
              "      <td>failure</td>\n",
              "      <td>no</td>\n",
              "    </tr>\n",
              "    <tr>\n",
              "      <th>3</th>\n",
              "      <td>30</td>\n",
              "      <td>management</td>\n",
              "      <td>married</td>\n",
              "      <td>tertiary</td>\n",
              "      <td>no</td>\n",
              "      <td>1476.0</td>\n",
              "      <td>yes</td>\n",
              "      <td>yes</td>\n",
              "      <td>unknown</td>\n",
              "      <td>3</td>\n",
              "      <td>jun</td>\n",
              "      <td>199.0</td>\n",
              "      <td>4.0</td>\n",
              "      <td>-1.0</td>\n",
              "      <td>0.0</td>\n",
              "      <td>unknown</td>\n",
              "      <td>no</td>\n",
              "    </tr>\n",
              "    <tr>\n",
              "      <th>4</th>\n",
              "      <td>59</td>\n",
              "      <td>blue-collar</td>\n",
              "      <td>married</td>\n",
              "      <td>secondary</td>\n",
              "      <td>no</td>\n",
              "      <td>0.0</td>\n",
              "      <td>yes</td>\n",
              "      <td>no</td>\n",
              "      <td>unknown</td>\n",
              "      <td>5</td>\n",
              "      <td>may</td>\n",
              "      <td>226.0</td>\n",
              "      <td>1.0</td>\n",
              "      <td>-1.0</td>\n",
              "      <td>0.0</td>\n",
              "      <td>unknown</td>\n",
              "      <td>no</td>\n",
              "    </tr>\n",
              "  </tbody>\n",
              "</table>\n",
              "</div>\n",
              "      <button class=\"colab-df-convert\" onclick=\"convertToInteractive('df-909103f6-849b-4ab9-aaf0-83a368696c00')\"\n",
              "              title=\"Convert this dataframe to an interactive table.\"\n",
              "              style=\"display:none;\">\n",
              "        \n",
              "  <svg xmlns=\"http://www.w3.org/2000/svg\" height=\"24px\"viewBox=\"0 0 24 24\"\n",
              "       width=\"24px\">\n",
              "    <path d=\"M0 0h24v24H0V0z\" fill=\"none\"/>\n",
              "    <path d=\"M18.56 5.44l.94 2.06.94-2.06 2.06-.94-2.06-.94-.94-2.06-.94 2.06-2.06.94zm-11 1L8.5 8.5l.94-2.06 2.06-.94-2.06-.94L8.5 2.5l-.94 2.06-2.06.94zm10 10l.94 2.06.94-2.06 2.06-.94-2.06-.94-.94-2.06-.94 2.06-2.06.94z\"/><path d=\"M17.41 7.96l-1.37-1.37c-.4-.4-.92-.59-1.43-.59-.52 0-1.04.2-1.43.59L10.3 9.45l-7.72 7.72c-.78.78-.78 2.05 0 2.83L4 21.41c.39.39.9.59 1.41.59.51 0 1.02-.2 1.41-.59l7.78-7.78 2.81-2.81c.8-.78.8-2.07 0-2.86zM5.41 20L4 18.59l7.72-7.72 1.47 1.35L5.41 20z\"/>\n",
              "  </svg>\n",
              "      </button>\n",
              "      \n",
              "  <style>\n",
              "    .colab-df-container {\n",
              "      display:flex;\n",
              "      flex-wrap:wrap;\n",
              "      gap: 12px;\n",
              "    }\n",
              "\n",
              "    .colab-df-convert {\n",
              "      background-color: #E8F0FE;\n",
              "      border: none;\n",
              "      border-radius: 50%;\n",
              "      cursor: pointer;\n",
              "      display: none;\n",
              "      fill: #1967D2;\n",
              "      height: 32px;\n",
              "      padding: 0 0 0 0;\n",
              "      width: 32px;\n",
              "    }\n",
              "\n",
              "    .colab-df-convert:hover {\n",
              "      background-color: #E2EBFA;\n",
              "      box-shadow: 0px 1px 2px rgba(60, 64, 67, 0.3), 0px 1px 3px 1px rgba(60, 64, 67, 0.15);\n",
              "      fill: #174EA6;\n",
              "    }\n",
              "\n",
              "    [theme=dark] .colab-df-convert {\n",
              "      background-color: #3B4455;\n",
              "      fill: #D2E3FC;\n",
              "    }\n",
              "\n",
              "    [theme=dark] .colab-df-convert:hover {\n",
              "      background-color: #434B5C;\n",
              "      box-shadow: 0px 1px 3px 1px rgba(0, 0, 0, 0.15);\n",
              "      filter: drop-shadow(0px 1px 2px rgba(0, 0, 0, 0.3));\n",
              "      fill: #FFFFFF;\n",
              "    }\n",
              "  </style>\n",
              "\n",
              "      <script>\n",
              "        const buttonEl =\n",
              "          document.querySelector('#df-909103f6-849b-4ab9-aaf0-83a368696c00 button.colab-df-convert');\n",
              "        buttonEl.style.display =\n",
              "          google.colab.kernel.accessAllowed ? 'block' : 'none';\n",
              "\n",
              "        async function convertToInteractive(key) {\n",
              "          const element = document.querySelector('#df-909103f6-849b-4ab9-aaf0-83a368696c00');\n",
              "          const dataTable =\n",
              "            await google.colab.kernel.invokeFunction('convertToInteractive',\n",
              "                                                     [key], {});\n",
              "          if (!dataTable) return;\n",
              "\n",
              "          const docLinkHtml = 'Like what you see? Visit the ' +\n",
              "            '<a target=\"_blank\" href=https://colab.research.google.com/notebooks/data_table.ipynb>data table notebook</a>'\n",
              "            + ' to learn more about interactive tables.';\n",
              "          element.innerHTML = '';\n",
              "          dataTable['output_type'] = 'display_data';\n",
              "          await google.colab.output.renderOutput(dataTable, element);\n",
              "          const docLink = document.createElement('div');\n",
              "          docLink.innerHTML = docLinkHtml;\n",
              "          element.appendChild(docLink);\n",
              "        }\n",
              "      </script>\n",
              "    </div>\n",
              "  </div>\n",
              "  "
            ]
          },
          "metadata": {},
          "execution_count": 55
        }
      ]
    },
    {
      "cell_type": "markdown",
      "source": [
        "## Correlations"
      ],
      "metadata": {
        "id": "pIaCiH3UiZKv"
      }
    },
    {
      "cell_type": "code",
      "source": [
        "correlations = bankDF_pd.corr()\n",
        "correlations"
      ],
      "metadata": {
        "colab": {
          "base_uri": "https://localhost:8080/",
          "height": 269
        },
        "id": "HhybNsgibXAz",
        "outputId": "75569c08-1d73-4108-bd0d-eab65d709e21"
      },
      "execution_count": null,
      "outputs": [
        {
          "output_type": "execute_result",
          "data": {
            "text/plain": [
              "               age   balance       day  duration  campaign     pdays  previous\n",
              "age       1.000000  0.084202 -0.017853 -0.002367 -0.005148 -0.008894 -0.003511\n",
              "balance   0.084202  1.000000 -0.007595 -0.015195 -0.010840  0.008616  0.026031\n",
              "day      -0.017853 -0.007595  1.000000 -0.024629  0.160706 -0.094352 -0.059114\n",
              "duration -0.002367 -0.015195 -0.024629  1.000000 -0.068382  0.010380  0.018080\n",
              "campaign -0.005148 -0.010840  0.160706 -0.068382  1.000000 -0.093137 -0.067833\n",
              "pdays    -0.008894  0.008616 -0.094352  0.010380 -0.093137  1.000000  0.577562\n",
              "previous -0.003511  0.026031 -0.059114  0.018080 -0.067833  0.577562  1.000000"
            ],
            "text/html": [
              "\n",
              "  <div id=\"df-01a81cd9-0e85-446e-b2eb-9d9e117a2415\">\n",
              "    <div class=\"colab-df-container\">\n",
              "      <div>\n",
              "<style scoped>\n",
              "    .dataframe tbody tr th:only-of-type {\n",
              "        vertical-align: middle;\n",
              "    }\n",
              "\n",
              "    .dataframe tbody tr th {\n",
              "        vertical-align: top;\n",
              "    }\n",
              "\n",
              "    .dataframe thead th {\n",
              "        text-align: right;\n",
              "    }\n",
              "</style>\n",
              "<table border=\"1\" class=\"dataframe\">\n",
              "  <thead>\n",
              "    <tr style=\"text-align: right;\">\n",
              "      <th></th>\n",
              "      <th>age</th>\n",
              "      <th>balance</th>\n",
              "      <th>day</th>\n",
              "      <th>duration</th>\n",
              "      <th>campaign</th>\n",
              "      <th>pdays</th>\n",
              "      <th>previous</th>\n",
              "    </tr>\n",
              "  </thead>\n",
              "  <tbody>\n",
              "    <tr>\n",
              "      <th>age</th>\n",
              "      <td>1.000000</td>\n",
              "      <td>0.084202</td>\n",
              "      <td>-0.017853</td>\n",
              "      <td>-0.002367</td>\n",
              "      <td>-0.005148</td>\n",
              "      <td>-0.008894</td>\n",
              "      <td>-0.003511</td>\n",
              "    </tr>\n",
              "    <tr>\n",
              "      <th>balance</th>\n",
              "      <td>0.084202</td>\n",
              "      <td>1.000000</td>\n",
              "      <td>-0.007595</td>\n",
              "      <td>-0.015195</td>\n",
              "      <td>-0.010840</td>\n",
              "      <td>0.008616</td>\n",
              "      <td>0.026031</td>\n",
              "    </tr>\n",
              "    <tr>\n",
              "      <th>day</th>\n",
              "      <td>-0.017853</td>\n",
              "      <td>-0.007595</td>\n",
              "      <td>1.000000</td>\n",
              "      <td>-0.024629</td>\n",
              "      <td>0.160706</td>\n",
              "      <td>-0.094352</td>\n",
              "      <td>-0.059114</td>\n",
              "    </tr>\n",
              "    <tr>\n",
              "      <th>duration</th>\n",
              "      <td>-0.002367</td>\n",
              "      <td>-0.015195</td>\n",
              "      <td>-0.024629</td>\n",
              "      <td>1.000000</td>\n",
              "      <td>-0.068382</td>\n",
              "      <td>0.010380</td>\n",
              "      <td>0.018080</td>\n",
              "    </tr>\n",
              "    <tr>\n",
              "      <th>campaign</th>\n",
              "      <td>-0.005148</td>\n",
              "      <td>-0.010840</td>\n",
              "      <td>0.160706</td>\n",
              "      <td>-0.068382</td>\n",
              "      <td>1.000000</td>\n",
              "      <td>-0.093137</td>\n",
              "      <td>-0.067833</td>\n",
              "    </tr>\n",
              "    <tr>\n",
              "      <th>pdays</th>\n",
              "      <td>-0.008894</td>\n",
              "      <td>0.008616</td>\n",
              "      <td>-0.094352</td>\n",
              "      <td>0.010380</td>\n",
              "      <td>-0.093137</td>\n",
              "      <td>1.000000</td>\n",
              "      <td>0.577562</td>\n",
              "    </tr>\n",
              "    <tr>\n",
              "      <th>previous</th>\n",
              "      <td>-0.003511</td>\n",
              "      <td>0.026031</td>\n",
              "      <td>-0.059114</td>\n",
              "      <td>0.018080</td>\n",
              "      <td>-0.067833</td>\n",
              "      <td>0.577562</td>\n",
              "      <td>1.000000</td>\n",
              "    </tr>\n",
              "  </tbody>\n",
              "</table>\n",
              "</div>\n",
              "      <button class=\"colab-df-convert\" onclick=\"convertToInteractive('df-01a81cd9-0e85-446e-b2eb-9d9e117a2415')\"\n",
              "              title=\"Convert this dataframe to an interactive table.\"\n",
              "              style=\"display:none;\">\n",
              "        \n",
              "  <svg xmlns=\"http://www.w3.org/2000/svg\" height=\"24px\"viewBox=\"0 0 24 24\"\n",
              "       width=\"24px\">\n",
              "    <path d=\"M0 0h24v24H0V0z\" fill=\"none\"/>\n",
              "    <path d=\"M18.56 5.44l.94 2.06.94-2.06 2.06-.94-2.06-.94-.94-2.06-.94 2.06-2.06.94zm-11 1L8.5 8.5l.94-2.06 2.06-.94-2.06-.94L8.5 2.5l-.94 2.06-2.06.94zm10 10l.94 2.06.94-2.06 2.06-.94-2.06-.94-.94-2.06-.94 2.06-2.06.94z\"/><path d=\"M17.41 7.96l-1.37-1.37c-.4-.4-.92-.59-1.43-.59-.52 0-1.04.2-1.43.59L10.3 9.45l-7.72 7.72c-.78.78-.78 2.05 0 2.83L4 21.41c.39.39.9.59 1.41.59.51 0 1.02-.2 1.41-.59l7.78-7.78 2.81-2.81c.8-.78.8-2.07 0-2.86zM5.41 20L4 18.59l7.72-7.72 1.47 1.35L5.41 20z\"/>\n",
              "  </svg>\n",
              "      </button>\n",
              "      \n",
              "  <style>\n",
              "    .colab-df-container {\n",
              "      display:flex;\n",
              "      flex-wrap:wrap;\n",
              "      gap: 12px;\n",
              "    }\n",
              "\n",
              "    .colab-df-convert {\n",
              "      background-color: #E8F0FE;\n",
              "      border: none;\n",
              "      border-radius: 50%;\n",
              "      cursor: pointer;\n",
              "      display: none;\n",
              "      fill: #1967D2;\n",
              "      height: 32px;\n",
              "      padding: 0 0 0 0;\n",
              "      width: 32px;\n",
              "    }\n",
              "\n",
              "    .colab-df-convert:hover {\n",
              "      background-color: #E2EBFA;\n",
              "      box-shadow: 0px 1px 2px rgba(60, 64, 67, 0.3), 0px 1px 3px 1px rgba(60, 64, 67, 0.15);\n",
              "      fill: #174EA6;\n",
              "    }\n",
              "\n",
              "    [theme=dark] .colab-df-convert {\n",
              "      background-color: #3B4455;\n",
              "      fill: #D2E3FC;\n",
              "    }\n",
              "\n",
              "    [theme=dark] .colab-df-convert:hover {\n",
              "      background-color: #434B5C;\n",
              "      box-shadow: 0px 1px 3px 1px rgba(0, 0, 0, 0.15);\n",
              "      filter: drop-shadow(0px 1px 2px rgba(0, 0, 0, 0.3));\n",
              "      fill: #FFFFFF;\n",
              "    }\n",
              "  </style>\n",
              "\n",
              "      <script>\n",
              "        const buttonEl =\n",
              "          document.querySelector('#df-01a81cd9-0e85-446e-b2eb-9d9e117a2415 button.colab-df-convert');\n",
              "        buttonEl.style.display =\n",
              "          google.colab.kernel.accessAllowed ? 'block' : 'none';\n",
              "\n",
              "        async function convertToInteractive(key) {\n",
              "          const element = document.querySelector('#df-01a81cd9-0e85-446e-b2eb-9d9e117a2415');\n",
              "          const dataTable =\n",
              "            await google.colab.kernel.invokeFunction('convertToInteractive',\n",
              "                                                     [key], {});\n",
              "          if (!dataTable) return;\n",
              "\n",
              "          const docLinkHtml = 'Like what you see? Visit the ' +\n",
              "            '<a target=\"_blank\" href=https://colab.research.google.com/notebooks/data_table.ipynb>data table notebook</a>'\n",
              "            + ' to learn more about interactive tables.';\n",
              "          element.innerHTML = '';\n",
              "          dataTable['output_type'] = 'display_data';\n",
              "          await google.colab.output.renderOutput(dataTable, element);\n",
              "          const docLink = document.createElement('div');\n",
              "          docLink.innerHTML = docLinkHtml;\n",
              "          element.appendChild(docLink);\n",
              "        }\n",
              "      </script>\n",
              "    </div>\n",
              "  </div>\n",
              "  "
            ]
          },
          "metadata": {},
          "execution_count": 56
        }
      ]
    },
    {
      "cell_type": "code",
      "source": [
        "trace = go.Heatmap(z=[correlations['age'],correlations['balance'],\n",
        "                      correlations['day'],correlations['duration'],\n",
        "                      correlations['campaign'],\n",
        "                      correlations['pdays'],correlations['previous']],\n",
        "                   x = ['age','balance','day','duration','campaign','pdays','previous'],\n",
        "                   y = ['age','balance','day','duration','campaign','pdays','previous'])\n",
        "data = [trace]\n",
        "layout = go.Layout(title='HeatMap')\n",
        "fig = go.Figure(data=data,layout=layout)\n",
        "py.iplot(fig)"
      ],
      "metadata": {
        "colab": {
          "base_uri": "https://localhost:8080/",
          "height": 546
        },
        "id": "0BBpKphCbYmn",
        "outputId": "0e04af9f-10f7-4ec2-c86f-b7a3fdeabaf0"
      },
      "execution_count": null,
      "outputs": [
        {
          "output_type": "execute_result",
          "data": {
            "text/plain": [
              "<IPython.lib.display.IFrame at 0x7f336bc6dc90>"
            ],
            "text/html": [
              "\n",
              "        <iframe\n",
              "            width=\"100%\"\n",
              "            height=\"525px\"\n",
              "            src=\"https://plotly.com/~kirankumarinsofe/171.embed\"\n",
              "            frameborder=\"0\"\n",
              "            allowfullscreen\n",
              "        ></iframe>\n",
              "        "
            ]
          },
          "metadata": {},
          "execution_count": 57
        }
      ]
    },
    {
      "cell_type": "code",
      "source": [
        "sns.set(style=\"white\")\n",
        "\n",
        "# Generate a mask for the upper triangle\n",
        "mask = np.zeros_like(correlations, dtype=np.bool)\n",
        "mask[np.triu_indices_from(mask)] = True\n",
        "\n",
        "# Set up the matplotlib figure\n",
        "f, ax = plt.subplots(figsize=(9,9))\n",
        "\n",
        "# Generate a custom diverging colormap\n",
        "cmap = sns.diverging_palette(1000, 10, as_cmap=True)\n",
        "\n",
        "# Draw the heatmap with the mask and correct aspect ratio\n",
        "sns.heatmap(correlations, mask=mask, cmap=cmap, vmax=.5, center=0,\n",
        "            square=True, linewidths=.5, cbar_kws={\"shrink\": .5})"
      ],
      "metadata": {
        "colab": {
          "base_uri": "https://localhost:8080/",
          "height": 469
        },
        "id": "84flWs7fbafs",
        "outputId": "ac7df89d-ad0e-4c95-d63e-efb96ee8b7c5"
      },
      "execution_count": null,
      "outputs": [
        {
          "output_type": "execute_result",
          "data": {
            "text/plain": [
              "<matplotlib.axes._subplots.AxesSubplot at 0x7f336bc81ed0>"
            ]
          },
          "metadata": {},
          "execution_count": 58
        },
        {
          "output_type": "display_data",
          "data": {
            "text/plain": [
              "<Figure size 648x648 with 2 Axes>"
            ],
            "image/png": "[encoded data removed]"
          },
          "metadata": {}
        }
      ]
    },
    {
      "cell_type": "code",
      "source": [
        "bankDF.select([count(when(isnan(c) | col(c).isNull(), c).otherwise(None))\\\n",
        "               .alias(c) for c in bankDF.columns])\\\n",
        "               .show()"
      ],
      "metadata": {
        "colab": {
          "base_uri": "https://localhost:8080/"
        },
        "id": "Kil_wabwbnOy",
        "outputId": "1e5fa565-7a79-438e-9358-1b43355941d3"
      },
      "execution_count": null,
      "outputs": [
        {
          "output_type": "stream",
          "name": "stdout",
          "text": [
            "+---+---+-------------+---------+-------+-------+-------+----+-------+---+-----+--------+--------+-----+--------+--------+------------------------+\n",
            "|age|job|maritalStatus|education|default|balance|housing|loan|contact|day|month|duration|campaign|pdays|previous|poutcome|opened_new_td_act_yes_no|\n",
            "+---+---+-------------+---------+-------+-------+-------+----+-------+---+-----+--------+--------+-----+--------+--------+------------------------+\n",
            "|  0|  0|            0|        0|      0|      0|      0|   0|      0|  0|    0|       0|       0|    0|       0|       0|                       0|\n",
            "+---+---+-------------+---------+-------+-------+-------+----+-------+---+-----+--------+--------+-----+--------+--------+------------------------+\n",
            "\n"
          ]
        }
      ]
    },
    {
      "cell_type": "code",
      "source": [
        "data_df = bankDF.na.drop(how=\"any\")\n",
        "#\n",
        "print(\"Count of the records in the datset before dropping null values\",\n",
        "      bankDF.count())\n",
        "#\n",
        "print(\"Count of the records in the dataset after dropping null values\",\n",
        "      data_df.count())"
      ],
      "metadata": {
        "colab": {
          "base_uri": "https://localhost:8080/"
        },
        "id": "paUTpo1-cJu0",
        "outputId": "38988d37-931f-4443-a12b-7c24fa899501"
      },
      "execution_count": null,
      "outputs": [
        {
          "output_type": "stream",
          "name": "stdout",
          "text": [
            "Count of the records in the datset before dropping null values 4521\n",
            "Count of the records in the dataset after dropping null values 4521\n"
          ]
        }
      ]
    },
    {
      "cell_type": "markdown",
      "source": [
        "# Data pre-processing\n",
        "\n",
        "## Train, Test splits"
      ],
      "metadata": {
        "id": "DLYGWRkYifyO"
      }
    },
    {
      "cell_type": "code",
      "source": [
        "(train_data, test_data) = bankDF.randomSplit([0.7,0.3])"
      ],
      "metadata": {
        "id": "R-PYU7ROcaPZ"
      },
      "execution_count": null,
      "outputs": []
    },
    {
      "cell_type": "code",
      "source": [
        "train_data.show(4)"
      ],
      "metadata": {
        "colab": {
          "base_uri": "https://localhost:8080/"
        },
        "id": "EegTMAf2ck0G",
        "outputId": "813fd803-54bc-4612-cf45-217a58f36e54"
      },
      "execution_count": null,
      "outputs": [
        {
          "output_type": "stream",
          "name": "stdout",
          "text": [
            "+---+-------+-------------+---------+-------+-------+-------+----+---------+---+-----+--------+--------+-----+--------+--------+------------------------+\n",
            "|age|    job|maritalStatus|education|default|balance|housing|loan|  contact|day|month|duration|campaign|pdays|previous|poutcome|opened_new_td_act_yes_no|\n",
            "+---+-------+-------------+---------+-------+-------+-------+----+---------+---+-----+--------+--------+-----+--------+--------+------------------------+\n",
            "| 19|student|       single|  primary|     no|  103.0|     no|  no| cellular| 10|  jul|   104.0|     2.0| -1.0|     0.0| unknown|                     yes|\n",
            "| 19|student|       single|secondary|     no|  302.0|     no|  no| cellular| 16|  jul|   205.0|     1.0| -1.0|     0.0| unknown|                     yes|\n",
            "| 20|student|       single|secondary|     no|  291.0|     no|  no|telephone| 11|  may|   172.0|     5.0|371.0|     5.0| failure|                      no|\n",
            "| 20|student|       single|secondary|     no|  502.0|     no|  no| cellular| 30|  apr|   261.0|     1.0| -1.0|     0.0| unknown|                     yes|\n",
            "+---+-------+-------------+---------+-------+-------+-------+----+---------+---+-----+--------+--------+-----+--------+--------+------------------------+\n",
            "only showing top 4 rows\n",
            "\n"
          ]
        }
      ]
    },
    {
      "cell_type": "code",
      "source": [
        "test_data.show(4)"
      ],
      "metadata": {
        "colab": {
          "base_uri": "https://localhost:8080/"
        },
        "id": "GPI2en2Bcpl0",
        "outputId": "2c8c4321-5198-4e01-d1c0-46041ceb2972"
      },
      "execution_count": null,
      "outputs": [
        {
          "output_type": "stream",
          "name": "stdout",
          "text": [
            "+---+--------+-------------+---------+-------+-------+-------+----+---------+---+-----+--------+--------+-----+--------+--------+------------------------+\n",
            "|age|     job|maritalStatus|education|default|balance|housing|loan|  contact|day|month|duration|campaign|pdays|previous|poutcome|opened_new_td_act_yes_no|\n",
            "+---+--------+-------------+---------+-------+-------+-------+----+---------+---+-----+--------+--------+-----+--------+--------+------------------------+\n",
            "| 19| student|       single|  unknown|     no|    0.0|     no|  no| cellular| 11|  feb|   123.0|     3.0| -1.0|     0.0| unknown|                      no|\n",
            "| 19| student|       single|  unknown|     no| 1169.0|     no|  no| cellular|  6|  feb|   463.0|    18.0| -1.0|     0.0| unknown|                      no|\n",
            "| 21|services|       single|secondary|     no|  361.0|     no|  no|telephone|  5|  jun|   329.0|     1.0| 95.0|     1.0|   other|                      no|\n",
            "| 21| student|       single|secondary|     no|  681.0|     no|  no|  unknown| 20|  aug|     6.0|     1.0| -1.0|     0.0| unknown|                      no|\n",
            "+---+--------+-------------+---------+-------+-------+-------+----+---------+---+-----+--------+--------+-----+--------+--------+------------------------+\n",
            "only showing top 4 rows\n",
            "\n"
          ]
        }
      ]
    },
    {
      "cell_type": "code",
      "source": [
        "train_data.count()"
      ],
      "metadata": {
        "colab": {
          "base_uri": "https://localhost:8080/"
        },
        "id": "qdHjgOVvcx8Z",
        "outputId": "d9e431b0-7d3b-48ee-f22d-081701291653"
      },
      "execution_count": null,
      "outputs": [
        {
          "output_type": "execute_result",
          "data": {
            "text/plain": [
              "3182"
            ]
          },
          "metadata": {},
          "execution_count": 64
        }
      ]
    },
    {
      "cell_type": "code",
      "source": [
        "test_data.count()"
      ],
      "metadata": {
        "colab": {
          "base_uri": "https://localhost:8080/"
        },
        "id": "fwzfd98Ncz0j",
        "outputId": "b8c3bb55-6973-44b8-ec65-d323e418a87e"
      },
      "execution_count": null,
      "outputs": [
        {
          "output_type": "execute_result",
          "data": {
            "text/plain": [
              "1339"
            ]
          },
          "metadata": {},
          "execution_count": 65
        }
      ]
    },
    {
      "cell_type": "code",
      "source": [
        "cat_var_names = ['job','maritalStatus','education','default','housing','day','contact','month','poutcome']\n",
        "num_var_names = ['age','balance','duration','previous','pdays','campaign']"
      ],
      "metadata": {
        "id": "1fnjI6-Oc1a3"
      },
      "execution_count": null,
      "outputs": []
    },
    {
      "cell_type": "markdown",
      "source": [
        "## Proess numeric variables"
      ],
      "metadata": {
        "id": "Lnc1Hxtviqkq"
      }
    },
    {
      "cell_type": "code",
      "source": [
        "from pyspark.ml.feature import VectorAssembler\n",
        "vector_assembler_numVars = VectorAssembler(inputCols=num_var_names,\n",
        "                                           outputCol=\"num_features_all\")"
      ],
      "metadata": {
        "id": "jTU38UgCdFG2"
      },
      "execution_count": null,
      "outputs": []
    },
    {
      "cell_type": "markdown",
      "source": [
        "Min Max Scaler\n",
        "\n",
        "Way to normalize the input features/variables is the Min-Max scaler. By doing so, all features will be transformed into the range [0,1] meaning that the minimum and maximum value of a feature/variable is going to be 0 and 1, respectively.\n",
        "\n",
        "X_scaled = (X - X_min)/(X_max - X_min)"
      ],
      "metadata": {
        "id": "SKmzNcfGdxO8"
      }
    },
    {
      "cell_type": "code",
      "source": [
        "from pyspark.ml.feature import MinMaxScaler\n",
        "min_max_Scalar_NumVars = MinMaxScaler(inputCol=\"num_features_all\",\n",
        "                                      outputCol=\"scaled_num_features\")"
      ],
      "metadata": {
        "id": "3-PVpzXsdOl1"
      },
      "execution_count": null,
      "outputs": []
    },
    {
      "cell_type": "markdown",
      "source": [
        "## Process categorical columns"
      ],
      "metadata": {
        "id": "VDt7jpUmixVd"
      }
    },
    {
      "cell_type": "code",
      "source": [
        "from pyspark.ml.feature import StringIndexer\n",
        "df = spark.createDataFrame(\n",
        "    [(0, \"a\"), (1, \"b\"), (2, \"c\"), (3, \"a\"), (4, \"a\"), (5, \"c\")],\n",
        "    [\"id\", \"category\"])\n",
        "\n",
        "indexer = StringIndexer(inputCol=\"category\", outputCol=\"categoryIndex\")\n",
        "indexed = indexer.fit(df).transform(df)\n",
        "indexed.show()"
      ],
      "metadata": {
        "colab": {
          "base_uri": "https://localhost:8080/"
        },
        "id": "_Um09Bo_dfD9",
        "outputId": "2e86db44-1d21-47d8-8f60-2e87aab74af8"
      },
      "execution_count": null,
      "outputs": [
        {
          "output_type": "stream",
          "name": "stdout",
          "text": [
            "+---+--------+-------------+\n",
            "| id|category|categoryIndex|\n",
            "+---+--------+-------------+\n",
            "|  0|       a|          0.0|\n",
            "|  1|       b|          2.0|\n",
            "|  2|       c|          1.0|\n",
            "|  3|       a|          0.0|\n",
            "|  4|       a|          0.0|\n",
            "|  5|       c|          1.0|\n",
            "+---+--------+-------------+\n",
            "\n"
          ]
        }
      ]
    },
    {
      "cell_type": "code",
      "source": [
        "from pyspark.ml.feature import StringIndexer, OneHotEncoder\n",
        "indexers_Cat = [StringIndexer(inputCol=cat_var_name,\n",
        "                              outputCol=\"{0}_index\".format(cat_var_name))\n",
        "                for cat_var_name in cat_var_names]\n",
        "\n",
        "encoders_Cat = [OneHotEncoder(inputCol=indexer.getOutputCol(),\n",
        "                              outputCol=\"{0}_vec\"\\\n",
        "                              .format(indexer.getInputCol()))\n",
        "for indexer in indexers_Cat]\n",
        "\n",
        "assembler_Cat = VectorAssembler(inputCols=[encoder.getOutputCol()\n",
        "                for encoder in encoders_Cat],\n",
        "                outputCol=\"cat_features\")\n",
        "\n",
        "\n",
        "assembler = VectorAssembler(inputCols=[\"scaled_num_features\",\n",
        "                                       \"cat_features\"],\n",
        "                            outputCol=\"features\")"
      ],
      "metadata": {
        "id": "bYqw-Ch8fQXW"
      },
      "execution_count": null,
      "outputs": []
    },
    {
      "cell_type": "code",
      "source": [
        "indexer_Label = StringIndexer(inputCol=\"opened_new_td_act_yes_no\",\n",
        "                              outputCol=\"label\")"
      ],
      "metadata": {
        "id": "-g4yRLzzfxWi"
      },
      "execution_count": null,
      "outputs": []
    },
    {
      "cell_type": "markdown",
      "source": [
        "## Define the pipeline"
      ],
      "metadata": {
        "id": "ROENUHRti4G-"
      }
    },
    {
      "cell_type": "code",
      "source": [
        "preprocessingStages = [vector_assembler_numVars] + \\\n",
        "                      [min_max_Scalar_NumVars] + \\\n",
        "                      indexers_Cat + \\\n",
        "                      encoders_Cat + \\\n",
        "                      [assembler_Cat] + \\\n",
        "                      [assembler] + \\\n",
        "                      [indexer_Label]"
      ],
      "metadata": {
        "id": "Dk39rdDFf21C"
      },
      "execution_count": null,
      "outputs": []
    },
    {
      "cell_type": "code",
      "source": [
        "type(preprocessingStages)"
      ],
      "metadata": {
        "colab": {
          "base_uri": "https://localhost:8080/"
        },
        "id": "19fUrkEJgEDT",
        "outputId": "e3d8c0dc-d286-4bbc-a038-e29a374ad079"
      },
      "execution_count": null,
      "outputs": [
        {
          "output_type": "execute_result",
          "data": {
            "text/plain": [
              "list"
            ]
          },
          "metadata": {},
          "execution_count": 73
        }
      ]
    },
    {
      "cell_type": "code",
      "source": [
        "preprocessingStages"
      ],
      "metadata": {
        "colab": {
          "base_uri": "https://localhost:8080/"
        },
        "id": "qyzIZK5mgJ1d",
        "outputId": "1d37b405-e103-467b-963f-6bd993b6041e"
      },
      "execution_count": null,
      "outputs": [
        {
          "output_type": "execute_result",
          "data": {
            "text/plain": [
              "[VectorAssembler_165534e18517,\n",
              " MinMaxScaler_5e720bcab5fa,\n",
              " StringIndexer_8659cba9e966,\n",
              " StringIndexer_9896c4707268,\n",
              " StringIndexer_d09eefd76a55,\n",
              " StringIndexer_4dd16ae5613d,\n",
              " StringIndexer_1e84c4c52c5f,\n",
              " StringIndexer_35a5f8a2e268,\n",
              " StringIndexer_2bea74a56c9f,\n",
              " StringIndexer_0c15d3b52b86,\n",
              " StringIndexer_8c162238d021,\n",
              " OneHotEncoder_b312e063ae7d,\n",
              " OneHotEncoder_a8e42e9a2960,\n",
              " OneHotEncoder_0153975c0cd7,\n",
              " OneHotEncoder_8812975154de,\n",
              " OneHotEncoder_ac58b7631b3b,\n",
              " OneHotEncoder_2f89e4febb9a,\n",
              " OneHotEncoder_e692ceb61498,\n",
              " OneHotEncoder_4a3cc592aa2a,\n",
              " OneHotEncoder_85d683095b92,\n",
              " VectorAssembler_291d38424c50,\n",
              " VectorAssembler_34a22dc57f57,\n",
              " StringIndexer_1ce5ba02cbf8]"
            ]
          },
          "metadata": {},
          "execution_count": 74
        }
      ]
    },
    {
      "cell_type": "markdown",
      "source": [
        "# Train Classifier"
      ],
      "metadata": {
        "id": "lcoisW2ii8w5"
      }
    },
    {
      "cell_type": "code",
      "source": [
        "from pyspark.ml.classification import LogisticRegression\n",
        "lr =  LogisticRegression(maxIter=10,labelCol=\"label\",\n",
        "                         featuresCol=\"features\")\n",
        "#\n",
        "from pyspark.ml import Pipeline\n",
        "lr_pipeline = Pipeline(stages=preprocessingStages+[lr])\n",
        "lr_pipeline_model = lr_pipeline.fit(train_data)"
      ],
      "metadata": {
        "id": "t9uGJeGVgLME"
      },
      "execution_count": null,
      "outputs": []
    },
    {
      "cell_type": "code",
      "source": [
        "lr_pipeline_model.stages[-1].coefficients"
      ],
      "metadata": {
        "colab": {
          "base_uri": "https://localhost:8080/"
        },
        "id": "xxjnTVFIgVet",
        "outputId": "560ab1c0-ac0d-4f04-9b4b-dd0a275dc486"
      },
      "execution_count": null,
      "outputs": [
        {
          "output_type": "execute_result",
          "data": {
            "text/plain": [
              "DenseVector([0.0477, -0.5533, 13.4253, 0.1875, 1.2417, -4.9172, -0.2179, 0.085, -0.1088, 0.2746, -0.367, 0.4783, -0.1563, -0.3413, -0.9485, -0.7567, 1.0455, -0.1987, -0.3067, -0.1017, 0.1304, -0.1363, 0.0728, -0.2069, -1.2519, 0.3843, -0.3528, 0.4006, -0.6208, -0.2399, -1.4808, -0.8867, 0.1891, 0.0282, -0.4648, 0.8483, -0.9844, -0.0847, 0.2782, -0.402, 0.1869, 0.5134, 0.1696, 0.4177, 0.7737, 0.1457, 0.3041, 0.1013, 0.2294, 0.8326, 0.9959, -0.0631, 1.603, 0.2816, 0.4624, -1.0629, -0.4612, -0.7137, -0.0119, 0.9919, -0.4308, 0.2262, -0.032, -0.6521, 1.6994, 1.6067, 0.4054, -1.6113, -1.4763, -1.4182])"
            ]
          },
          "metadata": {},
          "execution_count": 76
        }
      ]
    },
    {
      "cell_type": "code",
      "source": [
        "lr_pipeline_model.stages[-1].intercept"
      ],
      "metadata": {
        "colab": {
          "base_uri": "https://localhost:8080/"
        },
        "id": "Cj8YjwObgeck",
        "outputId": "809f3d3f-d51a-40db-9207-1d51795fdb95"
      },
      "execution_count": null,
      "outputs": [
        {
          "output_type": "execute_result",
          "data": {
            "text/plain": [
              "-2.1204686804283237"
            ]
          },
          "metadata": {},
          "execution_count": 77
        }
      ]
    },
    {
      "cell_type": "code",
      "source": [
        "train_predictions_lr = lr_pipeline_model.transform(train_data)"
      ],
      "metadata": {
        "id": "Bq6NC_knggJO"
      },
      "execution_count": null,
      "outputs": []
    },
    {
      "cell_type": "code",
      "source": [
        "train_predictions_lr.select('features').show(truncate=False)"
      ],
      "metadata": {
        "colab": {
          "base_uri": "https://localhost:8080/"
        },
        "id": "2TvFbvZGgigE",
        "outputId": "6902e7d0-7e1d-43f9-abfd-5e633ce4f313"
      },
      "execution_count": null,
      "outputs": [
        {
          "output_type": "stream",
          "name": "stdout",
          "text": [
            "+---------------------------------------------------------------------------------------------------------------------------------------------------------------------------------------+\n",
            "|features                                                                                                                                                                               |\n",
            "+---------------------------------------------------------------------------------------------------------------------------------------------------------------------------------------+\n",
            "|(70,[1,2,5,16,18,21,22,52,54,57,67],[0.0014468730684946902,0.03616636528028933,0.02040816326530612,1.0,1.0,1.0,1.0,1.0,1.0,1.0,1.0])                                                   |\n",
            "|(70,[1,2,16,18,19,22,34,54,57,67],[0.00424228802607181,0.07269439421338156,1.0,1.0,1.0,1.0,1.0,1.0,1.0,1.0])                                                                           |\n",
            "|(70,[0,1,2,3,4,5,16,18,19,22,42,56,68],[0.014705882352941176,0.004087767601281115,0.060759493670886074,0.2,0.45982694684796044,0.08163265306122448,1.0,1.0,1.0,1.0,1.0,1.0,1.0])       |\n",
            "|(70,[0,1,2,16,18,19,22,35,54,61,67],[0.014705882352941176,0.007051750294993538,0.09294755877034358,1.0,1.0,1.0,1.0,1.0,1.0,1.0,1.0])                                                   |\n",
            "|(70,[0,1,2,16,18,19,22,41,54,62,67],[0.014705882352941176,0.016730347811428892,0.09764918625678119,1.0,1.0,1.0,1.0,1.0,1.0,1.0,1.0])                                                   |\n",
            "|(70,[0,1,2,5,10,18,19,22,23,36,55,56,67],[0.029411764705882353,0.026732033488790247,0.03725135623869801,0.02040816326530612,1.0,1.0,1.0,1.0,1.0,1.0,1.0,1.0,1.0])                      |\n",
            "|(70,[0,1,2,16,18,19,22,39,55,56,67],[0.029411764705882353,8.428386806765185E-5,0.22350813743218806,1.0,1.0,1.0,1.0,1.0,1.0,1.0,1.0])                                                   |\n",
            "|(70,[0,1,2,3,4,5,16,18,19,22,32,54,58,69],[0.029411764705882353,0.09613979884250154,0.044122965641952984,0.28,0.15822002472187885,0.04081632653061224,1.0,1.0,1.0,1.0,1.0,1.0,1.0,1.0])|\n",
            "|(70,[0,1,2,5,16,18,22,23,41,55,56,67],[0.029411764705882353,0.0019244816542113839,0.0701627486437613,0.04081632653061224,1.0,1.0,1.0,1.0,1.0,1.0,1.0,1.0])                             |\n",
            "|(70,[0,1,2,9,18,19,22,26,54,58,67],[0.04411764705882353,0.057748496937686127,0.022061482820976492,1.0,1.0,1.0,1.0,1.0,1.0,1.0,1.0])                                                    |\n",
            "|(70,[0,1,2,16,18,20,22,26,54,58,67],[0.04411764705882353,0.009706692139124572,0.12079566003616636,1.0,1.0,1.0,1.0,1.0,1.0,1.0,1.0])                                                    |\n",
            "|(70,[0,1,2,5,16,18,22,45,54,57,67],[0.04411764705882353,6.602236331966062E-4,0.023508137432188065,0.04081632653061224,1.0,1.0,1.0,1.0,1.0,1.0,1.0])                                    |\n",
            "|(70,[0,1,2,16,18,22,46,54,66,67],[0.04411764705882353,0.007711973928190144,0.054249547920433995,1.0,1.0,1.0,1.0,1.0,1.0,1.0])                                                          |\n",
            "|(70,[0,1,2,8,18,19,22,41,60,67],[0.04411764705882353,0.004677754677754678,0.045207956600361664,1.0,1.0,1.0,1.0,1.0,1.0,1.0])                                                           |\n",
            "|(70,[0,1,2,9,18,19,22,41,55,56,67],[0.058823529411764705,7.02365567230432E-5,0.14792043399638335,1.0,1.0,1.0,1.0,1.0,1.0,1.0,1.0])                                                     |\n",
            "|(70,[0,1,2,9,18,19,22,23,29,54,56,67],[0.058823529411764705,0.00827386638197449,0.020976491862567812,1.0,1.0,1.0,1.0,1.0,1.0,1.0,1.0,1.0])                                             |\n",
            "|(70,[0,1,2,6,17,21,22,23,34,54,61,67],[0.058823529411764705,0.016266786537056807,0.26726943942133813,1.0,1.0,1.0,1.0,1.0,1.0,1.0,1.0,1.0])                                             |\n",
            "|(70,[0,1,2,3,4,6,18,21,22,23,33,54,56,68],[0.058823529411764705,0.12118615496993876,0.059674502712477394,0.04,0.4289245982694685,1.0,1.0,1.0,1.0,1.0,1.0,1.0,1.0,1.0])                 |\n",
            "|(70,[0,1,2,6,18,22,23,25,54,56,67],[0.058823529411764705,0.01147665336854526,0.043037974683544304,1.0,1.0,1.0,1.0,1.0,1.0,1.0,1.0])                                                    |\n",
            "|(70,[0,1,2,7,18,20,22,23,35,54,61,67],[0.058823529411764705,0.010338821149631961,0.04159132007233273,1.0,1.0,1.0,1.0,1.0,1.0,1.0,1.0,1.0])                                             |\n",
            "+---------------------------------------------------------------------------------------------------------------------------------------------------------------------------------------+\n",
            "only showing top 20 rows\n",
            "\n"
          ]
        }
      ]
    },
    {
      "cell_type": "code",
      "source": [
        "train_predictions_lr.show()"
      ],
      "metadata": {
        "colab": {
          "base_uri": "https://localhost:8080/"
        },
        "id": "-7wRgvJxhCKV",
        "outputId": "696379a0-69ba-4103-a2f6-523592159d78"
      },
      "execution_count": null,
      "outputs": [
        {
          "output_type": "stream",
          "name": "stdout",
          "text": [
            "+---+-----------+-------------+---------+-------+-------+-------+----+---------+---+-----+--------+--------+-----+--------+--------+------------------------+--------------------+--------------------+---------+-------------------+---------------+-------------+-------------+---------+-------------+-----------+--------------+---------------+-----------------+-------------+-------------+-------------+---------------+-------------+---------------+-------------+--------------------+--------------------+-----+--------------------+--------------------+----------+\n",
            "|age|        job|maritalStatus|education|default|balance|housing|loan|  contact|day|month|duration|campaign|pdays|previous|poutcome|opened_new_td_act_yes_no|    num_features_all| scaled_num_features|job_index|maritalStatus_index|education_index|default_index|housing_index|day_index|contact_index|month_index|poutcome_index|        job_vec|maritalStatus_vec|education_vec|  default_vec|  housing_vec|        day_vec|  contact_vec|      month_vec| poutcome_vec|        cat_features|            features|label|       rawPrediction|         probability|prediction|\n",
            "+---+-----------+-------------+---------+-------+-------+-------+----+---------+---+-----+--------+--------+-----+--------+--------+------------------------+--------------------+--------------------+---------+-------------------+---------------+-------------+-------------+---------+-------------+-----------+--------------+---------------+-----------------+-------------+-------------+-------------+---------------+-------------+---------------+-------------+--------------------+--------------------+-----+--------------------+--------------------+----------+\n",
            "| 19|    student|       single|  primary|     no|  103.0|     no|  no| cellular| 10|  jul|   104.0|     2.0| -1.0|     0.0| unknown|                     yes|[19.0,103.0,104.0...|[0.0,0.0014468730...|     10.0|                1.0|            2.0|          0.0|          1.0|     28.0|          0.0|        1.0|           0.0|(11,[10],[1.0])|    (2,[1],[1.0])|(3,[2],[1.0])|(1,[0],[1.0])|    (1,[],[])|(30,[28],[1.0])|(2,[0],[1.0])| (11,[1],[1.0])|(3,[0],[1.0])|(64,[10,12,15,16,...|(70,[1,2,5,16,18,...|  1.0|[1.32047324703975...|[0.78926043172178...|       0.0|\n",
            "| 19|    student|       single|secondary|     no|  302.0|     no|  no| cellular| 16|  jul|   205.0|     1.0| -1.0|     0.0| unknown|                     yes|[19.0,302.0,205.0...|[0.0,0.0042422880...|     10.0|                1.0|            0.0|          0.0|          1.0|     10.0|          0.0|        1.0|           0.0|(11,[10],[1.0])|    (2,[1],[1.0])|(3,[0],[1.0])|(1,[0],[1.0])|    (1,[],[])|(30,[10],[1.0])|(2,[0],[1.0])| (11,[1],[1.0])|(3,[0],[1.0])|(64,[10,12,13,16,...|(70,[1,2,16,18,19...|  1.0|[2.76446639305839...|[0.94072517678766...|       0.0|\n",
            "| 20|    student|       single|secondary|     no|  291.0|     no|  no|telephone| 11|  may|   172.0|     5.0|371.0|     5.0| failure|                      no|[20.0,291.0,172.0...|[0.01470588235294...|     10.0|                1.0|            0.0|          0.0|          1.0|     18.0|          2.0|        0.0|           1.0|(11,[10],[1.0])|    (2,[1],[1.0])|(3,[0],[1.0])|(1,[0],[1.0])|    (1,[],[])|(30,[18],[1.0])|    (2,[],[])| (11,[0],[1.0])|(3,[1],[1.0])|(64,[10,12,13,16,...|(70,[0,1,2,3,4,5,...|  0.0|[2.15729868706565...|[0.89634884462977...|       0.0|\n",
            "| 20|    student|       single|secondary|     no|  502.0|     no|  no| cellular| 30|  apr|   261.0|     1.0| -1.0|     0.0| unknown|                     yes|[20.0,502.0,261.0...|[0.01470588235294...|     10.0|                1.0|            0.0|          0.0|          1.0|     11.0|          0.0|        5.0|           0.0|(11,[10],[1.0])|    (2,[1],[1.0])|(3,[0],[1.0])|(1,[0],[1.0])|    (1,[],[])|(30,[11],[1.0])|(2,[0],[1.0])| (11,[5],[1.0])|(3,[0],[1.0])|(64,[10,12,13,16,...|(70,[0,1,2,16,18,...|  1.0|[0.24035677702837...|[0.55980156948330...|       0.0|\n",
            "| 20|    student|       single|secondary|     no| 1191.0|     no|  no| cellular| 12|  feb|   274.0|     1.0| -1.0|     0.0| unknown|                      no|[20.0,1191.0,274....|[0.01470588235294...|     10.0|                1.0|            0.0|          0.0|          1.0|     17.0|          0.0|        6.0|           0.0|(11,[10],[1.0])|    (2,[1],[1.0])|(3,[0],[1.0])|(1,[0],[1.0])|    (1,[],[])|(30,[17],[1.0])|(2,[0],[1.0])| (11,[6],[1.0])|(3,[0],[1.0])|(64,[10,12,13,16,...|(70,[0,1,2,16,18,...|  0.0|[0.77577572376356...|[0.68476897238146...|       0.0|\n",
            "| 21|   services|       single|secondary|     no| 1903.0|    yes|  no|  unknown| 29|  may|   107.0|     2.0| -1.0|     0.0| unknown|                      no|[21.0,1903.0,107....|[0.02941176470588...|      4.0|                1.0|            0.0|          0.0|          0.0|     12.0|          1.0|        0.0|           0.0| (11,[4],[1.0])|    (2,[1],[1.0])|(3,[0],[1.0])|(1,[0],[1.0])|(1,[0],[1.0])|(30,[12],[1.0])|(2,[1],[1.0])| (11,[0],[1.0])|(3,[0],[1.0])|(64,[4,12,13,16,1...|(70,[0,1,2,5,10,1...|  0.0|[6.76352980602392...|[0.99884618828627...|       0.0|\n",
            "| 21|    student|       single|secondary|     no|    6.0|     no|  no|  unknown|  9|  may|   622.0|     1.0| -1.0|     0.0| unknown|                      no|[21.0,6.0,622.0,0...|[0.02941176470588...|     10.0|                1.0|            0.0|          0.0|          1.0|     15.0|          1.0|        0.0|           0.0|(11,[10],[1.0])|    (2,[1],[1.0])|(3,[0],[1.0])|(1,[0],[1.0])|    (1,[],[])|(30,[15],[1.0])|(2,[1],[1.0])| (11,[0],[1.0])|(3,[0],[1.0])|(64,[10,12,13,16,...|(70,[0,1,2,16,18,...|  0.0|[1.94609146661085...|[0.87501983025924...|       0.0|\n",
            "| 21|    student|       single|secondary|     no| 6844.0|     no|  no| cellular| 14|  aug|   126.0|     3.0|127.0|     7.0|   other|                      no|[21.0,6844.0,126....|[0.02941176470588...|     10.0|                1.0|            0.0|          0.0|          1.0|      8.0|          0.0|        2.0|           2.0|(11,[10],[1.0])|    (2,[1],[1.0])|(3,[0],[1.0])|(1,[0],[1.0])|    (1,[],[])| (30,[8],[1.0])|(2,[0],[1.0])| (11,[2],[1.0])|(3,[2],[1.0])|(64,[10,12,13,16,...|(70,[0,1,2,3,4,5,...|  0.0|[1.60039615926798...|[0.83207374657289...|       0.0|\n",
            "| 21|    student|       single|  unknown|     no|  137.0|    yes|  no|  unknown| 12|  may|   198.0|     3.0| -1.0|     0.0| unknown|                      no|[21.0,137.0,198.0...|[0.02941176470588...|     10.0|                1.0|            3.0|          0.0|          0.0|     17.0|          1.0|        0.0|           0.0|(11,[10],[1.0])|    (2,[1],[1.0])|    (3,[],[])|(1,[0],[1.0])|(1,[0],[1.0])|(30,[17],[1.0])|(2,[1],[1.0])| (11,[0],[1.0])|(3,[0],[1.0])|(64,[10,12,16,17,...|(70,[0,1,2,5,16,1...|  0.0|[3.39631177820864...|[0.96758907022315...|       0.0|\n",
            "| 22|     admin.|       single|secondary|     no| 4111.0|     no| yes| cellular| 19|  aug|    65.0|     1.0| -1.0|     0.0| unknown|                      no|[22.0,4111.0,65.0...|[0.04411764705882...|      3.0|                1.0|            0.0|          0.0|          1.0|      2.0|          0.0|        2.0|           0.0| (11,[3],[1.0])|    (2,[1],[1.0])|(3,[0],[1.0])|(1,[0],[1.0])|    (1,[],[])| (30,[2],[1.0])|(2,[0],[1.0])| (11,[2],[1.0])|(3,[0],[1.0])|(64,[3,12,13,16,2...|(70,[0,1,2,9,18,1...|  0.0|[3.42870837711921...|[0.96858979570411...|       0.0|\n",
            "| 22|    student|       single| tertiary|     no|  691.0|     no|  no| cellular| 19|  aug|   338.0|     1.0| -1.0|     0.0| unknown|                     yes|[22.0,691.0,338.0...|[0.04411764705882...|     10.0|                1.0|            1.0|          0.0|          1.0|      2.0|          0.0|        2.0|           0.0|(11,[10],[1.0])|    (2,[1],[1.0])|(3,[1],[1.0])|(1,[0],[1.0])|    (1,[],[])| (30,[2],[1.0])|(2,[0],[1.0])| (11,[2],[1.0])|(3,[0],[1.0])|(64,[10,12,14,16,...|(70,[0,1,2,16,18,...|  1.0|[1.07359802130165...|[0.74528055760266...|       0.0|\n",
            "| 22|    student|       single|  unknown|     no|   47.0|     no|  no| cellular|  3|  jul|    69.0|     3.0| -1.0|     0.0| unknown|                      no|[22.0,47.0,69.0,0...|[0.04411764705882...|     10.0|                1.0|            3.0|          0.0|          1.0|     21.0|          0.0|        1.0|           0.0|(11,[10],[1.0])|    (2,[1],[1.0])|    (3,[],[])|(1,[0],[1.0])|    (1,[],[])|(30,[21],[1.0])|(2,[0],[1.0])| (11,[1],[1.0])|(3,[0],[1.0])|(64,[10,12,16,39,...|(70,[0,1,2,5,16,1...|  0.0|[2.90921526054785...|[0.94830010463221...|       0.0|\n",
            "| 22|    student|       single|  unknown|     no|  549.0|     no|  no| cellular|  2|  sep|   154.0|     1.0| -1.0|     0.0| unknown|                      no|[22.0,549.0,154.0...|[0.04411764705882...|     10.0|                1.0|            3.0|          0.0|          1.0|     22.0|          0.0|       10.0|           0.0|(11,[10],[1.0])|    (2,[1],[1.0])|    (3,[],[])|(1,[0],[1.0])|    (1,[],[])|(30,[22],[1.0])|(2,[0],[1.0])|(11,[10],[1.0])|(3,[0],[1.0])|(64,[10,12,16,40,...|(70,[0,1,2,16,18,...|  0.0|[1.02216451470529...|[0.73539400619909...|       0.0|\n",
            "| 22| technician|       single|secondary|     no|  333.0|     no| yes|telephone| 12|  nov|   129.0|     1.0| -1.0|     0.0| unknown|                      no|[22.0,333.0,129.0...|[0.04411764705882...|      2.0|                1.0|            0.0|          0.0|          1.0|     17.0|          2.0|        4.0|           0.0| (11,[2],[1.0])|    (2,[1],[1.0])|(3,[0],[1.0])|(1,[0],[1.0])|    (1,[],[])|(30,[17],[1.0])|    (2,[],[])| (11,[4],[1.0])|(3,[0],[1.0])|(64,[2,12,13,16,3...|(70,[0,1,2,8,18,1...|  0.0|[3.48718785271856...|[0.97032101823325...|       0.0|\n",
            "| 23|     admin.|       single|secondary|     no|    5.0|     no|  no|  unknown| 12|  may|   413.0|     1.0| -1.0|     0.0| unknown|                      no|[23.0,5.0,413.0,0...|[0.05882352941176...|      3.0|                1.0|            0.0|          0.0|          1.0|     17.0|          1.0|        0.0|           0.0| (11,[3],[1.0])|    (2,[1],[1.0])|(3,[0],[1.0])|(1,[0],[1.0])|    (1,[],[])|(30,[17],[1.0])|(2,[1],[1.0])| (11,[0],[1.0])|(3,[0],[1.0])|(64,[3,12,13,16,3...|(70,[0,1,2,9,18,1...|  0.0|[2.81495134885044...|[0.94347843966265...|       0.0|\n",
            "| 23|     admin.|       single|secondary|     no|  589.0|    yes|  no| cellular|  6|  may|    62.0|     1.0| -1.0|     0.0| unknown|                      no|[23.0,589.0,62.0,...|[0.05882352941176...|      3.0|                1.0|            0.0|          0.0|          0.0|      5.0|          0.0|        0.0|           0.0| (11,[3],[1.0])|    (2,[1],[1.0])|(3,[0],[1.0])|(1,[0],[1.0])|(1,[0],[1.0])| (30,[5],[1.0])|(2,[0],[1.0])| (11,[0],[1.0])|(3,[0],[1.0])|(64,[3,12,13,16,1...|(70,[0,1,2,9,18,1...|  0.0|[3.95855243005443...|[0.98126689909585...|       0.0|\n",
            "| 23|blue-collar|      married|  primary|     no| 1158.0|    yes|  no| cellular| 16|  apr|   743.0|     1.0| -1.0|     0.0| unknown|                      no|[23.0,1158.0,743....|[0.05882352941176...|      0.0|                0.0|            2.0|          0.0|          0.0|     10.0|          0.0|        5.0|           0.0| (11,[0],[1.0])|    (2,[0],[1.0])|(3,[2],[1.0])|(1,[0],[1.0])|(1,[0],[1.0])|(30,[10],[1.0])|(2,[0],[1.0])| (11,[5],[1.0])|(3,[0],[1.0])|(64,[0,11,15,16,1...|(70,[0,1,2,6,17,2...|  0.0|[0.61287075685210...|[0.64859538207757...|       0.0|\n",
            "| 23|blue-collar|       single|  primary|     no| 8627.0|    yes|  no| cellular| 15|  may|   169.0|     1.0|346.0|     1.0| failure|                      no|[23.0,8627.0,169....|[0.05882352941176...|      0.0|                1.0|            2.0|          0.0|          0.0|      9.0|          0.0|        0.0|           1.0| (11,[0],[1.0])|    (2,[1],[1.0])|(3,[2],[1.0])|(1,[0],[1.0])|(1,[0],[1.0])| (30,[9],[1.0])|(2,[0],[1.0])| (11,[0],[1.0])|(3,[1],[1.0])|(64,[0,12,15,16,1...|(70,[0,1,2,3,4,6,...|  0.0|[3.08534106756309...|[0.95628401234554...|       0.0|\n",
            "| 23|blue-collar|       single|  unknown|     no|  817.0|    yes|  no| cellular| 18|  may|   123.0|     1.0| -1.0|     0.0| unknown|                      no|[23.0,817.0,123.0...|[0.05882352941176...|      0.0|                1.0|            3.0|          0.0|          0.0|      1.0|          0.0|        0.0|           0.0| (11,[0],[1.0])|    (2,[1],[1.0])|    (3,[],[])|(1,[0],[1.0])|(1,[0],[1.0])| (30,[1],[1.0])|(2,[0],[1.0])| (11,[0],[1.0])|(3,[0],[1.0])|(64,[0,12,16,17,1...|(70,[0,1,2,6,18,2...|  0.0|[3.43075484582325...|[0.96865199698635...|       0.0|\n",
            "| 23| management|       single| tertiary|     no|  736.0|    yes|  no| cellular| 30|  apr|   119.0|     1.0| -1.0|     0.0| unknown|                      no|[23.0,736.0,119.0...|[0.05882352941176...|      1.0|                1.0|            1.0|          0.0|          0.0|     11.0|          0.0|        5.0|           0.0| (11,[1],[1.0])|    (2,[1],[1.0])|(3,[1],[1.0])|(1,[0],[1.0])|(1,[0],[1.0])|(30,[11],[1.0])|(2,[0],[1.0])| (11,[5],[1.0])|(3,[0],[1.0])|(64,[1,12,14,16,1...|(70,[0,1,2,7,18,2...|  0.0|[1.86478111785506...|[0.86585325358828...|       0.0|\n",
            "+---+-----------+-------------+---------+-------+-------+-------+----+---------+---+-----+--------+--------+-----+--------+--------+------------------------+--------------------+--------------------+---------+-------------------+---------------+-------------+-------------+---------+-------------+-----------+--------------+---------------+-----------------+-------------+-------------+-------------+---------------+-------------+---------------+-------------+--------------------+--------------------+-----+--------------------+--------------------+----------+\n",
            "only showing top 20 rows\n",
            "\n"
          ]
        }
      ]
    },
    {
      "cell_type": "markdown",
      "source": [
        "## Predictions"
      ],
      "metadata": {
        "id": "sOVtXNZYjJaa"
      }
    },
    {
      "cell_type": "code",
      "source": [
        "from pyspark.ml.evaluation import MulticlassClassificationEvaluator\n",
        "predictionAndLabels_train_lr = train_predictions_lr.select(\"prediction\",\n",
        "                                                           \"label\")\n",
        "#\n",
        "evaluator = MulticlassClassificationEvaluator(metricName=\"accuracy\")\n",
        "train_accuracy_lr = evaluator.evaluate(predictionAndLabels_train_lr)\n",
        "#\n",
        "print(\"Training Set Accuracy = \",train_accuracy_lr)\n",
        "print(\"Training error \", 1-train_accuracy_lr)"
      ],
      "metadata": {
        "colab": {
          "base_uri": "https://localhost:8080/"
        },
        "id": "N9rkxc0hhRl4",
        "outputId": "4670d00c-738c-4415-bad6-7bb2b5994b90"
      },
      "execution_count": null,
      "outputs": [
        {
          "output_type": "stream",
          "name": "stdout",
          "text": [
            "Training Set Accuracy =  0.9107479572595851\n",
            "Training error  0.08925204274041487\n"
          ]
        }
      ]
    },
    {
      "cell_type": "markdown",
      "source": [
        "Predictions on test data"
      ],
      "metadata": {
        "id": "Jx_7QPCXhta0"
      }
    },
    {
      "cell_type": "code",
      "source": [
        "test_predictions_lr = lr_pipeline_model.transform(test_data)"
      ],
      "metadata": {
        "id": "pLKCcwBghspt"
      },
      "execution_count": null,
      "outputs": []
    },
    {
      "cell_type": "code",
      "source": [
        "predictionAndLabels_test_lr = test_predictions_lr.select(\"prediction\",\n",
        "                                                         \"label\")\n",
        "evaluator = MulticlassClassificationEvaluator(metricName=\"accuracy\")\n",
        "test_accuracy_lr = evaluator.evaluate(predictionAndLabels_test_lr)\n",
        "print(\"Testing Set Accuracy = \",test_accuracy_lr)\n",
        "print(\"Testing error \", 1-test_accuracy_lr)"
      ],
      "metadata": {
        "colab": {
          "base_uri": "https://localhost:8080/"
        },
        "id": "DriIMdWyhXtz",
        "outputId": "10243fc6-7824-4914-aa33-26ec07a86a24"
      },
      "execution_count": null,
      "outputs": [
        {
          "output_type": "stream",
          "name": "stdout",
          "text": [
            "Testing Set Accuracy =  0.8805078416728902\n",
            "Testing error  0.1194921583271098\n"
          ]
        }
      ]
    },
    {
      "cell_type": "code",
      "source": [
        "predictionAndLabels_test_lr.show(3)"
      ],
      "metadata": {
        "colab": {
          "base_uri": "https://localhost:8080/"
        },
        "id": "KG6244Ovld4M",
        "outputId": "5e38df00-3a5f-4baa-b5a1-a91264b0ec62"
      },
      "execution_count": null,
      "outputs": [
        {
          "output_type": "stream",
          "name": "stdout",
          "text": [
            "+----------+-----+\n",
            "|prediction|label|\n",
            "+----------+-----+\n",
            "|       0.0|  0.0|\n",
            "|       0.0|  0.0|\n",
            "|       0.0|  0.0|\n",
            "+----------+-----+\n",
            "only showing top 3 rows\n",
            "\n"
          ]
        }
      ]
    },
    {
      "cell_type": "markdown",
      "source": [
        "## Evaluating a Model\n",
        "How good is our model?\n",
        "\n",
        "We could just compute the proportion of rows have matching prediction and label columns, that would be our accuracy. It turns out, though, accuracy is not such a great metric for evaluating a binary classifier.\n",
        "\n",
        "To really tell how good our model is, we need other metrics, such true positive rate (TPR, also known as recall), false positive rate (FPR) and precision, which will vary with the threshold we choose to turn predicted probabilities into predicted classes (0 or 1).\n",
        "\n",
        "If we go over every possible threshold and compute these metrics, we can build both Receiver Operating Characteristic (ROC) curve and Precision-Recall (PR) curve for a given model.\n",
        "\n",
        "It brings up another question: how to compare two models using these curves? They may cross over each other at different points, right? One way of tackling this issue is to look at the area under the curve: the bigger the area, the better the model, roughly speaking. Thus we can compute the Area Under the ROC curve (AUROC, ROC AUC, or sometimes just AUC) and the Area Under the PR curve (PR AUC).\n",
        "\n",
        "A precision-recall curve is a plot of the precision (y-axis) and the recall (x-axis) for different thresholds, much like the ROC curve.\n",
        "\n",
        "* ROC Curves summarize the trade-off between the true positive rate and false positive rate for a predictive model using different probability thresholds.\n",
        "* Precision-Recall curves summarize the trade-off between the true positive rate and the positive predictive value for a predictive model using different probability thresholds.\n",
        "* ROC curves are appropriate when the observations are balanced between each class, whereas precision-recall curves are appropriate for imbalanced datasets."
      ],
      "metadata": {
        "id": "J6VfH-ARoAhy"
      }
    },
    {
      "cell_type": "code",
      "source": [
        "from pyspark.ml.evaluation import BinaryClassificationEvaluator\n",
        "\n",
        "# Let's use the run-of-the-mill evaluator\n",
        "evaluator = BinaryClassificationEvaluator(rawPredictionCol=\"prediction\",\n",
        "                                          labelCol='label')\n",
        "\n",
        "# We have only two choices: area under ROC and PR curves :-(\n",
        "auroc = evaluator.evaluate(predictionAndLabels_test_lr,\n",
        "                           {evaluator.metricName: \"areaUnderROC\"})\n",
        "auprc = evaluator.evaluate(predictionAndLabels_test_lr,\n",
        "                           {evaluator.metricName: \"areaUnderPR\"})\n",
        "print(\"Area under ROC Curve: {:.4f}\".format(auroc))\n",
        "print(\"Area under PR Curve: {:.4f}\".format(auprc))"
      ],
      "metadata": {
        "colab": {
          "base_uri": "https://localhost:8080/"
        },
        "id": "F1f-vIBtnBv1",
        "outputId": "41ae1953-196e-4d3c-eb33-18263b58fa63"
      },
      "execution_count": null,
      "outputs": [
        {
          "output_type": "stream",
          "name": "stdout",
          "text": [
            "Area under ROC Curve: 0.6130\n",
            "Area under PR Curve: 0.3929\n"
          ]
        }
      ]
    },
    {
      "cell_type": "markdown",
      "source": [
        "## Classification metrics\n",
        "For every classification model prediction, a matrix called the confusion matrix can be constructed which demonstrates the number of test cases correctly and incorrectly classified.\n",
        "\n",
        "It looks something like this (considering 1 -Positive and 0 -Negative are the target classes):\n",
        "\n",
        "* TN: Number of negative cases correctly classified\n",
        "* TP: Number of positive cases correctly classified\n",
        "* FN: Number of positive cases incorrectly classified as negative\n",
        "* FP: Number of negative cases correctly classified as positive\n",
        "\n",
        "`Accuracy`: Accuracy is the simplest metric and can be defined as the number of test cases correctly classified divided by the total number of test cases.\n",
        "* (TP+TN)/(TP+TN+FP+FN)\n",
        "\n",
        "`Precision`: Precision is the metric used to identify the correctness of classification.\n",
        "* TP/(TP+FP)\n",
        "\n",
        "`Recall`: Recall tells us the number of positive cases correctly identified out of the total number of positive cases.\n",
        "* TP/(TP+FN)\n",
        "\n",
        "`F1 Score`: F1 score is the harmonic mean of Recall and Precision and therefore, balances out the strengths of each.\n",
        "It is useful in cases where both recall and precision can be valuable.\n",
        "* 2*(Precision*Recall)/(Precision + Recall)\n"
      ],
      "metadata": {
        "id": "0-0L2y6Hqmu0"
      }
    },
    {
      "cell_type": "code",
      "source": [
        "# compute TN, TP, FN, and FP\n",
        "predictionAndLabels_test_lr.groupBy('label', 'prediction').count().show()\n",
        "\n",
        "# Calculate the elements of the confusion matrix\n",
        "TN = predictionAndLabels_test_lr.\\\n",
        "      filter('prediction = 0 AND label = prediction').count()\n",
        "\n",
        "TP = predictionAndLabels_test_lr.\\\n",
        "    filter('prediction = 1 AND label = prediction').count()\n",
        "\n",
        "FN = predictionAndLabels_test_lr.\\\n",
        "    filter('prediction = 0 AND label <> prediction').count()\n",
        "\n",
        "FP = predictionAndLabels_test_lr.\\\n",
        "    filter('prediction = 1 AND label <> prediction').count()\n",
        "\n",
        "# calculate accuracy, precision, recall, and F1-score\n",
        "accuracy = (TN + TP) / (TN + TP + FN + FP)\n",
        "precision = TP / (TP + FP)\n",
        "recall = TP / (TP + FN)\n",
        "F =  2 * (precision*recall) / (precision + recall)\n",
        "\n",
        "print('n precision: %0.3f' % precision)\n",
        "print('n recall: %0.3f' % recall)\n",
        "print('n accuracy: %0.3f' % accuracy)\n",
        "print('n F1 score: %0.3f' % F)"
      ],
      "metadata": {
        "colab": {
          "base_uri": "https://localhost:8080/"
        },
        "id": "gjSwviZtplg9",
        "outputId": "46f73d19-6cca-4474-d47d-114d67560298"
      },
      "execution_count": null,
      "outputs": [
        {
          "output_type": "stream",
          "name": "stdout",
          "text": [
            "+-----+----------+-----+\n",
            "|label|prediction|count|\n",
            "+-----+----------+-----+\n",
            "|  1.0|       1.0|   43|\n",
            "|  0.0|       1.0|   35|\n",
            "|  1.0|       0.0|  125|\n",
            "|  0.0|       0.0| 1136|\n",
            "+-----+----------+-----+\n",
            "\n",
            "n precision: 0.551\n",
            "n recall: 0.256\n",
            "n accuracy: 0.881\n",
            "n F1 score: 0.350\n"
          ]
        }
      ]
    },
    {
      "cell_type": "code",
      "source": [
        "train_pred_pandas = predictionAndLabels_train_lr.toPandas()\n",
        "train_actuals = train_pred_pandas.label.tolist()\n",
        "train_predictions = train_pred_pandas.prediction.tolist()\n",
        "\n",
        "\n",
        "test_pred_pandas = predictionAndLabels_test_lr.toPandas()\n",
        "test_actuals = test_pred_pandas.label.tolist()\n",
        "test_predictions = test_pred_pandas.prediction.tolist()\n",
        "from sklearn import metrics as smetrics\n",
        "cm = smetrics.confusion_matrix(train_actuals, train_predictions)"
      ],
      "metadata": {
        "id": "WK1vedKktCp2"
      },
      "execution_count": null,
      "outputs": []
    },
    {
      "cell_type": "code",
      "source": [
        "df_cm = pd.DataFrame(cm)\n",
        "df_cm.index = ['Not Approved', 'Approved']\n",
        "df_cm.columns = ['Not Approved', 'Approved']\n",
        "names=['Not Approved', 'Approved']\n",
        "print(df_cm)\n",
        "fig = plt.figure(figsize = (10,7))\n",
        "sns.set(font_scale=1.4)#for label size\n",
        "sns.heatmap(df_cm, annot=True,fmt=\"d\",annot_kws={\"size\": 20})"
      ],
      "metadata": {
        "colab": {
          "base_uri": "https://localhost:8080/",
          "height": 505
        },
        "id": "xVx36-HltDA8",
        "outputId": "ba6ec08f-8a0d-4e47-ae0e-4b36dd208fae"
      },
      "execution_count": null,
      "outputs": [
        {
          "output_type": "stream",
          "name": "stdout",
          "text": [
            "              Not Approved  Approved\n",
            "Not Approved          2771        58\n",
            "Approved               226       127\n"
          ]
        },
        {
          "output_type": "execute_result",
          "data": {
            "text/plain": [
              "<matplotlib.axes._subplots.AxesSubplot at 0x7f3368abfbd0>"
            ]
          },
          "metadata": {},
          "execution_count": 88
        },
        {
          "output_type": "display_data",
          "data": {
            "text/plain": [
              "<Figure size 720x504 with 2 Axes>"
            ],
            "image/png": "[encoded data removed]"
          },
          "metadata": {}
        }
      ]
    },
    {
      "cell_type": "code",
      "source": [],
      "metadata": {
        "id": "to7HLml3tGkP"
      },
      "execution_count": null,
      "outputs": []
    }
  ]
}